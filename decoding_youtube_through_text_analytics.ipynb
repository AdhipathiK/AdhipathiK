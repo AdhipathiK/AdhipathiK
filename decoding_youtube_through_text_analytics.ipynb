{
  "nbformat": 4,
  "nbformat_minor": 0,
  "metadata": {
    "colab": {
      "provenance": [],
      "authorship_tag": "ABX9TyP5MQB7tuc1ikjakesLqpeg",
      "include_colab_link": true
    },
    "kernelspec": {
      "name": "python3",
      "display_name": "Python 3"
    },
    "language_info": {
      "name": "python"
    }
  },
  "cells": [
    {
      "cell_type": "markdown",
      "metadata": {
        "id": "view-in-github",
        "colab_type": "text"
      },
      "source": [
        "<a href=\"https://colab.research.google.com/github/AdhipathiK/AdhipathiK/blob/main/decoding_youtube_through_text_analytics.ipynb\" target=\"_parent\"><img src=\"https://colab.research.google.com/assets/colab-badge.svg\" alt=\"Open In Colab\"/></a>"
      ]
    },
    {
      "cell_type": "code",
      "source": [
        "!pip install textblob"
      ],
      "metadata": {
        "colab": {
          "base_uri": "https://localhost:8080/"
        },
        "id": "kGxBZwo2hl-d",
        "outputId": "d9b24ca2-2ed9-4909-a48b-d41d923dbf42"
      },
      "execution_count": 1,
      "outputs": [
        {
          "output_type": "stream",
          "name": "stdout",
          "text": [
            "Requirement already satisfied: textblob in /usr/local/lib/python3.10/dist-packages (0.17.1)\n",
            "Requirement already satisfied: nltk>=3.1 in /usr/local/lib/python3.10/dist-packages (from textblob) (3.9.1)\n",
            "Requirement already satisfied: click in /usr/local/lib/python3.10/dist-packages (from nltk>=3.1->textblob) (8.1.7)\n",
            "Requirement already satisfied: joblib in /usr/local/lib/python3.10/dist-packages (from nltk>=3.1->textblob) (1.4.2)\n",
            "Requirement already satisfied: regex>=2021.8.3 in /usr/local/lib/python3.10/dist-packages (from nltk>=3.1->textblob) (2024.9.11)\n",
            "Requirement already satisfied: tqdm in /usr/local/lib/python3.10/dist-packages (from nltk>=3.1->textblob) (4.66.6)\n"
          ]
        }
      ]
    },
    {
      "cell_type": "code",
      "source": [
        "!pip install wordcloud"
      ],
      "metadata": {
        "colab": {
          "base_uri": "https://localhost:8080/"
        },
        "id": "wyTjJeYuqQpT",
        "outputId": "c8eea522-8c92-4e2c-a62d-dbd919518213"
      },
      "execution_count": 2,
      "outputs": [
        {
          "output_type": "stream",
          "name": "stdout",
          "text": [
            "Requirement already satisfied: wordcloud in /usr/local/lib/python3.10/dist-packages (1.9.4)\n",
            "Requirement already satisfied: numpy>=1.6.1 in /usr/local/lib/python3.10/dist-packages (from wordcloud) (1.26.4)\n",
            "Requirement already satisfied: pillow in /usr/local/lib/python3.10/dist-packages (from wordcloud) (11.0.0)\n",
            "Requirement already satisfied: matplotlib in /usr/local/lib/python3.10/dist-packages (from wordcloud) (3.8.0)\n",
            "Requirement already satisfied: contourpy>=1.0.1 in /usr/local/lib/python3.10/dist-packages (from matplotlib->wordcloud) (1.3.1)\n",
            "Requirement already satisfied: cycler>=0.10 in /usr/local/lib/python3.10/dist-packages (from matplotlib->wordcloud) (0.12.1)\n",
            "Requirement already satisfied: fonttools>=4.22.0 in /usr/local/lib/python3.10/dist-packages (from matplotlib->wordcloud) (4.54.1)\n",
            "Requirement already satisfied: kiwisolver>=1.0.1 in /usr/local/lib/python3.10/dist-packages (from matplotlib->wordcloud) (1.4.7)\n",
            "Requirement already satisfied: packaging>=20.0 in /usr/local/lib/python3.10/dist-packages (from matplotlib->wordcloud) (24.2)\n",
            "Requirement already satisfied: pyparsing>=2.3.1 in /usr/local/lib/python3.10/dist-packages (from matplotlib->wordcloud) (3.2.0)\n",
            "Requirement already satisfied: python-dateutil>=2.7 in /usr/local/lib/python3.10/dist-packages (from matplotlib->wordcloud) (2.8.2)\n",
            "Requirement already satisfied: six>=1.5 in /usr/local/lib/python3.10/dist-packages (from python-dateutil>=2.7->matplotlib->wordcloud) (1.16.0)\n"
          ]
        }
      ]
    },
    {
      "cell_type": "code",
      "source": [
        "!pip install emoji==2.2.0"
      ],
      "metadata": {
        "colab": {
          "base_uri": "https://localhost:8080/"
        },
        "id": "Q5ewCZZvOmYU",
        "outputId": "a6d44b19-9712-49c1-f9fd-6b7e58dc4d62"
      },
      "execution_count": 35,
      "outputs": [
        {
          "output_type": "stream",
          "name": "stdout",
          "text": [
            "Collecting emoji==2.2.0\n",
            "  Downloading emoji-2.2.0.tar.gz (240 kB)\n",
            "\u001b[?25l     \u001b[90m━━━━━━━━━━━━━━━━━━━━━━━━━━━━━━━━━━━━━━━━\u001b[0m \u001b[32m0.0/240.9 kB\u001b[0m \u001b[31m?\u001b[0m eta \u001b[36m-:--:--\u001b[0m\r\u001b[2K     \u001b[91m━━━━━━━━━━━━━━━━━━━━━━━━━━━━━━\u001b[0m\u001b[91m╸\u001b[0m\u001b[90m━━━━━━━━━\u001b[0m \u001b[32m184.3/240.9 kB\u001b[0m \u001b[31m5.2 MB/s\u001b[0m eta \u001b[36m0:00:01\u001b[0m\r\u001b[2K     \u001b[90m━━━━━━━━━━━━━━━━━━━━━━━━━━━━━━━━━━━━━━━━\u001b[0m \u001b[32m240.9/240.9 kB\u001b[0m \u001b[31m4.6 MB/s\u001b[0m eta \u001b[36m0:00:00\u001b[0m\n",
            "\u001b[?25h  Preparing metadata (setup.py) ... \u001b[?25l\u001b[?25hdone\n",
            "Building wheels for collected packages: emoji\n",
            "  Building wheel for emoji (setup.py) ... \u001b[?25l\u001b[?25hdone\n",
            "  Created wheel for emoji: filename=emoji-2.2.0-py3-none-any.whl size=234910 sha256=d57d93ea0b0841ce701fb80f84862ccec4b33b17ee15ed01dcc5e4a7a20fe813\n",
            "  Stored in directory: /root/.cache/pip/wheels/02/3d/88/51a592b9ad17e7899126563698b4e3961983ebe85747228ba6\n",
            "Successfully built emoji\n",
            "Installing collected packages: emoji\n",
            "Successfully installed emoji-2.2.0\n"
          ]
        }
      ]
    },
    {
      "cell_type": "markdown",
      "source": [
        "**Import Library**"
      ],
      "metadata": {
        "id": "I6G8s0S6D3bR"
      }
    },
    {
      "cell_type": "code",
      "source": [
        "import pandas as pd\n",
        "import matplotlib.pyplot as plt\n",
        "from textblob import TextBlob\n",
        "from wordcloud import WordCloud, STOPWORDS\n",
        "import emoji\n",
        "from collections import Counter\n",
        "from matplotlib import rcParams\n",
        "import os\n",
        "import warnings\n",
        "from warnings import filterwarnings"
      ],
      "metadata": {
        "id": "l2vlrV_O_rTf"
      },
      "execution_count": 69,
      "outputs": []
    },
    {
      "cell_type": "markdown",
      "source": [
        "**Mount Drive**"
      ],
      "metadata": {
        "id": "5npOM4VBD9HN"
      }
    },
    {
      "cell_type": "code",
      "execution_count": 4,
      "metadata": {
        "colab": {
          "base_uri": "https://localhost:8080/"
        },
        "id": "ZHp-RsHv-S9H",
        "outputId": "c5e4e2d3-ed71-4f86-8433-7d0b474af5fd"
      },
      "outputs": [
        {
          "output_type": "stream",
          "name": "stdout",
          "text": [
            "Mounted at /content/drive\n"
          ]
        }
      ],
      "source": [
        "from google.colab import drive\n",
        "drive.mount('/content/drive')"
      ]
    },
    {
      "cell_type": "markdown",
      "source": [
        "**Read Data**\n"
      ],
      "metadata": {
        "id": "asueJX-KEAVo"
      }
    },
    {
      "cell_type": "code",
      "source": [
        "# DataFrame = comment_comment_df\n",
        "# The 'on_bad_lines=\"skip\"' parameter is used to ignore rows in the dataset that are malformed or do not conform to the expected structure,\n",
        "# preventing errors during the file read operation.\n",
        "\n",
        "comment_df = pd.read_csv('/content/drive/My Drive/portfolio_dataset/project_1/UScomments.csv', on_bad_lines='skip')"
      ],
      "metadata": {
        "colab": {
          "base_uri": "https://localhost:8080/"
        },
        "id": "LPNJzptE_qtU",
        "outputId": "1eb94007-e98e-4aa9-e2e2-7af9a0f3b4b3"
      },
      "execution_count": 60,
      "outputs": [
        {
          "output_type": "stream",
          "name": "stderr",
          "text": [
            "<ipython-input-60-e85b433c6217>:5: DtypeWarning: Columns (2,3) have mixed types. Specify dtype option on import or set low_memory=False.\n",
            "  comment_df = pd.read_csv('/content/drive/My Drive/portfolio_dataset/project_1/UScomments.csv', on_bad_lines='skip')\n"
          ]
        }
      ]
    },
    {
      "cell_type": "markdown",
      "source": [
        "**Data Interpretation**"
      ],
      "metadata": {
        "id": "lAk_GtOre05i"
      }
    },
    {
      "cell_type": "code",
      "source": [
        "print(comment_df.shape)"
      ],
      "metadata": {
        "colab": {
          "base_uri": "https://localhost:8080/"
        },
        "id": "WaVBu-ivIMDA",
        "outputId": "d49a4fe9-ec45-4cca-f287-e17f1ab1737a"
      },
      "execution_count": 6,
      "outputs": [
        {
          "output_type": "stream",
          "name": "stdout",
          "text": [
            "(691400, 4)\n"
          ]
        }
      ]
    },
    {
      "cell_type": "code",
      "source": [
        "comment_df.head()"
      ],
      "metadata": {
        "colab": {
          "base_uri": "https://localhost:8080/",
          "height": 206
        },
        "id": "ctF1HS-nDCTk",
        "outputId": "cfa085fb-d796-4fd2-bf9c-1fdf4543c1f8"
      },
      "execution_count": 7,
      "outputs": [
        {
          "output_type": "execute_result",
          "data": {
            "text/plain": [
              "      video_id                                       comment_text likes  \\\n",
              "0  XpVt6Z1Gjjo                  Logan Paul it's yo big day ‼️‼️‼️     4   \n",
              "1  XpVt6Z1Gjjo  I've been following you from the start of your...     3   \n",
              "2  XpVt6Z1Gjjo                 Say hi to Kong and maverick for me     3   \n",
              "3  XpVt6Z1Gjjo                                MY FAN . attendance     3   \n",
              "4  XpVt6Z1Gjjo                                         trending 😉     3   \n",
              "\n",
              "  replies  \n",
              "0       0  \n",
              "1       0  \n",
              "2       0  \n",
              "3       0  \n",
              "4       0  "
            ],
            "text/html": [
              "\n",
              "  <div id=\"df-5ffe0014-e09c-4b53-a2b5-1e37e3384620\" class=\"colab-df-container\">\n",
              "    <div>\n",
              "<style scoped>\n",
              "    .dataframe tbody tr th:only-of-type {\n",
              "        vertical-align: middle;\n",
              "    }\n",
              "\n",
              "    .dataframe tbody tr th {\n",
              "        vertical-align: top;\n",
              "    }\n",
              "\n",
              "    .dataframe thead th {\n",
              "        text-align: right;\n",
              "    }\n",
              "</style>\n",
              "<table border=\"1\" class=\"dataframe\">\n",
              "  <thead>\n",
              "    <tr style=\"text-align: right;\">\n",
              "      <th></th>\n",
              "      <th>video_id</th>\n",
              "      <th>comment_text</th>\n",
              "      <th>likes</th>\n",
              "      <th>replies</th>\n",
              "    </tr>\n",
              "  </thead>\n",
              "  <tbody>\n",
              "    <tr>\n",
              "      <th>0</th>\n",
              "      <td>XpVt6Z1Gjjo</td>\n",
              "      <td>Logan Paul it's yo big day ‼️‼️‼️</td>\n",
              "      <td>4</td>\n",
              "      <td>0</td>\n",
              "    </tr>\n",
              "    <tr>\n",
              "      <th>1</th>\n",
              "      <td>XpVt6Z1Gjjo</td>\n",
              "      <td>I've been following you from the start of your...</td>\n",
              "      <td>3</td>\n",
              "      <td>0</td>\n",
              "    </tr>\n",
              "    <tr>\n",
              "      <th>2</th>\n",
              "      <td>XpVt6Z1Gjjo</td>\n",
              "      <td>Say hi to Kong and maverick for me</td>\n",
              "      <td>3</td>\n",
              "      <td>0</td>\n",
              "    </tr>\n",
              "    <tr>\n",
              "      <th>3</th>\n",
              "      <td>XpVt6Z1Gjjo</td>\n",
              "      <td>MY FAN . attendance</td>\n",
              "      <td>3</td>\n",
              "      <td>0</td>\n",
              "    </tr>\n",
              "    <tr>\n",
              "      <th>4</th>\n",
              "      <td>XpVt6Z1Gjjo</td>\n",
              "      <td>trending 😉</td>\n",
              "      <td>3</td>\n",
              "      <td>0</td>\n",
              "    </tr>\n",
              "  </tbody>\n",
              "</table>\n",
              "</div>\n",
              "    <div class=\"colab-df-buttons\">\n",
              "\n",
              "  <div class=\"colab-df-container\">\n",
              "    <button class=\"colab-df-convert\" onclick=\"convertToInteractive('df-5ffe0014-e09c-4b53-a2b5-1e37e3384620')\"\n",
              "            title=\"Convert this dataframe to an interactive table.\"\n",
              "            style=\"display:none;\">\n",
              "\n",
              "  <svg xmlns=\"http://www.w3.org/2000/svg\" height=\"24px\" viewBox=\"0 -960 960 960\">\n",
              "    <path d=\"M120-120v-720h720v720H120Zm60-500h600v-160H180v160Zm220 220h160v-160H400v160Zm0 220h160v-160H400v160ZM180-400h160v-160H180v160Zm440 0h160v-160H620v160ZM180-180h160v-160H180v160Zm440 0h160v-160H620v160Z\"/>\n",
              "  </svg>\n",
              "    </button>\n",
              "\n",
              "  <style>\n",
              "    .colab-df-container {\n",
              "      display:flex;\n",
              "      gap: 12px;\n",
              "    }\n",
              "\n",
              "    .colab-df-convert {\n",
              "      background-color: #E8F0FE;\n",
              "      border: none;\n",
              "      border-radius: 50%;\n",
              "      cursor: pointer;\n",
              "      display: none;\n",
              "      fill: #1967D2;\n",
              "      height: 32px;\n",
              "      padding: 0 0 0 0;\n",
              "      width: 32px;\n",
              "    }\n",
              "\n",
              "    .colab-df-convert:hover {\n",
              "      background-color: #E2EBFA;\n",
              "      box-shadow: 0px 1px 2px rgba(60, 64, 67, 0.3), 0px 1px 3px 1px rgba(60, 64, 67, 0.15);\n",
              "      fill: #174EA6;\n",
              "    }\n",
              "\n",
              "    .colab-df-buttons div {\n",
              "      margin-bottom: 4px;\n",
              "    }\n",
              "\n",
              "    [theme=dark] .colab-df-convert {\n",
              "      background-color: #3B4455;\n",
              "      fill: #D2E3FC;\n",
              "    }\n",
              "\n",
              "    [theme=dark] .colab-df-convert:hover {\n",
              "      background-color: #434B5C;\n",
              "      box-shadow: 0px 1px 3px 1px rgba(0, 0, 0, 0.15);\n",
              "      filter: drop-shadow(0px 1px 2px rgba(0, 0, 0, 0.3));\n",
              "      fill: #FFFFFF;\n",
              "    }\n",
              "  </style>\n",
              "\n",
              "    <script>\n",
              "      const buttonEl =\n",
              "        document.querySelector('#df-5ffe0014-e09c-4b53-a2b5-1e37e3384620 button.colab-df-convert');\n",
              "      buttonEl.style.display =\n",
              "        google.colab.kernel.accessAllowed ? 'block' : 'none';\n",
              "\n",
              "      async function convertToInteractive(key) {\n",
              "        const element = document.querySelector('#df-5ffe0014-e09c-4b53-a2b5-1e37e3384620');\n",
              "        const dataTable =\n",
              "          await google.colab.kernel.invokeFunction('convertToInteractive',\n",
              "                                                    [key], {});\n",
              "        if (!dataTable) return;\n",
              "\n",
              "        const docLinkHtml = 'Like what you see? Visit the ' +\n",
              "          '<a target=\"_blank\" href=https://colab.research.google.com/notebooks/data_table.ipynb>data table notebook</a>'\n",
              "          + ' to learn more about interactive tables.';\n",
              "        element.innerHTML = '';\n",
              "        dataTable['output_type'] = 'display_data';\n",
              "        await google.colab.output.renderOutput(dataTable, element);\n",
              "        const docLink = document.createElement('div');\n",
              "        docLink.innerHTML = docLinkHtml;\n",
              "        element.appendChild(docLink);\n",
              "      }\n",
              "    </script>\n",
              "  </div>\n",
              "\n",
              "\n",
              "<div id=\"df-ed90ffe6-6380-492e-a1b8-1b35b9a276d0\">\n",
              "  <button class=\"colab-df-quickchart\" onclick=\"quickchart('df-ed90ffe6-6380-492e-a1b8-1b35b9a276d0')\"\n",
              "            title=\"Suggest charts\"\n",
              "            style=\"display:none;\">\n",
              "\n",
              "<svg xmlns=\"http://www.w3.org/2000/svg\" height=\"24px\"viewBox=\"0 0 24 24\"\n",
              "     width=\"24px\">\n",
              "    <g>\n",
              "        <path d=\"M19 3H5c-1.1 0-2 .9-2 2v14c0 1.1.9 2 2 2h14c1.1 0 2-.9 2-2V5c0-1.1-.9-2-2-2zM9 17H7v-7h2v7zm4 0h-2V7h2v10zm4 0h-2v-4h2v4z\"/>\n",
              "    </g>\n",
              "</svg>\n",
              "  </button>\n",
              "\n",
              "<style>\n",
              "  .colab-df-quickchart {\n",
              "      --bg-color: #E8F0FE;\n",
              "      --fill-color: #1967D2;\n",
              "      --hover-bg-color: #E2EBFA;\n",
              "      --hover-fill-color: #174EA6;\n",
              "      --disabled-fill-color: #AAA;\n",
              "      --disabled-bg-color: #DDD;\n",
              "  }\n",
              "\n",
              "  [theme=dark] .colab-df-quickchart {\n",
              "      --bg-color: #3B4455;\n",
              "      --fill-color: #D2E3FC;\n",
              "      --hover-bg-color: #434B5C;\n",
              "      --hover-fill-color: #FFFFFF;\n",
              "      --disabled-bg-color: #3B4455;\n",
              "      --disabled-fill-color: #666;\n",
              "  }\n",
              "\n",
              "  .colab-df-quickchart {\n",
              "    background-color: var(--bg-color);\n",
              "    border: none;\n",
              "    border-radius: 50%;\n",
              "    cursor: pointer;\n",
              "    display: none;\n",
              "    fill: var(--fill-color);\n",
              "    height: 32px;\n",
              "    padding: 0;\n",
              "    width: 32px;\n",
              "  }\n",
              "\n",
              "  .colab-df-quickchart:hover {\n",
              "    background-color: var(--hover-bg-color);\n",
              "    box-shadow: 0 1px 2px rgba(60, 64, 67, 0.3), 0 1px 3px 1px rgba(60, 64, 67, 0.15);\n",
              "    fill: var(--button-hover-fill-color);\n",
              "  }\n",
              "\n",
              "  .colab-df-quickchart-complete:disabled,\n",
              "  .colab-df-quickchart-complete:disabled:hover {\n",
              "    background-color: var(--disabled-bg-color);\n",
              "    fill: var(--disabled-fill-color);\n",
              "    box-shadow: none;\n",
              "  }\n",
              "\n",
              "  .colab-df-spinner {\n",
              "    border: 2px solid var(--fill-color);\n",
              "    border-color: transparent;\n",
              "    border-bottom-color: var(--fill-color);\n",
              "    animation:\n",
              "      spin 1s steps(1) infinite;\n",
              "  }\n",
              "\n",
              "  @keyframes spin {\n",
              "    0% {\n",
              "      border-color: transparent;\n",
              "      border-bottom-color: var(--fill-color);\n",
              "      border-left-color: var(--fill-color);\n",
              "    }\n",
              "    20% {\n",
              "      border-color: transparent;\n",
              "      border-left-color: var(--fill-color);\n",
              "      border-top-color: var(--fill-color);\n",
              "    }\n",
              "    30% {\n",
              "      border-color: transparent;\n",
              "      border-left-color: var(--fill-color);\n",
              "      border-top-color: var(--fill-color);\n",
              "      border-right-color: var(--fill-color);\n",
              "    }\n",
              "    40% {\n",
              "      border-color: transparent;\n",
              "      border-right-color: var(--fill-color);\n",
              "      border-top-color: var(--fill-color);\n",
              "    }\n",
              "    60% {\n",
              "      border-color: transparent;\n",
              "      border-right-color: var(--fill-color);\n",
              "    }\n",
              "    80% {\n",
              "      border-color: transparent;\n",
              "      border-right-color: var(--fill-color);\n",
              "      border-bottom-color: var(--fill-color);\n",
              "    }\n",
              "    90% {\n",
              "      border-color: transparent;\n",
              "      border-bottom-color: var(--fill-color);\n",
              "    }\n",
              "  }\n",
              "</style>\n",
              "\n",
              "  <script>\n",
              "    async function quickchart(key) {\n",
              "      const quickchartButtonEl =\n",
              "        document.querySelector('#' + key + ' button');\n",
              "      quickchartButtonEl.disabled = true;  // To prevent multiple clicks.\n",
              "      quickchartButtonEl.classList.add('colab-df-spinner');\n",
              "      try {\n",
              "        const charts = await google.colab.kernel.invokeFunction(\n",
              "            'suggestCharts', [key], {});\n",
              "      } catch (error) {\n",
              "        console.error('Error during call to suggestCharts:', error);\n",
              "      }\n",
              "      quickchartButtonEl.classList.remove('colab-df-spinner');\n",
              "      quickchartButtonEl.classList.add('colab-df-quickchart-complete');\n",
              "    }\n",
              "    (() => {\n",
              "      let quickchartButtonEl =\n",
              "        document.querySelector('#df-ed90ffe6-6380-492e-a1b8-1b35b9a276d0 button');\n",
              "      quickchartButtonEl.style.display =\n",
              "        google.colab.kernel.accessAllowed ? 'block' : 'none';\n",
              "    })();\n",
              "  </script>\n",
              "</div>\n",
              "    </div>\n",
              "  </div>\n"
            ],
            "application/vnd.google.colaboratory.intrinsic+json": {
              "type": "dataframe",
              "variable_name": "comment_df"
            }
          },
          "metadata": {},
          "execution_count": 7
        }
      ]
    },
    {
      "cell_type": "markdown",
      "source": [
        "**Handling Missing Values**"
      ],
      "metadata": {
        "id": "q-4B8QK9IC3X"
      }
    },
    {
      "cell_type": "code",
      "source": [
        "comment_df.isnull()"
      ],
      "metadata": {
        "colab": {
          "base_uri": "https://localhost:8080/",
          "height": 423
        },
        "id": "DOzlc46-HP5R",
        "outputId": "bfdd55bf-1bfd-4d0a-c74b-a52d0f59ea03"
      },
      "execution_count": 8,
      "outputs": [
        {
          "output_type": "execute_result",
          "data": {
            "text/plain": [
              "        video_id  comment_text  likes  replies\n",
              "0          False         False  False    False\n",
              "1          False         False  False    False\n",
              "2          False         False  False    False\n",
              "3          False         False  False    False\n",
              "4          False         False  False    False\n",
              "...          ...           ...    ...      ...\n",
              "691395     False         False  False    False\n",
              "691396     False         False  False    False\n",
              "691397     False         False  False    False\n",
              "691398     False         False  False    False\n",
              "691399     False         False  False    False\n",
              "\n",
              "[691400 rows x 4 columns]"
            ],
            "text/html": [
              "\n",
              "  <div id=\"df-ff24666d-f414-4798-99a3-be2036d395d9\" class=\"colab-df-container\">\n",
              "    <div>\n",
              "<style scoped>\n",
              "    .dataframe tbody tr th:only-of-type {\n",
              "        vertical-align: middle;\n",
              "    }\n",
              "\n",
              "    .dataframe tbody tr th {\n",
              "        vertical-align: top;\n",
              "    }\n",
              "\n",
              "    .dataframe thead th {\n",
              "        text-align: right;\n",
              "    }\n",
              "</style>\n",
              "<table border=\"1\" class=\"dataframe\">\n",
              "  <thead>\n",
              "    <tr style=\"text-align: right;\">\n",
              "      <th></th>\n",
              "      <th>video_id</th>\n",
              "      <th>comment_text</th>\n",
              "      <th>likes</th>\n",
              "      <th>replies</th>\n",
              "    </tr>\n",
              "  </thead>\n",
              "  <tbody>\n",
              "    <tr>\n",
              "      <th>0</th>\n",
              "      <td>False</td>\n",
              "      <td>False</td>\n",
              "      <td>False</td>\n",
              "      <td>False</td>\n",
              "    </tr>\n",
              "    <tr>\n",
              "      <th>1</th>\n",
              "      <td>False</td>\n",
              "      <td>False</td>\n",
              "      <td>False</td>\n",
              "      <td>False</td>\n",
              "    </tr>\n",
              "    <tr>\n",
              "      <th>2</th>\n",
              "      <td>False</td>\n",
              "      <td>False</td>\n",
              "      <td>False</td>\n",
              "      <td>False</td>\n",
              "    </tr>\n",
              "    <tr>\n",
              "      <th>3</th>\n",
              "      <td>False</td>\n",
              "      <td>False</td>\n",
              "      <td>False</td>\n",
              "      <td>False</td>\n",
              "    </tr>\n",
              "    <tr>\n",
              "      <th>4</th>\n",
              "      <td>False</td>\n",
              "      <td>False</td>\n",
              "      <td>False</td>\n",
              "      <td>False</td>\n",
              "    </tr>\n",
              "    <tr>\n",
              "      <th>...</th>\n",
              "      <td>...</td>\n",
              "      <td>...</td>\n",
              "      <td>...</td>\n",
              "      <td>...</td>\n",
              "    </tr>\n",
              "    <tr>\n",
              "      <th>691395</th>\n",
              "      <td>False</td>\n",
              "      <td>False</td>\n",
              "      <td>False</td>\n",
              "      <td>False</td>\n",
              "    </tr>\n",
              "    <tr>\n",
              "      <th>691396</th>\n",
              "      <td>False</td>\n",
              "      <td>False</td>\n",
              "      <td>False</td>\n",
              "      <td>False</td>\n",
              "    </tr>\n",
              "    <tr>\n",
              "      <th>691397</th>\n",
              "      <td>False</td>\n",
              "      <td>False</td>\n",
              "      <td>False</td>\n",
              "      <td>False</td>\n",
              "    </tr>\n",
              "    <tr>\n",
              "      <th>691398</th>\n",
              "      <td>False</td>\n",
              "      <td>False</td>\n",
              "      <td>False</td>\n",
              "      <td>False</td>\n",
              "    </tr>\n",
              "    <tr>\n",
              "      <th>691399</th>\n",
              "      <td>False</td>\n",
              "      <td>False</td>\n",
              "      <td>False</td>\n",
              "      <td>False</td>\n",
              "    </tr>\n",
              "  </tbody>\n",
              "</table>\n",
              "<p>691400 rows × 4 columns</p>\n",
              "</div>\n",
              "    <div class=\"colab-df-buttons\">\n",
              "\n",
              "  <div class=\"colab-df-container\">\n",
              "    <button class=\"colab-df-convert\" onclick=\"convertToInteractive('df-ff24666d-f414-4798-99a3-be2036d395d9')\"\n",
              "            title=\"Convert this dataframe to an interactive table.\"\n",
              "            style=\"display:none;\">\n",
              "\n",
              "  <svg xmlns=\"http://www.w3.org/2000/svg\" height=\"24px\" viewBox=\"0 -960 960 960\">\n",
              "    <path d=\"M120-120v-720h720v720H120Zm60-500h600v-160H180v160Zm220 220h160v-160H400v160Zm0 220h160v-160H400v160ZM180-400h160v-160H180v160Zm440 0h160v-160H620v160ZM180-180h160v-160H180v160Zm440 0h160v-160H620v160Z\"/>\n",
              "  </svg>\n",
              "    </button>\n",
              "\n",
              "  <style>\n",
              "    .colab-df-container {\n",
              "      display:flex;\n",
              "      gap: 12px;\n",
              "    }\n",
              "\n",
              "    .colab-df-convert {\n",
              "      background-color: #E8F0FE;\n",
              "      border: none;\n",
              "      border-radius: 50%;\n",
              "      cursor: pointer;\n",
              "      display: none;\n",
              "      fill: #1967D2;\n",
              "      height: 32px;\n",
              "      padding: 0 0 0 0;\n",
              "      width: 32px;\n",
              "    }\n",
              "\n",
              "    .colab-df-convert:hover {\n",
              "      background-color: #E2EBFA;\n",
              "      box-shadow: 0px 1px 2px rgba(60, 64, 67, 0.3), 0px 1px 3px 1px rgba(60, 64, 67, 0.15);\n",
              "      fill: #174EA6;\n",
              "    }\n",
              "\n",
              "    .colab-df-buttons div {\n",
              "      margin-bottom: 4px;\n",
              "    }\n",
              "\n",
              "    [theme=dark] .colab-df-convert {\n",
              "      background-color: #3B4455;\n",
              "      fill: #D2E3FC;\n",
              "    }\n",
              "\n",
              "    [theme=dark] .colab-df-convert:hover {\n",
              "      background-color: #434B5C;\n",
              "      box-shadow: 0px 1px 3px 1px rgba(0, 0, 0, 0.15);\n",
              "      filter: drop-shadow(0px 1px 2px rgba(0, 0, 0, 0.3));\n",
              "      fill: #FFFFFF;\n",
              "    }\n",
              "  </style>\n",
              "\n",
              "    <script>\n",
              "      const buttonEl =\n",
              "        document.querySelector('#df-ff24666d-f414-4798-99a3-be2036d395d9 button.colab-df-convert');\n",
              "      buttonEl.style.display =\n",
              "        google.colab.kernel.accessAllowed ? 'block' : 'none';\n",
              "\n",
              "      async function convertToInteractive(key) {\n",
              "        const element = document.querySelector('#df-ff24666d-f414-4798-99a3-be2036d395d9');\n",
              "        const dataTable =\n",
              "          await google.colab.kernel.invokeFunction('convertToInteractive',\n",
              "                                                    [key], {});\n",
              "        if (!dataTable) return;\n",
              "\n",
              "        const docLinkHtml = 'Like what you see? Visit the ' +\n",
              "          '<a target=\"_blank\" href=https://colab.research.google.com/notebooks/data_table.ipynb>data table notebook</a>'\n",
              "          + ' to learn more about interactive tables.';\n",
              "        element.innerHTML = '';\n",
              "        dataTable['output_type'] = 'display_data';\n",
              "        await google.colab.output.renderOutput(dataTable, element);\n",
              "        const docLink = document.createElement('div');\n",
              "        docLink.innerHTML = docLinkHtml;\n",
              "        element.appendChild(docLink);\n",
              "      }\n",
              "    </script>\n",
              "  </div>\n",
              "\n",
              "\n",
              "<div id=\"df-e8aafeac-0449-4350-b2b1-0d77e6bebcb8\">\n",
              "  <button class=\"colab-df-quickchart\" onclick=\"quickchart('df-e8aafeac-0449-4350-b2b1-0d77e6bebcb8')\"\n",
              "            title=\"Suggest charts\"\n",
              "            style=\"display:none;\">\n",
              "\n",
              "<svg xmlns=\"http://www.w3.org/2000/svg\" height=\"24px\"viewBox=\"0 0 24 24\"\n",
              "     width=\"24px\">\n",
              "    <g>\n",
              "        <path d=\"M19 3H5c-1.1 0-2 .9-2 2v14c0 1.1.9 2 2 2h14c1.1 0 2-.9 2-2V5c0-1.1-.9-2-2-2zM9 17H7v-7h2v7zm4 0h-2V7h2v10zm4 0h-2v-4h2v4z\"/>\n",
              "    </g>\n",
              "</svg>\n",
              "  </button>\n",
              "\n",
              "<style>\n",
              "  .colab-df-quickchart {\n",
              "      --bg-color: #E8F0FE;\n",
              "      --fill-color: #1967D2;\n",
              "      --hover-bg-color: #E2EBFA;\n",
              "      --hover-fill-color: #174EA6;\n",
              "      --disabled-fill-color: #AAA;\n",
              "      --disabled-bg-color: #DDD;\n",
              "  }\n",
              "\n",
              "  [theme=dark] .colab-df-quickchart {\n",
              "      --bg-color: #3B4455;\n",
              "      --fill-color: #D2E3FC;\n",
              "      --hover-bg-color: #434B5C;\n",
              "      --hover-fill-color: #FFFFFF;\n",
              "      --disabled-bg-color: #3B4455;\n",
              "      --disabled-fill-color: #666;\n",
              "  }\n",
              "\n",
              "  .colab-df-quickchart {\n",
              "    background-color: var(--bg-color);\n",
              "    border: none;\n",
              "    border-radius: 50%;\n",
              "    cursor: pointer;\n",
              "    display: none;\n",
              "    fill: var(--fill-color);\n",
              "    height: 32px;\n",
              "    padding: 0;\n",
              "    width: 32px;\n",
              "  }\n",
              "\n",
              "  .colab-df-quickchart:hover {\n",
              "    background-color: var(--hover-bg-color);\n",
              "    box-shadow: 0 1px 2px rgba(60, 64, 67, 0.3), 0 1px 3px 1px rgba(60, 64, 67, 0.15);\n",
              "    fill: var(--button-hover-fill-color);\n",
              "  }\n",
              "\n",
              "  .colab-df-quickchart-complete:disabled,\n",
              "  .colab-df-quickchart-complete:disabled:hover {\n",
              "    background-color: var(--disabled-bg-color);\n",
              "    fill: var(--disabled-fill-color);\n",
              "    box-shadow: none;\n",
              "  }\n",
              "\n",
              "  .colab-df-spinner {\n",
              "    border: 2px solid var(--fill-color);\n",
              "    border-color: transparent;\n",
              "    border-bottom-color: var(--fill-color);\n",
              "    animation:\n",
              "      spin 1s steps(1) infinite;\n",
              "  }\n",
              "\n",
              "  @keyframes spin {\n",
              "    0% {\n",
              "      border-color: transparent;\n",
              "      border-bottom-color: var(--fill-color);\n",
              "      border-left-color: var(--fill-color);\n",
              "    }\n",
              "    20% {\n",
              "      border-color: transparent;\n",
              "      border-left-color: var(--fill-color);\n",
              "      border-top-color: var(--fill-color);\n",
              "    }\n",
              "    30% {\n",
              "      border-color: transparent;\n",
              "      border-left-color: var(--fill-color);\n",
              "      border-top-color: var(--fill-color);\n",
              "      border-right-color: var(--fill-color);\n",
              "    }\n",
              "    40% {\n",
              "      border-color: transparent;\n",
              "      border-right-color: var(--fill-color);\n",
              "      border-top-color: var(--fill-color);\n",
              "    }\n",
              "    60% {\n",
              "      border-color: transparent;\n",
              "      border-right-color: var(--fill-color);\n",
              "    }\n",
              "    80% {\n",
              "      border-color: transparent;\n",
              "      border-right-color: var(--fill-color);\n",
              "      border-bottom-color: var(--fill-color);\n",
              "    }\n",
              "    90% {\n",
              "      border-color: transparent;\n",
              "      border-bottom-color: var(--fill-color);\n",
              "    }\n",
              "  }\n",
              "</style>\n",
              "\n",
              "  <script>\n",
              "    async function quickchart(key) {\n",
              "      const quickchartButtonEl =\n",
              "        document.querySelector('#' + key + ' button');\n",
              "      quickchartButtonEl.disabled = true;  // To prevent multiple clicks.\n",
              "      quickchartButtonEl.classList.add('colab-df-spinner');\n",
              "      try {\n",
              "        const charts = await google.colab.kernel.invokeFunction(\n",
              "            'suggestCharts', [key], {});\n",
              "      } catch (error) {\n",
              "        console.error('Error during call to suggestCharts:', error);\n",
              "      }\n",
              "      quickchartButtonEl.classList.remove('colab-df-spinner');\n",
              "      quickchartButtonEl.classList.add('colab-df-quickchart-complete');\n",
              "    }\n",
              "    (() => {\n",
              "      let quickchartButtonEl =\n",
              "        document.querySelector('#df-e8aafeac-0449-4350-b2b1-0d77e6bebcb8 button');\n",
              "      quickchartButtonEl.style.display =\n",
              "        google.colab.kernel.accessAllowed ? 'block' : 'none';\n",
              "    })();\n",
              "  </script>\n",
              "</div>\n",
              "    </div>\n",
              "  </div>\n"
            ],
            "application/vnd.google.colaboratory.intrinsic+json": {
              "type": "dataframe"
            }
          },
          "metadata": {},
          "execution_count": 8
        }
      ]
    },
    {
      "cell_type": "code",
      "source": [
        "comment_df.isnull().sum()"
      ],
      "metadata": {
        "colab": {
          "base_uri": "https://localhost:8080/",
          "height": 209
        },
        "id": "GusZ7lREHUZT",
        "outputId": "a03a4f8b-6714-42ea-88b7-8f693617210f"
      },
      "execution_count": 9,
      "outputs": [
        {
          "output_type": "execute_result",
          "data": {
            "text/plain": [
              "video_id         0\n",
              "comment_text    26\n",
              "likes            0\n",
              "replies          0\n",
              "dtype: int64"
            ],
            "text/html": [
              "<div>\n",
              "<style scoped>\n",
              "    .dataframe tbody tr th:only-of-type {\n",
              "        vertical-align: middle;\n",
              "    }\n",
              "\n",
              "    .dataframe tbody tr th {\n",
              "        vertical-align: top;\n",
              "    }\n",
              "\n",
              "    .dataframe thead th {\n",
              "        text-align: right;\n",
              "    }\n",
              "</style>\n",
              "<table border=\"1\" class=\"dataframe\">\n",
              "  <thead>\n",
              "    <tr style=\"text-align: right;\">\n",
              "      <th></th>\n",
              "      <th>0</th>\n",
              "    </tr>\n",
              "  </thead>\n",
              "  <tbody>\n",
              "    <tr>\n",
              "      <th>video_id</th>\n",
              "      <td>0</td>\n",
              "    </tr>\n",
              "    <tr>\n",
              "      <th>comment_text</th>\n",
              "      <td>26</td>\n",
              "    </tr>\n",
              "    <tr>\n",
              "      <th>likes</th>\n",
              "      <td>0</td>\n",
              "    </tr>\n",
              "    <tr>\n",
              "      <th>replies</th>\n",
              "      <td>0</td>\n",
              "    </tr>\n",
              "  </tbody>\n",
              "</table>\n",
              "</div><br><label><b>dtype:</b> int64</label>"
            ]
          },
          "metadata": {},
          "execution_count": 9
        }
      ]
    },
    {
      "cell_type": "code",
      "source": [
        "comment_df.dropna(inplace=True)"
      ],
      "metadata": {
        "id": "NL2XM_4QHpCf"
      },
      "execution_count": 10,
      "outputs": []
    },
    {
      "cell_type": "code",
      "source": [
        "comment_df.isnull().sum()"
      ],
      "metadata": {
        "colab": {
          "base_uri": "https://localhost:8080/",
          "height": 209
        },
        "id": "FccXrEYuH_pQ",
        "outputId": "f83c8bbf-1deb-49e9-806b-84042b6a1e46"
      },
      "execution_count": 11,
      "outputs": [
        {
          "output_type": "execute_result",
          "data": {
            "text/plain": [
              "video_id        0\n",
              "comment_text    0\n",
              "likes           0\n",
              "replies         0\n",
              "dtype: int64"
            ],
            "text/html": [
              "<div>\n",
              "<style scoped>\n",
              "    .dataframe tbody tr th:only-of-type {\n",
              "        vertical-align: middle;\n",
              "    }\n",
              "\n",
              "    .dataframe tbody tr th {\n",
              "        vertical-align: top;\n",
              "    }\n",
              "\n",
              "    .dataframe thead th {\n",
              "        text-align: right;\n",
              "    }\n",
              "</style>\n",
              "<table border=\"1\" class=\"dataframe\">\n",
              "  <thead>\n",
              "    <tr style=\"text-align: right;\">\n",
              "      <th></th>\n",
              "      <th>0</th>\n",
              "    </tr>\n",
              "  </thead>\n",
              "  <tbody>\n",
              "    <tr>\n",
              "      <th>video_id</th>\n",
              "      <td>0</td>\n",
              "    </tr>\n",
              "    <tr>\n",
              "      <th>comment_text</th>\n",
              "      <td>0</td>\n",
              "    </tr>\n",
              "    <tr>\n",
              "      <th>likes</th>\n",
              "      <td>0</td>\n",
              "    </tr>\n",
              "    <tr>\n",
              "      <th>replies</th>\n",
              "      <td>0</td>\n",
              "    </tr>\n",
              "  </tbody>\n",
              "</table>\n",
              "</div><br><label><b>dtype:</b> int64</label>"
            ]
          },
          "metadata": {},
          "execution_count": 11
        }
      ]
    },
    {
      "cell_type": "markdown",
      "source": [
        "# **Sentiment Analysis**"
      ],
      "metadata": {
        "id": "yCN5mKO3fQdn"
      }
    },
    {
      "cell_type": "markdown",
      "source": [
        "In this analysis, we will perform sentiment analysis on the **`comment_text`** feature using the **TextBlob** library. Sentiment will be measured using **polarity**, which has a range between -1 and 1:\n",
        "\n",
        "- **Closer to -1**: Indicates a negative sentiment.\n",
        "- **Closer to 0**: Indicates a neutral sentiment.\n",
        "- **Closer to 1**: Indicates a positive sentiment.\n",
        "\n",
        "This method helps us understand the emotional tone of the text in a simple and interpretable way.\n"
      ],
      "metadata": {
        "id": "UzQYTHNUgRqn"
      }
    },
    {
      "cell_type": "code",
      "source": [
        "comment_df.head()"
      ],
      "metadata": {
        "colab": {
          "base_uri": "https://localhost:8080/",
          "height": 206
        },
        "id": "Yg09FZrvfXLK",
        "outputId": "55921684-b468-44f3-fe93-cc27db3c69b8"
      },
      "execution_count": 12,
      "outputs": [
        {
          "output_type": "execute_result",
          "data": {
            "text/plain": [
              "      video_id                                       comment_text likes  \\\n",
              "0  XpVt6Z1Gjjo                  Logan Paul it's yo big day ‼️‼️‼️     4   \n",
              "1  XpVt6Z1Gjjo  I've been following you from the start of your...     3   \n",
              "2  XpVt6Z1Gjjo                 Say hi to Kong and maverick for me     3   \n",
              "3  XpVt6Z1Gjjo                                MY FAN . attendance     3   \n",
              "4  XpVt6Z1Gjjo                                         trending 😉     3   \n",
              "\n",
              "  replies  \n",
              "0       0  \n",
              "1       0  \n",
              "2       0  \n",
              "3       0  \n",
              "4       0  "
            ],
            "text/html": [
              "\n",
              "  <div id=\"df-c686931c-94c4-4981-b7da-170a5ed8f481\" class=\"colab-df-container\">\n",
              "    <div>\n",
              "<style scoped>\n",
              "    .dataframe tbody tr th:only-of-type {\n",
              "        vertical-align: middle;\n",
              "    }\n",
              "\n",
              "    .dataframe tbody tr th {\n",
              "        vertical-align: top;\n",
              "    }\n",
              "\n",
              "    .dataframe thead th {\n",
              "        text-align: right;\n",
              "    }\n",
              "</style>\n",
              "<table border=\"1\" class=\"dataframe\">\n",
              "  <thead>\n",
              "    <tr style=\"text-align: right;\">\n",
              "      <th></th>\n",
              "      <th>video_id</th>\n",
              "      <th>comment_text</th>\n",
              "      <th>likes</th>\n",
              "      <th>replies</th>\n",
              "    </tr>\n",
              "  </thead>\n",
              "  <tbody>\n",
              "    <tr>\n",
              "      <th>0</th>\n",
              "      <td>XpVt6Z1Gjjo</td>\n",
              "      <td>Logan Paul it's yo big day ‼️‼️‼️</td>\n",
              "      <td>4</td>\n",
              "      <td>0</td>\n",
              "    </tr>\n",
              "    <tr>\n",
              "      <th>1</th>\n",
              "      <td>XpVt6Z1Gjjo</td>\n",
              "      <td>I've been following you from the start of your...</td>\n",
              "      <td>3</td>\n",
              "      <td>0</td>\n",
              "    </tr>\n",
              "    <tr>\n",
              "      <th>2</th>\n",
              "      <td>XpVt6Z1Gjjo</td>\n",
              "      <td>Say hi to Kong and maverick for me</td>\n",
              "      <td>3</td>\n",
              "      <td>0</td>\n",
              "    </tr>\n",
              "    <tr>\n",
              "      <th>3</th>\n",
              "      <td>XpVt6Z1Gjjo</td>\n",
              "      <td>MY FAN . attendance</td>\n",
              "      <td>3</td>\n",
              "      <td>0</td>\n",
              "    </tr>\n",
              "    <tr>\n",
              "      <th>4</th>\n",
              "      <td>XpVt6Z1Gjjo</td>\n",
              "      <td>trending 😉</td>\n",
              "      <td>3</td>\n",
              "      <td>0</td>\n",
              "    </tr>\n",
              "  </tbody>\n",
              "</table>\n",
              "</div>\n",
              "    <div class=\"colab-df-buttons\">\n",
              "\n",
              "  <div class=\"colab-df-container\">\n",
              "    <button class=\"colab-df-convert\" onclick=\"convertToInteractive('df-c686931c-94c4-4981-b7da-170a5ed8f481')\"\n",
              "            title=\"Convert this dataframe to an interactive table.\"\n",
              "            style=\"display:none;\">\n",
              "\n",
              "  <svg xmlns=\"http://www.w3.org/2000/svg\" height=\"24px\" viewBox=\"0 -960 960 960\">\n",
              "    <path d=\"M120-120v-720h720v720H120Zm60-500h600v-160H180v160Zm220 220h160v-160H400v160Zm0 220h160v-160H400v160ZM180-400h160v-160H180v160Zm440 0h160v-160H620v160ZM180-180h160v-160H180v160Zm440 0h160v-160H620v160Z\"/>\n",
              "  </svg>\n",
              "    </button>\n",
              "\n",
              "  <style>\n",
              "    .colab-df-container {\n",
              "      display:flex;\n",
              "      gap: 12px;\n",
              "    }\n",
              "\n",
              "    .colab-df-convert {\n",
              "      background-color: #E8F0FE;\n",
              "      border: none;\n",
              "      border-radius: 50%;\n",
              "      cursor: pointer;\n",
              "      display: none;\n",
              "      fill: #1967D2;\n",
              "      height: 32px;\n",
              "      padding: 0 0 0 0;\n",
              "      width: 32px;\n",
              "    }\n",
              "\n",
              "    .colab-df-convert:hover {\n",
              "      background-color: #E2EBFA;\n",
              "      box-shadow: 0px 1px 2px rgba(60, 64, 67, 0.3), 0px 1px 3px 1px rgba(60, 64, 67, 0.15);\n",
              "      fill: #174EA6;\n",
              "    }\n",
              "\n",
              "    .colab-df-buttons div {\n",
              "      margin-bottom: 4px;\n",
              "    }\n",
              "\n",
              "    [theme=dark] .colab-df-convert {\n",
              "      background-color: #3B4455;\n",
              "      fill: #D2E3FC;\n",
              "    }\n",
              "\n",
              "    [theme=dark] .colab-df-convert:hover {\n",
              "      background-color: #434B5C;\n",
              "      box-shadow: 0px 1px 3px 1px rgba(0, 0, 0, 0.15);\n",
              "      filter: drop-shadow(0px 1px 2px rgba(0, 0, 0, 0.3));\n",
              "      fill: #FFFFFF;\n",
              "    }\n",
              "  </style>\n",
              "\n",
              "    <script>\n",
              "      const buttonEl =\n",
              "        document.querySelector('#df-c686931c-94c4-4981-b7da-170a5ed8f481 button.colab-df-convert');\n",
              "      buttonEl.style.display =\n",
              "        google.colab.kernel.accessAllowed ? 'block' : 'none';\n",
              "\n",
              "      async function convertToInteractive(key) {\n",
              "        const element = document.querySelector('#df-c686931c-94c4-4981-b7da-170a5ed8f481');\n",
              "        const dataTable =\n",
              "          await google.colab.kernel.invokeFunction('convertToInteractive',\n",
              "                                                    [key], {});\n",
              "        if (!dataTable) return;\n",
              "\n",
              "        const docLinkHtml = 'Like what you see? Visit the ' +\n",
              "          '<a target=\"_blank\" href=https://colab.research.google.com/notebooks/data_table.ipynb>data table notebook</a>'\n",
              "          + ' to learn more about interactive tables.';\n",
              "        element.innerHTML = '';\n",
              "        dataTable['output_type'] = 'display_data';\n",
              "        await google.colab.output.renderOutput(dataTable, element);\n",
              "        const docLink = document.createElement('div');\n",
              "        docLink.innerHTML = docLinkHtml;\n",
              "        element.appendChild(docLink);\n",
              "      }\n",
              "    </script>\n",
              "  </div>\n",
              "\n",
              "\n",
              "<div id=\"df-831fc8ec-aec5-4d82-b75c-d1e3727d9fd3\">\n",
              "  <button class=\"colab-df-quickchart\" onclick=\"quickchart('df-831fc8ec-aec5-4d82-b75c-d1e3727d9fd3')\"\n",
              "            title=\"Suggest charts\"\n",
              "            style=\"display:none;\">\n",
              "\n",
              "<svg xmlns=\"http://www.w3.org/2000/svg\" height=\"24px\"viewBox=\"0 0 24 24\"\n",
              "     width=\"24px\">\n",
              "    <g>\n",
              "        <path d=\"M19 3H5c-1.1 0-2 .9-2 2v14c0 1.1.9 2 2 2h14c1.1 0 2-.9 2-2V5c0-1.1-.9-2-2-2zM9 17H7v-7h2v7zm4 0h-2V7h2v10zm4 0h-2v-4h2v4z\"/>\n",
              "    </g>\n",
              "</svg>\n",
              "  </button>\n",
              "\n",
              "<style>\n",
              "  .colab-df-quickchart {\n",
              "      --bg-color: #E8F0FE;\n",
              "      --fill-color: #1967D2;\n",
              "      --hover-bg-color: #E2EBFA;\n",
              "      --hover-fill-color: #174EA6;\n",
              "      --disabled-fill-color: #AAA;\n",
              "      --disabled-bg-color: #DDD;\n",
              "  }\n",
              "\n",
              "  [theme=dark] .colab-df-quickchart {\n",
              "      --bg-color: #3B4455;\n",
              "      --fill-color: #D2E3FC;\n",
              "      --hover-bg-color: #434B5C;\n",
              "      --hover-fill-color: #FFFFFF;\n",
              "      --disabled-bg-color: #3B4455;\n",
              "      --disabled-fill-color: #666;\n",
              "  }\n",
              "\n",
              "  .colab-df-quickchart {\n",
              "    background-color: var(--bg-color);\n",
              "    border: none;\n",
              "    border-radius: 50%;\n",
              "    cursor: pointer;\n",
              "    display: none;\n",
              "    fill: var(--fill-color);\n",
              "    height: 32px;\n",
              "    padding: 0;\n",
              "    width: 32px;\n",
              "  }\n",
              "\n",
              "  .colab-df-quickchart:hover {\n",
              "    background-color: var(--hover-bg-color);\n",
              "    box-shadow: 0 1px 2px rgba(60, 64, 67, 0.3), 0 1px 3px 1px rgba(60, 64, 67, 0.15);\n",
              "    fill: var(--button-hover-fill-color);\n",
              "  }\n",
              "\n",
              "  .colab-df-quickchart-complete:disabled,\n",
              "  .colab-df-quickchart-complete:disabled:hover {\n",
              "    background-color: var(--disabled-bg-color);\n",
              "    fill: var(--disabled-fill-color);\n",
              "    box-shadow: none;\n",
              "  }\n",
              "\n",
              "  .colab-df-spinner {\n",
              "    border: 2px solid var(--fill-color);\n",
              "    border-color: transparent;\n",
              "    border-bottom-color: var(--fill-color);\n",
              "    animation:\n",
              "      spin 1s steps(1) infinite;\n",
              "  }\n",
              "\n",
              "  @keyframes spin {\n",
              "    0% {\n",
              "      border-color: transparent;\n",
              "      border-bottom-color: var(--fill-color);\n",
              "      border-left-color: var(--fill-color);\n",
              "    }\n",
              "    20% {\n",
              "      border-color: transparent;\n",
              "      border-left-color: var(--fill-color);\n",
              "      border-top-color: var(--fill-color);\n",
              "    }\n",
              "    30% {\n",
              "      border-color: transparent;\n",
              "      border-left-color: var(--fill-color);\n",
              "      border-top-color: var(--fill-color);\n",
              "      border-right-color: var(--fill-color);\n",
              "    }\n",
              "    40% {\n",
              "      border-color: transparent;\n",
              "      border-right-color: var(--fill-color);\n",
              "      border-top-color: var(--fill-color);\n",
              "    }\n",
              "    60% {\n",
              "      border-color: transparent;\n",
              "      border-right-color: var(--fill-color);\n",
              "    }\n",
              "    80% {\n",
              "      border-color: transparent;\n",
              "      border-right-color: var(--fill-color);\n",
              "      border-bottom-color: var(--fill-color);\n",
              "    }\n",
              "    90% {\n",
              "      border-color: transparent;\n",
              "      border-bottom-color: var(--fill-color);\n",
              "    }\n",
              "  }\n",
              "</style>\n",
              "\n",
              "  <script>\n",
              "    async function quickchart(key) {\n",
              "      const quickchartButtonEl =\n",
              "        document.querySelector('#' + key + ' button');\n",
              "      quickchartButtonEl.disabled = true;  // To prevent multiple clicks.\n",
              "      quickchartButtonEl.classList.add('colab-df-spinner');\n",
              "      try {\n",
              "        const charts = await google.colab.kernel.invokeFunction(\n",
              "            'suggestCharts', [key], {});\n",
              "      } catch (error) {\n",
              "        console.error('Error during call to suggestCharts:', error);\n",
              "      }\n",
              "      quickchartButtonEl.classList.remove('colab-df-spinner');\n",
              "      quickchartButtonEl.classList.add('colab-df-quickchart-complete');\n",
              "    }\n",
              "    (() => {\n",
              "      let quickchartButtonEl =\n",
              "        document.querySelector('#df-831fc8ec-aec5-4d82-b75c-d1e3727d9fd3 button');\n",
              "      quickchartButtonEl.style.display =\n",
              "        google.colab.kernel.accessAllowed ? 'block' : 'none';\n",
              "    })();\n",
              "  </script>\n",
              "</div>\n",
              "    </div>\n",
              "  </div>\n"
            ],
            "application/vnd.google.colaboratory.intrinsic+json": {
              "type": "dataframe",
              "variable_name": "comment_df"
            }
          },
          "metadata": {},
          "execution_count": 12
        }
      ]
    },
    {
      "cell_type": "code",
      "source": [
        "TextBlob(\"Logan Paul it's yo big day ‼️‼️‼️\").sentiment"
      ],
      "metadata": {
        "colab": {
          "base_uri": "https://localhost:8080/"
        },
        "id": "sbblDZw7iYdh",
        "outputId": "ae1fb18c-ffbe-443c-b342-adb5e763923e"
      },
      "execution_count": 13,
      "outputs": [
        {
          "output_type": "execute_result",
          "data": {
            "text/plain": [
              "Sentiment(polarity=0.0, subjectivity=0.1)"
            ]
          },
          "metadata": {},
          "execution_count": 13
        }
      ]
    },
    {
      "cell_type": "code",
      "source": [
        "TextBlob(\"Logan Paul it's yo big day ‼️‼️‼️\").sentiment.polarity"
      ],
      "metadata": {
        "colab": {
          "base_uri": "https://localhost:8080/"
        },
        "id": "KsnvA7Ani3ch",
        "outputId": "7667bc9d-bac6-4d95-d65b-a25126805bbb"
      },
      "execution_count": 14,
      "outputs": [
        {
          "output_type": "execute_result",
          "data": {
            "text/plain": [
              "0.0"
            ]
          },
          "metadata": {},
          "execution_count": 14
        }
      ]
    },
    {
      "cell_type": "code",
      "source": [
        "sample_comment_df = comment_df[0:1000]"
      ],
      "metadata": {
        "id": "ukcpnZ2Ol8ao"
      },
      "execution_count": 15,
      "outputs": []
    },
    {
      "cell_type": "code",
      "source": [
        "polarity =[]\n",
        "\n",
        "for cmt in sample_comment_df['comment_text']:\n",
        "  try:\n",
        "    polarity.append(TextBlob(cmt).sentiment.polarity)\n",
        "  except:\n",
        "    polarity.append(0)"
      ],
      "metadata": {
        "id": "0U5eLB2ti7Ng"
      },
      "execution_count": 16,
      "outputs": []
    },
    {
      "cell_type": "code",
      "source": [
        "sample_comment_df['polarity'] = polarity"
      ],
      "metadata": {
        "colab": {
          "base_uri": "https://localhost:8080/"
        },
        "id": "LSudtr8Dmi25",
        "outputId": "86fc1966-ef27-4cfa-f163-51ce095b83c3"
      },
      "execution_count": 17,
      "outputs": [
        {
          "output_type": "stream",
          "name": "stderr",
          "text": [
            "<ipython-input-17-a7bc29a8210a>:1: SettingWithCopyWarning: \n",
            "A value is trying to be set on a copy of a slice from a DataFrame.\n",
            "Try using .loc[row_indexer,col_indexer] = value instead\n",
            "\n",
            "See the caveats in the documentation: https://pandas.pydata.org/pandas-docs/stable/user_guide/indexing.html#returning-a-view-versus-a-copy\n",
            "  sample_comment_df['polarity'] = polarity\n"
          ]
        }
      ]
    },
    {
      "cell_type": "code",
      "source": [
        "sample_comment_df.head()"
      ],
      "metadata": {
        "colab": {
          "base_uri": "https://localhost:8080/",
          "height": 206
        },
        "id": "0YeIV22BmzSB",
        "outputId": "05223c0b-f4c1-490b-bd4a-0ee6d5c9b796"
      },
      "execution_count": 18,
      "outputs": [
        {
          "output_type": "execute_result",
          "data": {
            "text/plain": [
              "      video_id                                       comment_text likes  \\\n",
              "0  XpVt6Z1Gjjo                  Logan Paul it's yo big day ‼️‼️‼️     4   \n",
              "1  XpVt6Z1Gjjo  I've been following you from the start of your...     3   \n",
              "2  XpVt6Z1Gjjo                 Say hi to Kong and maverick for me     3   \n",
              "3  XpVt6Z1Gjjo                                MY FAN . attendance     3   \n",
              "4  XpVt6Z1Gjjo                                         trending 😉     3   \n",
              "\n",
              "  replies  polarity  \n",
              "0       0       0.0  \n",
              "1       0       0.0  \n",
              "2       0       0.0  \n",
              "3       0       0.0  \n",
              "4       0       0.0  "
            ],
            "text/html": [
              "\n",
              "  <div id=\"df-b94d0812-ab29-445c-91e9-7530b19bb2f4\" class=\"colab-df-container\">\n",
              "    <div>\n",
              "<style scoped>\n",
              "    .dataframe tbody tr th:only-of-type {\n",
              "        vertical-align: middle;\n",
              "    }\n",
              "\n",
              "    .dataframe tbody tr th {\n",
              "        vertical-align: top;\n",
              "    }\n",
              "\n",
              "    .dataframe thead th {\n",
              "        text-align: right;\n",
              "    }\n",
              "</style>\n",
              "<table border=\"1\" class=\"dataframe\">\n",
              "  <thead>\n",
              "    <tr style=\"text-align: right;\">\n",
              "      <th></th>\n",
              "      <th>video_id</th>\n",
              "      <th>comment_text</th>\n",
              "      <th>likes</th>\n",
              "      <th>replies</th>\n",
              "      <th>polarity</th>\n",
              "    </tr>\n",
              "  </thead>\n",
              "  <tbody>\n",
              "    <tr>\n",
              "      <th>0</th>\n",
              "      <td>XpVt6Z1Gjjo</td>\n",
              "      <td>Logan Paul it's yo big day ‼️‼️‼️</td>\n",
              "      <td>4</td>\n",
              "      <td>0</td>\n",
              "      <td>0.0</td>\n",
              "    </tr>\n",
              "    <tr>\n",
              "      <th>1</th>\n",
              "      <td>XpVt6Z1Gjjo</td>\n",
              "      <td>I've been following you from the start of your...</td>\n",
              "      <td>3</td>\n",
              "      <td>0</td>\n",
              "      <td>0.0</td>\n",
              "    </tr>\n",
              "    <tr>\n",
              "      <th>2</th>\n",
              "      <td>XpVt6Z1Gjjo</td>\n",
              "      <td>Say hi to Kong and maverick for me</td>\n",
              "      <td>3</td>\n",
              "      <td>0</td>\n",
              "      <td>0.0</td>\n",
              "    </tr>\n",
              "    <tr>\n",
              "      <th>3</th>\n",
              "      <td>XpVt6Z1Gjjo</td>\n",
              "      <td>MY FAN . attendance</td>\n",
              "      <td>3</td>\n",
              "      <td>0</td>\n",
              "      <td>0.0</td>\n",
              "    </tr>\n",
              "    <tr>\n",
              "      <th>4</th>\n",
              "      <td>XpVt6Z1Gjjo</td>\n",
              "      <td>trending 😉</td>\n",
              "      <td>3</td>\n",
              "      <td>0</td>\n",
              "      <td>0.0</td>\n",
              "    </tr>\n",
              "  </tbody>\n",
              "</table>\n",
              "</div>\n",
              "    <div class=\"colab-df-buttons\">\n",
              "\n",
              "  <div class=\"colab-df-container\">\n",
              "    <button class=\"colab-df-convert\" onclick=\"convertToInteractive('df-b94d0812-ab29-445c-91e9-7530b19bb2f4')\"\n",
              "            title=\"Convert this dataframe to an interactive table.\"\n",
              "            style=\"display:none;\">\n",
              "\n",
              "  <svg xmlns=\"http://www.w3.org/2000/svg\" height=\"24px\" viewBox=\"0 -960 960 960\">\n",
              "    <path d=\"M120-120v-720h720v720H120Zm60-500h600v-160H180v160Zm220 220h160v-160H400v160Zm0 220h160v-160H400v160ZM180-400h160v-160H180v160Zm440 0h160v-160H620v160ZM180-180h160v-160H180v160Zm440 0h160v-160H620v160Z\"/>\n",
              "  </svg>\n",
              "    </button>\n",
              "\n",
              "  <style>\n",
              "    .colab-df-container {\n",
              "      display:flex;\n",
              "      gap: 12px;\n",
              "    }\n",
              "\n",
              "    .colab-df-convert {\n",
              "      background-color: #E8F0FE;\n",
              "      border: none;\n",
              "      border-radius: 50%;\n",
              "      cursor: pointer;\n",
              "      display: none;\n",
              "      fill: #1967D2;\n",
              "      height: 32px;\n",
              "      padding: 0 0 0 0;\n",
              "      width: 32px;\n",
              "    }\n",
              "\n",
              "    .colab-df-convert:hover {\n",
              "      background-color: #E2EBFA;\n",
              "      box-shadow: 0px 1px 2px rgba(60, 64, 67, 0.3), 0px 1px 3px 1px rgba(60, 64, 67, 0.15);\n",
              "      fill: #174EA6;\n",
              "    }\n",
              "\n",
              "    .colab-df-buttons div {\n",
              "      margin-bottom: 4px;\n",
              "    }\n",
              "\n",
              "    [theme=dark] .colab-df-convert {\n",
              "      background-color: #3B4455;\n",
              "      fill: #D2E3FC;\n",
              "    }\n",
              "\n",
              "    [theme=dark] .colab-df-convert:hover {\n",
              "      background-color: #434B5C;\n",
              "      box-shadow: 0px 1px 3px 1px rgba(0, 0, 0, 0.15);\n",
              "      filter: drop-shadow(0px 1px 2px rgba(0, 0, 0, 0.3));\n",
              "      fill: #FFFFFF;\n",
              "    }\n",
              "  </style>\n",
              "\n",
              "    <script>\n",
              "      const buttonEl =\n",
              "        document.querySelector('#df-b94d0812-ab29-445c-91e9-7530b19bb2f4 button.colab-df-convert');\n",
              "      buttonEl.style.display =\n",
              "        google.colab.kernel.accessAllowed ? 'block' : 'none';\n",
              "\n",
              "      async function convertToInteractive(key) {\n",
              "        const element = document.querySelector('#df-b94d0812-ab29-445c-91e9-7530b19bb2f4');\n",
              "        const dataTable =\n",
              "          await google.colab.kernel.invokeFunction('convertToInteractive',\n",
              "                                                    [key], {});\n",
              "        if (!dataTable) return;\n",
              "\n",
              "        const docLinkHtml = 'Like what you see? Visit the ' +\n",
              "          '<a target=\"_blank\" href=https://colab.research.google.com/notebooks/data_table.ipynb>data table notebook</a>'\n",
              "          + ' to learn more about interactive tables.';\n",
              "        element.innerHTML = '';\n",
              "        dataTable['output_type'] = 'display_data';\n",
              "        await google.colab.output.renderOutput(dataTable, element);\n",
              "        const docLink = document.createElement('div');\n",
              "        docLink.innerHTML = docLinkHtml;\n",
              "        element.appendChild(docLink);\n",
              "      }\n",
              "    </script>\n",
              "  </div>\n",
              "\n",
              "\n",
              "<div id=\"df-db5e63d2-498e-44f1-a9e0-344b03f40222\">\n",
              "  <button class=\"colab-df-quickchart\" onclick=\"quickchart('df-db5e63d2-498e-44f1-a9e0-344b03f40222')\"\n",
              "            title=\"Suggest charts\"\n",
              "            style=\"display:none;\">\n",
              "\n",
              "<svg xmlns=\"http://www.w3.org/2000/svg\" height=\"24px\"viewBox=\"0 0 24 24\"\n",
              "     width=\"24px\">\n",
              "    <g>\n",
              "        <path d=\"M19 3H5c-1.1 0-2 .9-2 2v14c0 1.1.9 2 2 2h14c1.1 0 2-.9 2-2V5c0-1.1-.9-2-2-2zM9 17H7v-7h2v7zm4 0h-2V7h2v10zm4 0h-2v-4h2v4z\"/>\n",
              "    </g>\n",
              "</svg>\n",
              "  </button>\n",
              "\n",
              "<style>\n",
              "  .colab-df-quickchart {\n",
              "      --bg-color: #E8F0FE;\n",
              "      --fill-color: #1967D2;\n",
              "      --hover-bg-color: #E2EBFA;\n",
              "      --hover-fill-color: #174EA6;\n",
              "      --disabled-fill-color: #AAA;\n",
              "      --disabled-bg-color: #DDD;\n",
              "  }\n",
              "\n",
              "  [theme=dark] .colab-df-quickchart {\n",
              "      --bg-color: #3B4455;\n",
              "      --fill-color: #D2E3FC;\n",
              "      --hover-bg-color: #434B5C;\n",
              "      --hover-fill-color: #FFFFFF;\n",
              "      --disabled-bg-color: #3B4455;\n",
              "      --disabled-fill-color: #666;\n",
              "  }\n",
              "\n",
              "  .colab-df-quickchart {\n",
              "    background-color: var(--bg-color);\n",
              "    border: none;\n",
              "    border-radius: 50%;\n",
              "    cursor: pointer;\n",
              "    display: none;\n",
              "    fill: var(--fill-color);\n",
              "    height: 32px;\n",
              "    padding: 0;\n",
              "    width: 32px;\n",
              "  }\n",
              "\n",
              "  .colab-df-quickchart:hover {\n",
              "    background-color: var(--hover-bg-color);\n",
              "    box-shadow: 0 1px 2px rgba(60, 64, 67, 0.3), 0 1px 3px 1px rgba(60, 64, 67, 0.15);\n",
              "    fill: var(--button-hover-fill-color);\n",
              "  }\n",
              "\n",
              "  .colab-df-quickchart-complete:disabled,\n",
              "  .colab-df-quickchart-complete:disabled:hover {\n",
              "    background-color: var(--disabled-bg-color);\n",
              "    fill: var(--disabled-fill-color);\n",
              "    box-shadow: none;\n",
              "  }\n",
              "\n",
              "  .colab-df-spinner {\n",
              "    border: 2px solid var(--fill-color);\n",
              "    border-color: transparent;\n",
              "    border-bottom-color: var(--fill-color);\n",
              "    animation:\n",
              "      spin 1s steps(1) infinite;\n",
              "  }\n",
              "\n",
              "  @keyframes spin {\n",
              "    0% {\n",
              "      border-color: transparent;\n",
              "      border-bottom-color: var(--fill-color);\n",
              "      border-left-color: var(--fill-color);\n",
              "    }\n",
              "    20% {\n",
              "      border-color: transparent;\n",
              "      border-left-color: var(--fill-color);\n",
              "      border-top-color: var(--fill-color);\n",
              "    }\n",
              "    30% {\n",
              "      border-color: transparent;\n",
              "      border-left-color: var(--fill-color);\n",
              "      border-top-color: var(--fill-color);\n",
              "      border-right-color: var(--fill-color);\n",
              "    }\n",
              "    40% {\n",
              "      border-color: transparent;\n",
              "      border-right-color: var(--fill-color);\n",
              "      border-top-color: var(--fill-color);\n",
              "    }\n",
              "    60% {\n",
              "      border-color: transparent;\n",
              "      border-right-color: var(--fill-color);\n",
              "    }\n",
              "    80% {\n",
              "      border-color: transparent;\n",
              "      border-right-color: var(--fill-color);\n",
              "      border-bottom-color: var(--fill-color);\n",
              "    }\n",
              "    90% {\n",
              "      border-color: transparent;\n",
              "      border-bottom-color: var(--fill-color);\n",
              "    }\n",
              "  }\n",
              "</style>\n",
              "\n",
              "  <script>\n",
              "    async function quickchart(key) {\n",
              "      const quickchartButtonEl =\n",
              "        document.querySelector('#' + key + ' button');\n",
              "      quickchartButtonEl.disabled = true;  // To prevent multiple clicks.\n",
              "      quickchartButtonEl.classList.add('colab-df-spinner');\n",
              "      try {\n",
              "        const charts = await google.colab.kernel.invokeFunction(\n",
              "            'suggestCharts', [key], {});\n",
              "      } catch (error) {\n",
              "        console.error('Error during call to suggestCharts:', error);\n",
              "      }\n",
              "      quickchartButtonEl.classList.remove('colab-df-spinner');\n",
              "      quickchartButtonEl.classList.add('colab-df-quickchart-complete');\n",
              "    }\n",
              "    (() => {\n",
              "      let quickchartButtonEl =\n",
              "        document.querySelector('#df-db5e63d2-498e-44f1-a9e0-344b03f40222 button');\n",
              "      quickchartButtonEl.style.display =\n",
              "        google.colab.kernel.accessAllowed ? 'block' : 'none';\n",
              "    })();\n",
              "  </script>\n",
              "</div>\n",
              "    </div>\n",
              "  </div>\n"
            ],
            "application/vnd.google.colaboratory.intrinsic+json": {
              "type": "dataframe",
              "variable_name": "sample_comment_df",
              "summary": "{\n  \"name\": \"sample_comment_df\",\n  \"rows\": 1000,\n  \"fields\": [\n    {\n      \"column\": \"video_id\",\n      \"properties\": {\n        \"dtype\": \"category\",\n        \"num_unique_values\": 11,\n        \"samples\": [\n          \"8wNr-NQImFg\",\n          \"XpVt6Z1Gjjo\",\n          \"Ayb_2qbZHm4\"\n        ],\n        \"semantic_type\": \"\",\n        \"description\": \"\"\n      }\n    },\n    {\n      \"column\": \"comment_text\",\n      \"properties\": {\n        \"dtype\": \"string\",\n        \"num_unique_values\": 991,\n        \"samples\": [\n          \"I'm not an apple fan, had iPhones for years in the past before being overcome with boredom stemming from the stagnant design and underwhelming yearly reveals. Currently loving on my gorgeous s8 plus, HOWEVER, the iPhone X is absolutely beautiful, and for the first time in years I'm actually kind of excited about an apple product. Also can't wait to see how Samsung responds, competition means better products for consumers. Nice work apple:)\",\n          \"\\ud83d\\udc48 watch by clicking here you can see People's are entertaining\",\n          \"I hope the media stays on top of Carson's HUD, any other federal agencies where woefully unqualified cronies have been installed. Their incompetence and results need to be reported so we can see what happens when people think government and experience in government doesn't matter.\"\n        ],\n        \"semantic_type\": \"\",\n        \"description\": \"\"\n      }\n    },\n    {\n      \"column\": \"likes\",\n      \"properties\": {\n        \"dtype\": \"category\",\n        \"num_unique_values\": 8,\n        \"samples\": [\n          \"3\",\n          \"2301\",\n          \"4\"\n        ],\n        \"semantic_type\": \"\",\n        \"description\": \"\"\n      }\n    },\n    {\n      \"column\": \"replies\",\n      \"properties\": {\n        \"dtype\": \"category\",\n        \"num_unique_values\": 5,\n        \"samples\": [\n          \"1\",\n          \"261\",\n          \"500\"\n        ],\n        \"semantic_type\": \"\",\n        \"description\": \"\"\n      }\n    },\n    {\n      \"column\": \"polarity\",\n      \"properties\": {\n        \"dtype\": \"number\",\n        \"std\": 0.33258683669571504,\n        \"min\": -1.0,\n        \"max\": 1.0,\n        \"num_unique_values\": 251,\n        \"samples\": [\n          0.09722222222222224,\n          -0.2916666666666667,\n          0.3444444444444444\n        ],\n        \"semantic_type\": \"\",\n        \"description\": \"\"\n      }\n    }\n  ]\n}"
            }
          },
          "metadata": {},
          "execution_count": 18
        }
      ]
    },
    {
      "cell_type": "markdown",
      "source": [
        "# **Wordcloud Analysis**"
      ],
      "metadata": {
        "id": "Y2TYJiFsnBqa"
      }
    },
    {
      "cell_type": "code",
      "source": [
        "positive_comment = sample_comment_df['polarity'] == 1"
      ],
      "metadata": {
        "id": "_7HhiurWosbx"
      },
      "execution_count": 19,
      "outputs": []
    },
    {
      "cell_type": "code",
      "source": [
        "positive_comment_df = sample_comment_df[positive_comment]"
      ],
      "metadata": {
        "id": "YKzjnPQ_tiSX"
      },
      "execution_count": 20,
      "outputs": []
    },
    {
      "cell_type": "code",
      "source": [
        "sample_comment_df[positive_comment].head()"
      ],
      "metadata": {
        "colab": {
          "base_uri": "https://localhost:8080/",
          "height": 206
        },
        "id": "ujSswkJGosY0",
        "outputId": "7082f193-c9b1-4720-c4de-cd3dbc990c7b"
      },
      "execution_count": 21,
      "outputs": [
        {
          "output_type": "execute_result",
          "data": {
            "text/plain": [
              "        video_id                                       comment_text likes  \\\n",
              "64   XpVt6Z1Gjjo                                    yu are the best     1   \n",
              "156  cLdxuaxaQwc  Power is the disease.  Care is the cure.  Keep...     0   \n",
              "227  WYYvHb03Eog  YAS Can't wait to get it! I just need to sell ...     0   \n",
              "307  sjlHnJvXdQs                                  This is priceless     0   \n",
              "319  sjlHnJvXdQs                                Summed up perfectly     0   \n",
              "\n",
              "    replies  polarity  \n",
              "64        0       1.0  \n",
              "156       0       1.0  \n",
              "227       0       1.0  \n",
              "307       0       1.0  \n",
              "319       0       1.0  "
            ],
            "text/html": [
              "\n",
              "  <div id=\"df-242ba446-4bd3-4a06-becc-800876d6a49f\" class=\"colab-df-container\">\n",
              "    <div>\n",
              "<style scoped>\n",
              "    .dataframe tbody tr th:only-of-type {\n",
              "        vertical-align: middle;\n",
              "    }\n",
              "\n",
              "    .dataframe tbody tr th {\n",
              "        vertical-align: top;\n",
              "    }\n",
              "\n",
              "    .dataframe thead th {\n",
              "        text-align: right;\n",
              "    }\n",
              "</style>\n",
              "<table border=\"1\" class=\"dataframe\">\n",
              "  <thead>\n",
              "    <tr style=\"text-align: right;\">\n",
              "      <th></th>\n",
              "      <th>video_id</th>\n",
              "      <th>comment_text</th>\n",
              "      <th>likes</th>\n",
              "      <th>replies</th>\n",
              "      <th>polarity</th>\n",
              "    </tr>\n",
              "  </thead>\n",
              "  <tbody>\n",
              "    <tr>\n",
              "      <th>64</th>\n",
              "      <td>XpVt6Z1Gjjo</td>\n",
              "      <td>yu are the best</td>\n",
              "      <td>1</td>\n",
              "      <td>0</td>\n",
              "      <td>1.0</td>\n",
              "    </tr>\n",
              "    <tr>\n",
              "      <th>156</th>\n",
              "      <td>cLdxuaxaQwc</td>\n",
              "      <td>Power is the disease.  Care is the cure.  Keep...</td>\n",
              "      <td>0</td>\n",
              "      <td>0</td>\n",
              "      <td>1.0</td>\n",
              "    </tr>\n",
              "    <tr>\n",
              "      <th>227</th>\n",
              "      <td>WYYvHb03Eog</td>\n",
              "      <td>YAS Can't wait to get it! I just need to sell ...</td>\n",
              "      <td>0</td>\n",
              "      <td>0</td>\n",
              "      <td>1.0</td>\n",
              "    </tr>\n",
              "    <tr>\n",
              "      <th>307</th>\n",
              "      <td>sjlHnJvXdQs</td>\n",
              "      <td>This is priceless</td>\n",
              "      <td>0</td>\n",
              "      <td>0</td>\n",
              "      <td>1.0</td>\n",
              "    </tr>\n",
              "    <tr>\n",
              "      <th>319</th>\n",
              "      <td>sjlHnJvXdQs</td>\n",
              "      <td>Summed up perfectly</td>\n",
              "      <td>0</td>\n",
              "      <td>0</td>\n",
              "      <td>1.0</td>\n",
              "    </tr>\n",
              "  </tbody>\n",
              "</table>\n",
              "</div>\n",
              "    <div class=\"colab-df-buttons\">\n",
              "\n",
              "  <div class=\"colab-df-container\">\n",
              "    <button class=\"colab-df-convert\" onclick=\"convertToInteractive('df-242ba446-4bd3-4a06-becc-800876d6a49f')\"\n",
              "            title=\"Convert this dataframe to an interactive table.\"\n",
              "            style=\"display:none;\">\n",
              "\n",
              "  <svg xmlns=\"http://www.w3.org/2000/svg\" height=\"24px\" viewBox=\"0 -960 960 960\">\n",
              "    <path d=\"M120-120v-720h720v720H120Zm60-500h600v-160H180v160Zm220 220h160v-160H400v160Zm0 220h160v-160H400v160ZM180-400h160v-160H180v160Zm440 0h160v-160H620v160ZM180-180h160v-160H180v160Zm440 0h160v-160H620v160Z\"/>\n",
              "  </svg>\n",
              "    </button>\n",
              "\n",
              "  <style>\n",
              "    .colab-df-container {\n",
              "      display:flex;\n",
              "      gap: 12px;\n",
              "    }\n",
              "\n",
              "    .colab-df-convert {\n",
              "      background-color: #E8F0FE;\n",
              "      border: none;\n",
              "      border-radius: 50%;\n",
              "      cursor: pointer;\n",
              "      display: none;\n",
              "      fill: #1967D2;\n",
              "      height: 32px;\n",
              "      padding: 0 0 0 0;\n",
              "      width: 32px;\n",
              "    }\n",
              "\n",
              "    .colab-df-convert:hover {\n",
              "      background-color: #E2EBFA;\n",
              "      box-shadow: 0px 1px 2px rgba(60, 64, 67, 0.3), 0px 1px 3px 1px rgba(60, 64, 67, 0.15);\n",
              "      fill: #174EA6;\n",
              "    }\n",
              "\n",
              "    .colab-df-buttons div {\n",
              "      margin-bottom: 4px;\n",
              "    }\n",
              "\n",
              "    [theme=dark] .colab-df-convert {\n",
              "      background-color: #3B4455;\n",
              "      fill: #D2E3FC;\n",
              "    }\n",
              "\n",
              "    [theme=dark] .colab-df-convert:hover {\n",
              "      background-color: #434B5C;\n",
              "      box-shadow: 0px 1px 3px 1px rgba(0, 0, 0, 0.15);\n",
              "      filter: drop-shadow(0px 1px 2px rgba(0, 0, 0, 0.3));\n",
              "      fill: #FFFFFF;\n",
              "    }\n",
              "  </style>\n",
              "\n",
              "    <script>\n",
              "      const buttonEl =\n",
              "        document.querySelector('#df-242ba446-4bd3-4a06-becc-800876d6a49f button.colab-df-convert');\n",
              "      buttonEl.style.display =\n",
              "        google.colab.kernel.accessAllowed ? 'block' : 'none';\n",
              "\n",
              "      async function convertToInteractive(key) {\n",
              "        const element = document.querySelector('#df-242ba446-4bd3-4a06-becc-800876d6a49f');\n",
              "        const dataTable =\n",
              "          await google.colab.kernel.invokeFunction('convertToInteractive',\n",
              "                                                    [key], {});\n",
              "        if (!dataTable) return;\n",
              "\n",
              "        const docLinkHtml = 'Like what you see? Visit the ' +\n",
              "          '<a target=\"_blank\" href=https://colab.research.google.com/notebooks/data_table.ipynb>data table notebook</a>'\n",
              "          + ' to learn more about interactive tables.';\n",
              "        element.innerHTML = '';\n",
              "        dataTable['output_type'] = 'display_data';\n",
              "        await google.colab.output.renderOutput(dataTable, element);\n",
              "        const docLink = document.createElement('div');\n",
              "        docLink.innerHTML = docLinkHtml;\n",
              "        element.appendChild(docLink);\n",
              "      }\n",
              "    </script>\n",
              "  </div>\n",
              "\n",
              "\n",
              "<div id=\"df-4d510f33-e34a-4700-80d6-6cad6d8645b1\">\n",
              "  <button class=\"colab-df-quickchart\" onclick=\"quickchart('df-4d510f33-e34a-4700-80d6-6cad6d8645b1')\"\n",
              "            title=\"Suggest charts\"\n",
              "            style=\"display:none;\">\n",
              "\n",
              "<svg xmlns=\"http://www.w3.org/2000/svg\" height=\"24px\"viewBox=\"0 0 24 24\"\n",
              "     width=\"24px\">\n",
              "    <g>\n",
              "        <path d=\"M19 3H5c-1.1 0-2 .9-2 2v14c0 1.1.9 2 2 2h14c1.1 0 2-.9 2-2V5c0-1.1-.9-2-2-2zM9 17H7v-7h2v7zm4 0h-2V7h2v10zm4 0h-2v-4h2v4z\"/>\n",
              "    </g>\n",
              "</svg>\n",
              "  </button>\n",
              "\n",
              "<style>\n",
              "  .colab-df-quickchart {\n",
              "      --bg-color: #E8F0FE;\n",
              "      --fill-color: #1967D2;\n",
              "      --hover-bg-color: #E2EBFA;\n",
              "      --hover-fill-color: #174EA6;\n",
              "      --disabled-fill-color: #AAA;\n",
              "      --disabled-bg-color: #DDD;\n",
              "  }\n",
              "\n",
              "  [theme=dark] .colab-df-quickchart {\n",
              "      --bg-color: #3B4455;\n",
              "      --fill-color: #D2E3FC;\n",
              "      --hover-bg-color: #434B5C;\n",
              "      --hover-fill-color: #FFFFFF;\n",
              "      --disabled-bg-color: #3B4455;\n",
              "      --disabled-fill-color: #666;\n",
              "  }\n",
              "\n",
              "  .colab-df-quickchart {\n",
              "    background-color: var(--bg-color);\n",
              "    border: none;\n",
              "    border-radius: 50%;\n",
              "    cursor: pointer;\n",
              "    display: none;\n",
              "    fill: var(--fill-color);\n",
              "    height: 32px;\n",
              "    padding: 0;\n",
              "    width: 32px;\n",
              "  }\n",
              "\n",
              "  .colab-df-quickchart:hover {\n",
              "    background-color: var(--hover-bg-color);\n",
              "    box-shadow: 0 1px 2px rgba(60, 64, 67, 0.3), 0 1px 3px 1px rgba(60, 64, 67, 0.15);\n",
              "    fill: var(--button-hover-fill-color);\n",
              "  }\n",
              "\n",
              "  .colab-df-quickchart-complete:disabled,\n",
              "  .colab-df-quickchart-complete:disabled:hover {\n",
              "    background-color: var(--disabled-bg-color);\n",
              "    fill: var(--disabled-fill-color);\n",
              "    box-shadow: none;\n",
              "  }\n",
              "\n",
              "  .colab-df-spinner {\n",
              "    border: 2px solid var(--fill-color);\n",
              "    border-color: transparent;\n",
              "    border-bottom-color: var(--fill-color);\n",
              "    animation:\n",
              "      spin 1s steps(1) infinite;\n",
              "  }\n",
              "\n",
              "  @keyframes spin {\n",
              "    0% {\n",
              "      border-color: transparent;\n",
              "      border-bottom-color: var(--fill-color);\n",
              "      border-left-color: var(--fill-color);\n",
              "    }\n",
              "    20% {\n",
              "      border-color: transparent;\n",
              "      border-left-color: var(--fill-color);\n",
              "      border-top-color: var(--fill-color);\n",
              "    }\n",
              "    30% {\n",
              "      border-color: transparent;\n",
              "      border-left-color: var(--fill-color);\n",
              "      border-top-color: var(--fill-color);\n",
              "      border-right-color: var(--fill-color);\n",
              "    }\n",
              "    40% {\n",
              "      border-color: transparent;\n",
              "      border-right-color: var(--fill-color);\n",
              "      border-top-color: var(--fill-color);\n",
              "    }\n",
              "    60% {\n",
              "      border-color: transparent;\n",
              "      border-right-color: var(--fill-color);\n",
              "    }\n",
              "    80% {\n",
              "      border-color: transparent;\n",
              "      border-right-color: var(--fill-color);\n",
              "      border-bottom-color: var(--fill-color);\n",
              "    }\n",
              "    90% {\n",
              "      border-color: transparent;\n",
              "      border-bottom-color: var(--fill-color);\n",
              "    }\n",
              "  }\n",
              "</style>\n",
              "\n",
              "  <script>\n",
              "    async function quickchart(key) {\n",
              "      const quickchartButtonEl =\n",
              "        document.querySelector('#' + key + ' button');\n",
              "      quickchartButtonEl.disabled = true;  // To prevent multiple clicks.\n",
              "      quickchartButtonEl.classList.add('colab-df-spinner');\n",
              "      try {\n",
              "        const charts = await google.colab.kernel.invokeFunction(\n",
              "            'suggestCharts', [key], {});\n",
              "      } catch (error) {\n",
              "        console.error('Error during call to suggestCharts:', error);\n",
              "      }\n",
              "      quickchartButtonEl.classList.remove('colab-df-spinner');\n",
              "      quickchartButtonEl.classList.add('colab-df-quickchart-complete');\n",
              "    }\n",
              "    (() => {\n",
              "      let quickchartButtonEl =\n",
              "        document.querySelector('#df-4d510f33-e34a-4700-80d6-6cad6d8645b1 button');\n",
              "      quickchartButtonEl.style.display =\n",
              "        google.colab.kernel.accessAllowed ? 'block' : 'none';\n",
              "    })();\n",
              "  </script>\n",
              "</div>\n",
              "    </div>\n",
              "  </div>\n"
            ],
            "application/vnd.google.colaboratory.intrinsic+json": {
              "type": "dataframe",
              "summary": "{\n  \"name\": \"sample_comment_df[positive_comment]\",\n  \"rows\": 5,\n  \"fields\": [\n    {\n      \"column\": \"video_id\",\n      \"properties\": {\n        \"dtype\": \"string\",\n        \"num_unique_values\": 4,\n        \"samples\": [\n          \"cLdxuaxaQwc\",\n          \"sjlHnJvXdQs\",\n          \"XpVt6Z1Gjjo\"\n        ],\n        \"semantic_type\": \"\",\n        \"description\": \"\"\n      }\n    },\n    {\n      \"column\": \"comment_text\",\n      \"properties\": {\n        \"dtype\": \"string\",\n        \"num_unique_values\": 5,\n        \"samples\": [\n          \"Power is the disease.\\u00a0 Care is the cure.\\u00a0 Keep caring for yourself and others as best as you can.\\u00a0 This is life.\",\n          \"Summed up perfectly\",\n          \"YAS Can't wait to get it! I just need to sell my kidney so I can afford iPhone X :D\"\n        ],\n        \"semantic_type\": \"\",\n        \"description\": \"\"\n      }\n    },\n    {\n      \"column\": \"likes\",\n      \"properties\": {\n        \"dtype\": \"category\",\n        \"num_unique_values\": 2,\n        \"samples\": [\n          \"0\",\n          \"1\"\n        ],\n        \"semantic_type\": \"\",\n        \"description\": \"\"\n      }\n    },\n    {\n      \"column\": \"replies\",\n      \"properties\": {\n        \"dtype\": \"category\",\n        \"num_unique_values\": 1,\n        \"samples\": [\n          \"0\"\n        ],\n        \"semantic_type\": \"\",\n        \"description\": \"\"\n      }\n    },\n    {\n      \"column\": \"polarity\",\n      \"properties\": {\n        \"dtype\": \"number\",\n        \"std\": 0.0,\n        \"min\": 1.0,\n        \"max\": 1.0,\n        \"num_unique_values\": 1,\n        \"samples\": [\n          1.0\n        ],\n        \"semantic_type\": \"\",\n        \"description\": \"\"\n      }\n    }\n  ]\n}"
            }
          },
          "metadata": {},
          "execution_count": 21
        }
      ]
    },
    {
      "cell_type": "code",
      "source": [
        "negative_comment = sample_comment_df['polarity'] == -1"
      ],
      "metadata": {
        "id": "aIcCZwAopW8j"
      },
      "execution_count": 22,
      "outputs": []
    },
    {
      "cell_type": "code",
      "source": [
        "negative_comment_df = sample_comment_df[negative_comment]"
      ],
      "metadata": {
        "id": "Xp-XElg-tx2I"
      },
      "execution_count": 23,
      "outputs": []
    },
    {
      "cell_type": "code",
      "source": [
        "sample_comment_df[negative_comment].head()"
      ],
      "metadata": {
        "colab": {
          "base_uri": "https://localhost:8080/",
          "height": 143
        },
        "id": "i1jHK9OrpW1x",
        "outputId": "7d8b9de3-530e-49ee-ad2c-a38bbb8d8dd6"
      },
      "execution_count": 24,
      "outputs": [
        {
          "output_type": "execute_result",
          "data": {
            "text/plain": [
              "        video_id                                       comment_text likes  \\\n",
              "512  8wNr-NQImFg  BEN CARSON IS THE MAN!!!!! THEY HATE HIM CAUSE...     0   \n",
              "562  8wNr-NQImFg  Well… The brain surgeon Ben Carson just proved...     0   \n",
              "952  Ayb_2qbZHm4         WHY DID YOU MAKE FURRY FORCE?! SO NASTY!!!     0   \n",
              "\n",
              "    replies  polarity  \n",
              "512       0      -1.0  \n",
              "562       0      -1.0  \n",
              "952       0      -1.0  "
            ],
            "text/html": [
              "\n",
              "  <div id=\"df-c042f839-d1cf-40f1-9b70-da454214e39f\" class=\"colab-df-container\">\n",
              "    <div>\n",
              "<style scoped>\n",
              "    .dataframe tbody tr th:only-of-type {\n",
              "        vertical-align: middle;\n",
              "    }\n",
              "\n",
              "    .dataframe tbody tr th {\n",
              "        vertical-align: top;\n",
              "    }\n",
              "\n",
              "    .dataframe thead th {\n",
              "        text-align: right;\n",
              "    }\n",
              "</style>\n",
              "<table border=\"1\" class=\"dataframe\">\n",
              "  <thead>\n",
              "    <tr style=\"text-align: right;\">\n",
              "      <th></th>\n",
              "      <th>video_id</th>\n",
              "      <th>comment_text</th>\n",
              "      <th>likes</th>\n",
              "      <th>replies</th>\n",
              "      <th>polarity</th>\n",
              "    </tr>\n",
              "  </thead>\n",
              "  <tbody>\n",
              "    <tr>\n",
              "      <th>512</th>\n",
              "      <td>8wNr-NQImFg</td>\n",
              "      <td>BEN CARSON IS THE MAN!!!!! THEY HATE HIM CAUSE...</td>\n",
              "      <td>0</td>\n",
              "      <td>0</td>\n",
              "      <td>-1.0</td>\n",
              "    </tr>\n",
              "    <tr>\n",
              "      <th>562</th>\n",
              "      <td>8wNr-NQImFg</td>\n",
              "      <td>Well… The brain surgeon Ben Carson just proved...</td>\n",
              "      <td>0</td>\n",
              "      <td>0</td>\n",
              "      <td>-1.0</td>\n",
              "    </tr>\n",
              "    <tr>\n",
              "      <th>952</th>\n",
              "      <td>Ayb_2qbZHm4</td>\n",
              "      <td>WHY DID YOU MAKE FURRY FORCE?! SO NASTY!!!</td>\n",
              "      <td>0</td>\n",
              "      <td>0</td>\n",
              "      <td>-1.0</td>\n",
              "    </tr>\n",
              "  </tbody>\n",
              "</table>\n",
              "</div>\n",
              "    <div class=\"colab-df-buttons\">\n",
              "\n",
              "  <div class=\"colab-df-container\">\n",
              "    <button class=\"colab-df-convert\" onclick=\"convertToInteractive('df-c042f839-d1cf-40f1-9b70-da454214e39f')\"\n",
              "            title=\"Convert this dataframe to an interactive table.\"\n",
              "            style=\"display:none;\">\n",
              "\n",
              "  <svg xmlns=\"http://www.w3.org/2000/svg\" height=\"24px\" viewBox=\"0 -960 960 960\">\n",
              "    <path d=\"M120-120v-720h720v720H120Zm60-500h600v-160H180v160Zm220 220h160v-160H400v160Zm0 220h160v-160H400v160ZM180-400h160v-160H180v160Zm440 0h160v-160H620v160ZM180-180h160v-160H180v160Zm440 0h160v-160H620v160Z\"/>\n",
              "  </svg>\n",
              "    </button>\n",
              "\n",
              "  <style>\n",
              "    .colab-df-container {\n",
              "      display:flex;\n",
              "      gap: 12px;\n",
              "    }\n",
              "\n",
              "    .colab-df-convert {\n",
              "      background-color: #E8F0FE;\n",
              "      border: none;\n",
              "      border-radius: 50%;\n",
              "      cursor: pointer;\n",
              "      display: none;\n",
              "      fill: #1967D2;\n",
              "      height: 32px;\n",
              "      padding: 0 0 0 0;\n",
              "      width: 32px;\n",
              "    }\n",
              "\n",
              "    .colab-df-convert:hover {\n",
              "      background-color: #E2EBFA;\n",
              "      box-shadow: 0px 1px 2px rgba(60, 64, 67, 0.3), 0px 1px 3px 1px rgba(60, 64, 67, 0.15);\n",
              "      fill: #174EA6;\n",
              "    }\n",
              "\n",
              "    .colab-df-buttons div {\n",
              "      margin-bottom: 4px;\n",
              "    }\n",
              "\n",
              "    [theme=dark] .colab-df-convert {\n",
              "      background-color: #3B4455;\n",
              "      fill: #D2E3FC;\n",
              "    }\n",
              "\n",
              "    [theme=dark] .colab-df-convert:hover {\n",
              "      background-color: #434B5C;\n",
              "      box-shadow: 0px 1px 3px 1px rgba(0, 0, 0, 0.15);\n",
              "      filter: drop-shadow(0px 1px 2px rgba(0, 0, 0, 0.3));\n",
              "      fill: #FFFFFF;\n",
              "    }\n",
              "  </style>\n",
              "\n",
              "    <script>\n",
              "      const buttonEl =\n",
              "        document.querySelector('#df-c042f839-d1cf-40f1-9b70-da454214e39f button.colab-df-convert');\n",
              "      buttonEl.style.display =\n",
              "        google.colab.kernel.accessAllowed ? 'block' : 'none';\n",
              "\n",
              "      async function convertToInteractive(key) {\n",
              "        const element = document.querySelector('#df-c042f839-d1cf-40f1-9b70-da454214e39f');\n",
              "        const dataTable =\n",
              "          await google.colab.kernel.invokeFunction('convertToInteractive',\n",
              "                                                    [key], {});\n",
              "        if (!dataTable) return;\n",
              "\n",
              "        const docLinkHtml = 'Like what you see? Visit the ' +\n",
              "          '<a target=\"_blank\" href=https://colab.research.google.com/notebooks/data_table.ipynb>data table notebook</a>'\n",
              "          + ' to learn more about interactive tables.';\n",
              "        element.innerHTML = '';\n",
              "        dataTable['output_type'] = 'display_data';\n",
              "        await google.colab.output.renderOutput(dataTable, element);\n",
              "        const docLink = document.createElement('div');\n",
              "        docLink.innerHTML = docLinkHtml;\n",
              "        element.appendChild(docLink);\n",
              "      }\n",
              "    </script>\n",
              "  </div>\n",
              "\n",
              "\n",
              "<div id=\"df-58c25f28-2f24-40dc-8f53-555089c1a69b\">\n",
              "  <button class=\"colab-df-quickchart\" onclick=\"quickchart('df-58c25f28-2f24-40dc-8f53-555089c1a69b')\"\n",
              "            title=\"Suggest charts\"\n",
              "            style=\"display:none;\">\n",
              "\n",
              "<svg xmlns=\"http://www.w3.org/2000/svg\" height=\"24px\"viewBox=\"0 0 24 24\"\n",
              "     width=\"24px\">\n",
              "    <g>\n",
              "        <path d=\"M19 3H5c-1.1 0-2 .9-2 2v14c0 1.1.9 2 2 2h14c1.1 0 2-.9 2-2V5c0-1.1-.9-2-2-2zM9 17H7v-7h2v7zm4 0h-2V7h2v10zm4 0h-2v-4h2v4z\"/>\n",
              "    </g>\n",
              "</svg>\n",
              "  </button>\n",
              "\n",
              "<style>\n",
              "  .colab-df-quickchart {\n",
              "      --bg-color: #E8F0FE;\n",
              "      --fill-color: #1967D2;\n",
              "      --hover-bg-color: #E2EBFA;\n",
              "      --hover-fill-color: #174EA6;\n",
              "      --disabled-fill-color: #AAA;\n",
              "      --disabled-bg-color: #DDD;\n",
              "  }\n",
              "\n",
              "  [theme=dark] .colab-df-quickchart {\n",
              "      --bg-color: #3B4455;\n",
              "      --fill-color: #D2E3FC;\n",
              "      --hover-bg-color: #434B5C;\n",
              "      --hover-fill-color: #FFFFFF;\n",
              "      --disabled-bg-color: #3B4455;\n",
              "      --disabled-fill-color: #666;\n",
              "  }\n",
              "\n",
              "  .colab-df-quickchart {\n",
              "    background-color: var(--bg-color);\n",
              "    border: none;\n",
              "    border-radius: 50%;\n",
              "    cursor: pointer;\n",
              "    display: none;\n",
              "    fill: var(--fill-color);\n",
              "    height: 32px;\n",
              "    padding: 0;\n",
              "    width: 32px;\n",
              "  }\n",
              "\n",
              "  .colab-df-quickchart:hover {\n",
              "    background-color: var(--hover-bg-color);\n",
              "    box-shadow: 0 1px 2px rgba(60, 64, 67, 0.3), 0 1px 3px 1px rgba(60, 64, 67, 0.15);\n",
              "    fill: var(--button-hover-fill-color);\n",
              "  }\n",
              "\n",
              "  .colab-df-quickchart-complete:disabled,\n",
              "  .colab-df-quickchart-complete:disabled:hover {\n",
              "    background-color: var(--disabled-bg-color);\n",
              "    fill: var(--disabled-fill-color);\n",
              "    box-shadow: none;\n",
              "  }\n",
              "\n",
              "  .colab-df-spinner {\n",
              "    border: 2px solid var(--fill-color);\n",
              "    border-color: transparent;\n",
              "    border-bottom-color: var(--fill-color);\n",
              "    animation:\n",
              "      spin 1s steps(1) infinite;\n",
              "  }\n",
              "\n",
              "  @keyframes spin {\n",
              "    0% {\n",
              "      border-color: transparent;\n",
              "      border-bottom-color: var(--fill-color);\n",
              "      border-left-color: var(--fill-color);\n",
              "    }\n",
              "    20% {\n",
              "      border-color: transparent;\n",
              "      border-left-color: var(--fill-color);\n",
              "      border-top-color: var(--fill-color);\n",
              "    }\n",
              "    30% {\n",
              "      border-color: transparent;\n",
              "      border-left-color: var(--fill-color);\n",
              "      border-top-color: var(--fill-color);\n",
              "      border-right-color: var(--fill-color);\n",
              "    }\n",
              "    40% {\n",
              "      border-color: transparent;\n",
              "      border-right-color: var(--fill-color);\n",
              "      border-top-color: var(--fill-color);\n",
              "    }\n",
              "    60% {\n",
              "      border-color: transparent;\n",
              "      border-right-color: var(--fill-color);\n",
              "    }\n",
              "    80% {\n",
              "      border-color: transparent;\n",
              "      border-right-color: var(--fill-color);\n",
              "      border-bottom-color: var(--fill-color);\n",
              "    }\n",
              "    90% {\n",
              "      border-color: transparent;\n",
              "      border-bottom-color: var(--fill-color);\n",
              "    }\n",
              "  }\n",
              "</style>\n",
              "\n",
              "  <script>\n",
              "    async function quickchart(key) {\n",
              "      const quickchartButtonEl =\n",
              "        document.querySelector('#' + key + ' button');\n",
              "      quickchartButtonEl.disabled = true;  // To prevent multiple clicks.\n",
              "      quickchartButtonEl.classList.add('colab-df-spinner');\n",
              "      try {\n",
              "        const charts = await google.colab.kernel.invokeFunction(\n",
              "            'suggestCharts', [key], {});\n",
              "      } catch (error) {\n",
              "        console.error('Error during call to suggestCharts:', error);\n",
              "      }\n",
              "      quickchartButtonEl.classList.remove('colab-df-spinner');\n",
              "      quickchartButtonEl.classList.add('colab-df-quickchart-complete');\n",
              "    }\n",
              "    (() => {\n",
              "      let quickchartButtonEl =\n",
              "        document.querySelector('#df-58c25f28-2f24-40dc-8f53-555089c1a69b button');\n",
              "      quickchartButtonEl.style.display =\n",
              "        google.colab.kernel.accessAllowed ? 'block' : 'none';\n",
              "    })();\n",
              "  </script>\n",
              "</div>\n",
              "    </div>\n",
              "  </div>\n"
            ],
            "application/vnd.google.colaboratory.intrinsic+json": {
              "type": "dataframe",
              "summary": "{\n  \"name\": \"sample_comment_df[negative_comment]\",\n  \"rows\": 3,\n  \"fields\": [\n    {\n      \"column\": \"video_id\",\n      \"properties\": {\n        \"dtype\": \"string\",\n        \"num_unique_values\": 2,\n        \"samples\": [\n          \"Ayb_2qbZHm4\",\n          \"8wNr-NQImFg\"\n        ],\n        \"semantic_type\": \"\",\n        \"description\": \"\"\n      }\n    },\n    {\n      \"column\": \"comment_text\",\n      \"properties\": {\n        \"dtype\": \"string\",\n        \"num_unique_values\": 3,\n        \"samples\": [\n          \"BEN CARSON IS THE MAN!!!!! THEY HATE HIM CAUSE HE EXPOSED HITLARY'S RITUAL ABUSE ON CHILDREN!!!!!!!\",\n          \"Well\\u2026 The brain surgeon Ben Carson just proved how truly insane he is\\u2026\"\n        ],\n        \"semantic_type\": \"\",\n        \"description\": \"\"\n      }\n    },\n    {\n      \"column\": \"likes\",\n      \"properties\": {\n        \"dtype\": \"category\",\n        \"num_unique_values\": 1,\n        \"samples\": [\n          \"0\"\n        ],\n        \"semantic_type\": \"\",\n        \"description\": \"\"\n      }\n    },\n    {\n      \"column\": \"replies\",\n      \"properties\": {\n        \"dtype\": \"category\",\n        \"num_unique_values\": 1,\n        \"samples\": [\n          \"0\"\n        ],\n        \"semantic_type\": \"\",\n        \"description\": \"\"\n      }\n    },\n    {\n      \"column\": \"polarity\",\n      \"properties\": {\n        \"dtype\": \"number\",\n        \"std\": 0.0,\n        \"min\": -1.0,\n        \"max\": -1.0,\n        \"num_unique_values\": 1,\n        \"samples\": [\n          -1.0\n        ],\n        \"semantic_type\": \"\",\n        \"description\": \"\"\n      }\n    }\n  ]\n}"
            }
          },
          "metadata": {},
          "execution_count": 24
        }
      ]
    },
    {
      "cell_type": "code",
      "source": [
        "set(STOPWORDS)"
      ],
      "metadata": {
        "colab": {
          "base_uri": "https://localhost:8080/"
        },
        "id": "WXGIrNMXqqfx",
        "outputId": "138abfbb-5537-42e1-943d-7de8521f8a76"
      },
      "execution_count": 25,
      "outputs": [
        {
          "output_type": "execute_result",
          "data": {
            "text/plain": [
              "{'a',\n",
              " 'about',\n",
              " 'above',\n",
              " 'after',\n",
              " 'again',\n",
              " 'against',\n",
              " 'all',\n",
              " 'also',\n",
              " 'am',\n",
              " 'an',\n",
              " 'and',\n",
              " 'any',\n",
              " 'are',\n",
              " \"aren't\",\n",
              " 'as',\n",
              " 'at',\n",
              " 'be',\n",
              " 'because',\n",
              " 'been',\n",
              " 'before',\n",
              " 'being',\n",
              " 'below',\n",
              " 'between',\n",
              " 'both',\n",
              " 'but',\n",
              " 'by',\n",
              " 'can',\n",
              " \"can't\",\n",
              " 'cannot',\n",
              " 'com',\n",
              " 'could',\n",
              " \"couldn't\",\n",
              " 'did',\n",
              " \"didn't\",\n",
              " 'do',\n",
              " 'does',\n",
              " \"doesn't\",\n",
              " 'doing',\n",
              " \"don't\",\n",
              " 'down',\n",
              " 'during',\n",
              " 'each',\n",
              " 'else',\n",
              " 'ever',\n",
              " 'few',\n",
              " 'for',\n",
              " 'from',\n",
              " 'further',\n",
              " 'get',\n",
              " 'had',\n",
              " \"hadn't\",\n",
              " 'has',\n",
              " \"hasn't\",\n",
              " 'have',\n",
              " \"haven't\",\n",
              " 'having',\n",
              " 'he',\n",
              " \"he'd\",\n",
              " \"he'll\",\n",
              " \"he's\",\n",
              " 'hence',\n",
              " 'her',\n",
              " 'here',\n",
              " \"here's\",\n",
              " 'hers',\n",
              " 'herself',\n",
              " 'him',\n",
              " 'himself',\n",
              " 'his',\n",
              " 'how',\n",
              " \"how's\",\n",
              " 'however',\n",
              " 'http',\n",
              " 'i',\n",
              " \"i'd\",\n",
              " \"i'll\",\n",
              " \"i'm\",\n",
              " \"i've\",\n",
              " 'if',\n",
              " 'in',\n",
              " 'into',\n",
              " 'is',\n",
              " \"isn't\",\n",
              " 'it',\n",
              " \"it's\",\n",
              " 'its',\n",
              " 'itself',\n",
              " 'just',\n",
              " 'k',\n",
              " \"let's\",\n",
              " 'like',\n",
              " 'me',\n",
              " 'more',\n",
              " 'most',\n",
              " \"mustn't\",\n",
              " 'my',\n",
              " 'myself',\n",
              " 'no',\n",
              " 'nor',\n",
              " 'not',\n",
              " 'of',\n",
              " 'off',\n",
              " 'on',\n",
              " 'once',\n",
              " 'only',\n",
              " 'or',\n",
              " 'other',\n",
              " 'otherwise',\n",
              " 'ought',\n",
              " 'our',\n",
              " 'ours',\n",
              " 'ourselves',\n",
              " 'out',\n",
              " 'over',\n",
              " 'own',\n",
              " 'r',\n",
              " 'same',\n",
              " 'shall',\n",
              " \"shan't\",\n",
              " 'she',\n",
              " \"she'd\",\n",
              " \"she'll\",\n",
              " \"she's\",\n",
              " 'should',\n",
              " \"shouldn't\",\n",
              " 'since',\n",
              " 'so',\n",
              " 'some',\n",
              " 'such',\n",
              " 'than',\n",
              " 'that',\n",
              " \"that's\",\n",
              " 'the',\n",
              " 'their',\n",
              " 'theirs',\n",
              " 'them',\n",
              " 'themselves',\n",
              " 'then',\n",
              " 'there',\n",
              " \"there's\",\n",
              " 'therefore',\n",
              " 'these',\n",
              " 'they',\n",
              " \"they'd\",\n",
              " \"they'll\",\n",
              " \"they're\",\n",
              " \"they've\",\n",
              " 'this',\n",
              " 'those',\n",
              " 'through',\n",
              " 'to',\n",
              " 'too',\n",
              " 'under',\n",
              " 'until',\n",
              " 'up',\n",
              " 'very',\n",
              " 'was',\n",
              " \"wasn't\",\n",
              " 'we',\n",
              " \"we'd\",\n",
              " \"we'll\",\n",
              " \"we're\",\n",
              " \"we've\",\n",
              " 'were',\n",
              " \"weren't\",\n",
              " 'what',\n",
              " \"what's\",\n",
              " 'when',\n",
              " \"when's\",\n",
              " 'where',\n",
              " \"where's\",\n",
              " 'which',\n",
              " 'while',\n",
              " 'who',\n",
              " \"who's\",\n",
              " 'whom',\n",
              " 'why',\n",
              " \"why's\",\n",
              " 'with',\n",
              " \"won't\",\n",
              " 'would',\n",
              " \"wouldn't\",\n",
              " 'www',\n",
              " 'you',\n",
              " \"you'd\",\n",
              " \"you'll\",\n",
              " \"you're\",\n",
              " \"you've\",\n",
              " 'your',\n",
              " 'yours',\n",
              " 'yourself',\n",
              " 'yourselves'}"
            ]
          },
          "metadata": {},
          "execution_count": 25
        }
      ]
    },
    {
      "cell_type": "code",
      "source": [
        "sample_comment_df['comment_text']"
      ],
      "metadata": {
        "colab": {
          "base_uri": "https://localhost:8080/",
          "height": 458
        },
        "id": "_EAVSdAjq0F4",
        "outputId": "1e8dd192-5a41-4a8c-f317-85f62c6cd9ee"
      },
      "execution_count": 26,
      "outputs": [
        {
          "output_type": "execute_result",
          "data": {
            "text/plain": [
              "0                      Logan Paul it's yo big day ‼️‼️‼️\n",
              "1      I've been following you from the start of your...\n",
              "2                     Say hi to Kong and maverick for me\n",
              "3                                    MY FAN . attendance\n",
              "4                                             trending 😉\n",
              "                             ...                        \n",
              "995                            Generic attention comment\n",
              "996                                 Zero amount of funny\n",
              "997    Honest? I see no random color hairgender studi...\n",
              "998    What, no joke about how you can't apply if you...\n",
              "999                       Floyd Mayweather, the swimmer.\n",
              "Name: comment_text, Length: 1000, dtype: object"
            ],
            "text/html": [
              "<div>\n",
              "<style scoped>\n",
              "    .dataframe tbody tr th:only-of-type {\n",
              "        vertical-align: middle;\n",
              "    }\n",
              "\n",
              "    .dataframe tbody tr th {\n",
              "        vertical-align: top;\n",
              "    }\n",
              "\n",
              "    .dataframe thead th {\n",
              "        text-align: right;\n",
              "    }\n",
              "</style>\n",
              "<table border=\"1\" class=\"dataframe\">\n",
              "  <thead>\n",
              "    <tr style=\"text-align: right;\">\n",
              "      <th></th>\n",
              "      <th>comment_text</th>\n",
              "    </tr>\n",
              "  </thead>\n",
              "  <tbody>\n",
              "    <tr>\n",
              "      <th>0</th>\n",
              "      <td>Logan Paul it's yo big day ‼️‼️‼️</td>\n",
              "    </tr>\n",
              "    <tr>\n",
              "      <th>1</th>\n",
              "      <td>I've been following you from the start of your...</td>\n",
              "    </tr>\n",
              "    <tr>\n",
              "      <th>2</th>\n",
              "      <td>Say hi to Kong and maverick for me</td>\n",
              "    </tr>\n",
              "    <tr>\n",
              "      <th>3</th>\n",
              "      <td>MY FAN . attendance</td>\n",
              "    </tr>\n",
              "    <tr>\n",
              "      <th>4</th>\n",
              "      <td>trending 😉</td>\n",
              "    </tr>\n",
              "    <tr>\n",
              "      <th>...</th>\n",
              "      <td>...</td>\n",
              "    </tr>\n",
              "    <tr>\n",
              "      <th>995</th>\n",
              "      <td>Generic attention comment</td>\n",
              "    </tr>\n",
              "    <tr>\n",
              "      <th>996</th>\n",
              "      <td>Zero amount of funny</td>\n",
              "    </tr>\n",
              "    <tr>\n",
              "      <th>997</th>\n",
              "      <td>Honest? I see no random color hairgender studi...</td>\n",
              "    </tr>\n",
              "    <tr>\n",
              "      <th>998</th>\n",
              "      <td>What, no joke about how you can't apply if you...</td>\n",
              "    </tr>\n",
              "    <tr>\n",
              "      <th>999</th>\n",
              "      <td>Floyd Mayweather, the swimmer.</td>\n",
              "    </tr>\n",
              "  </tbody>\n",
              "</table>\n",
              "<p>1000 rows × 1 columns</p>\n",
              "</div><br><label><b>dtype:</b> object</label>"
            ]
          },
          "metadata": {},
          "execution_count": 26
        }
      ]
    },
    {
      "cell_type": "code",
      "source": [
        "type(sample_comment_df['comment_text'])"
      ],
      "metadata": {
        "colab": {
          "base_uri": "https://localhost:8080/",
          "height": 203
        },
        "id": "4WCE6n30rLxV",
        "outputId": "388d49e2-af02-41ab-d758-324c9478107e"
      },
      "execution_count": 27,
      "outputs": [
        {
          "output_type": "execute_result",
          "data": {
            "text/plain": [
              "pandas.core.series.Series"
            ],
            "text/html": [
              "<div style=\"max-width:800px; border: 1px solid var(--colab-border-color);\"><style>\n",
              "      pre.function-repr-contents {\n",
              "        overflow-x: auto;\n",
              "        padding: 8px 12px;\n",
              "        max-height: 500px;\n",
              "      }\n",
              "\n",
              "      pre.function-repr-contents.function-repr-contents-collapsed {\n",
              "        cursor: pointer;\n",
              "        max-height: 100px;\n",
              "      }\n",
              "    </style>\n",
              "    <pre style=\"white-space: initial; background:\n",
              "         var(--colab-secondary-surface-color); padding: 8px 12px;\n",
              "         border-bottom: 1px solid var(--colab-border-color);\"><b>pandas.core.series.Series</b><br/>def __init__(data=None, index=None, dtype: Dtype | None=None, name=None, copy: bool | None=None, fastpath: bool | lib.NoDefault=lib.no_default) -&gt; None</pre><pre class=\"function-repr-contents function-repr-contents-collapsed\" style=\"\"><a class=\"filepath\" style=\"display:none\" href=\"#\">/usr/local/lib/python3.10/dist-packages/pandas/core/series.py</a>One-dimensional ndarray with axis labels (including time series).\n",
              "\n",
              "Labels need not be unique but must be a hashable type. The object\n",
              "supports both integer- and label-based indexing and provides a host of\n",
              "methods for performing operations involving the index. Statistical\n",
              "methods from ndarray have been overridden to automatically exclude\n",
              "missing data (currently represented as NaN).\n",
              "\n",
              "Operations between Series (+, -, /, \\*, \\*\\*) align values based on their\n",
              "associated index values-- they need not be the same length. The result\n",
              "index will be the sorted union of the two indexes.\n",
              "\n",
              "Parameters\n",
              "----------\n",
              "data : array-like, Iterable, dict, or scalar value\n",
              "    Contains data stored in Series. If data is a dict, argument order is\n",
              "    maintained.\n",
              "index : array-like or Index (1d)\n",
              "    Values must be hashable and have the same length as `data`.\n",
              "    Non-unique index values are allowed. Will default to\n",
              "    RangeIndex (0, 1, 2, ..., n) if not provided. If data is dict-like\n",
              "    and index is None, then the keys in the data are used as the index. If the\n",
              "    index is not None, the resulting Series is reindexed with the index values.\n",
              "dtype : str, numpy.dtype, or ExtensionDtype, optional\n",
              "    Data type for the output Series. If not specified, this will be\n",
              "    inferred from `data`.\n",
              "    See the :ref:`user guide &lt;basics.dtypes&gt;` for more usages.\n",
              "name : Hashable, default None\n",
              "    The name to give to the Series.\n",
              "copy : bool, default False\n",
              "    Copy input data. Only affects Series or 1d ndarray input. See examples.\n",
              "\n",
              "Notes\n",
              "-----\n",
              "Please reference the :ref:`User Guide &lt;basics.series&gt;` for more information.\n",
              "\n",
              "Examples\n",
              "--------\n",
              "Constructing Series from a dictionary with an Index specified\n",
              "\n",
              "&gt;&gt;&gt; d = {&#x27;a&#x27;: 1, &#x27;b&#x27;: 2, &#x27;c&#x27;: 3}\n",
              "&gt;&gt;&gt; ser = pd.Series(data=d, index=[&#x27;a&#x27;, &#x27;b&#x27;, &#x27;c&#x27;])\n",
              "&gt;&gt;&gt; ser\n",
              "a   1\n",
              "b   2\n",
              "c   3\n",
              "dtype: int64\n",
              "\n",
              "The keys of the dictionary match with the Index values, hence the Index\n",
              "values have no effect.\n",
              "\n",
              "&gt;&gt;&gt; d = {&#x27;a&#x27;: 1, &#x27;b&#x27;: 2, &#x27;c&#x27;: 3}\n",
              "&gt;&gt;&gt; ser = pd.Series(data=d, index=[&#x27;x&#x27;, &#x27;y&#x27;, &#x27;z&#x27;])\n",
              "&gt;&gt;&gt; ser\n",
              "x   NaN\n",
              "y   NaN\n",
              "z   NaN\n",
              "dtype: float64\n",
              "\n",
              "Note that the Index is first build with the keys from the dictionary.\n",
              "After this the Series is reindexed with the given Index values, hence we\n",
              "get all NaN as a result.\n",
              "\n",
              "Constructing Series from a list with `copy=False`.\n",
              "\n",
              "&gt;&gt;&gt; r = [1, 2]\n",
              "&gt;&gt;&gt; ser = pd.Series(r, copy=False)\n",
              "&gt;&gt;&gt; ser.iloc[0] = 999\n",
              "&gt;&gt;&gt; r\n",
              "[1, 2]\n",
              "&gt;&gt;&gt; ser\n",
              "0    999\n",
              "1      2\n",
              "dtype: int64\n",
              "\n",
              "Due to input data type the Series has a `copy` of\n",
              "the original data even though `copy=False`, so\n",
              "the data is unchanged.\n",
              "\n",
              "Constructing Series from a 1d ndarray with `copy=False`.\n",
              "\n",
              "&gt;&gt;&gt; r = np.array([1, 2])\n",
              "&gt;&gt;&gt; ser = pd.Series(r, copy=False)\n",
              "&gt;&gt;&gt; ser.iloc[0] = 999\n",
              "&gt;&gt;&gt; r\n",
              "array([999,   2])\n",
              "&gt;&gt;&gt; ser\n",
              "0    999\n",
              "1      2\n",
              "dtype: int64\n",
              "\n",
              "Due to input data type the Series has a `view` on\n",
              "the original data, so\n",
              "the data is changed as well.</pre>\n",
              "      <script>\n",
              "      if (google.colab.kernel.accessAllowed && google.colab.files && google.colab.files.view) {\n",
              "        for (const element of document.querySelectorAll('.filepath')) {\n",
              "          element.style.display = 'block'\n",
              "          element.onclick = (event) => {\n",
              "            event.preventDefault();\n",
              "            event.stopPropagation();\n",
              "            google.colab.files.view(element.textContent, 263);\n",
              "          };\n",
              "        }\n",
              "      }\n",
              "      for (const element of document.querySelectorAll('.function-repr-contents')) {\n",
              "        element.onclick = (event) => {\n",
              "          event.preventDefault();\n",
              "          event.stopPropagation();\n",
              "          element.classList.toggle('function-repr-contents-collapsed');\n",
              "        };\n",
              "      }\n",
              "      </script>\n",
              "      </div>"
            ]
          },
          "metadata": {},
          "execution_count": 27
        }
      ]
    },
    {
      "cell_type": "markdown",
      "source": [
        "The `comment_text` is a Series data structure (commonly used in pandas). To generate a WordCloud, we need to convert the Series into a single string, as the WordCloud requires a text input in string format."
      ],
      "metadata": {
        "id": "PhbciKaHraYx"
      }
    },
    {
      "cell_type": "code",
      "source": [
        "total_comment = ' '.join(sample_comment_df['comment_text'])\n",
        "total_comment"
      ],
      "metadata": {
        "colab": {
          "base_uri": "https://localhost:8080/",
          "height": 126
        },
        "id": "wg9Y4gpssmeK",
        "outputId": "af3a6968-7846-4e73-b90d-f52cde16060d"
      },
      "execution_count": 28,
      "outputs": [
        {
          "output_type": "execute_result",
          "data": {
            "text/plain": [
              "\"Logan Paul it's yo big day ‼️‼️‼️ I've been following you from the start of your vine channel and have seen all 365 vlogs Say hi to Kong and maverick for me MY FAN . attendance trending 😉 #1 on trending AYYEEEEE The end though 😭👍🏻❤️ #1 trending!!!!!!!!! Happy one year vlogaversary You and your shit brother may have single handedly ruined YouTube.....thanks... There should be a mini Logan Paul too! Dear Logan, I really wanna get your Merch but I don't have the money. We don't even have a Car. It would really make my day to have any of your merch Honestly Evan is so annoying. Like its not funny watching him try to be famous he's trying way to hard and I don't like it Casey is still better then logan aw geez rick this guy is the face of YouTube. He happy cause he in a movie Ayyyyoooo Logang what up .  This was a hard vlog to watch Logan how dare are you to destroyed that YouTube bag . Logang Army check my covers and share them  can Logang help me to hit 1,000 Subscribers today, I think we can do it SUBSCRIBE Bro y didnt u give merch to johannes he is ur boy 2 It's been fun watching you grow. I'm at 42 days straight and can't seem to grow. Any advice? Made a lot of people hate youtube - GJ NO HONEY NOOO can't believe he has almost 12 mili in a year damnn Jake Paul is the fastest growing channel to hit 10 Million and thats a fact and is u dont want to believe that then just dab away lol PEWDIEPIE accidentally played song with words nig%%r during his stream, u can watch that part on my channel, i've just uploaded. Like so more ppl could see this You should do a prank that you broke  your play puttun I love Logan and Jake so much and thay are so amazing and I look up to them so much 😍💋💙👍 #1 on Trending let's go. Evan was being such a dick on this vlog if you get allot of diss likes do you get on the top comments? lets see diss like this please Evan is a horrible human being he also looks so jealous when you open it like he should be happy for you I love you so much I love to meet you But I live in Israel You really inspire me I really like your channel Keep doing what you do\\\\nBecause everyone loves it and will be Unique and Pashan will be creative and I hope you will see it bye 👈 watch by clicking here you can see people's are entertaining I was dying when he threw the midget on the ground at the end LMAO Technically it was Logan cos Jake started his channel in 2013 Logan's 4 life all the way from England Gotta love Youtube for giving morons the ability to earn a buck from other morons. Evan is being a douch Logans getting pissed, Logan should have went to smash his game system then evan would have cried 😂 & Evans not gonna be able to take care of a pitbull tell his ass no, its gonna kill kong !!! Can the Pauls please stop saying they're the fastest growing YouTube channels?! That's PewDiePie's position!! He made managed to get all the subscribers you guys have in 6 MONTHS!!! Why is that so hard to understand?! Why is trump trending on YouTube .. oh wait this isn't trump sure looks like him tho When I saw this vid at first I was like naaahhhhh to tired but I looked at it again and saw the title and I was like H🔥LLLLLLZZZZ YEEEAAAHHHH and as a anniversary present Logan Paul I'm gonna b u for Halloween to show how much u hav changed ma life and I'm not even joking about it 😂😂😂 I subscribed today. This was only the second video I've watched and I had no idea it was a year special. Jake started YouTube 3 years ago his first vid is 3 years ago so technically Logan hit it first The girl with the dog was kylie Jenner 😂 Not a hater but fuck you Where is the other dog I go out of my way to dislike every single one your videos This looks like a great video, but after you are done would you be kind enough to check out my new YouTube channel and give me some feedback? Maybe even subscribing? :) Get the diamond play button appraised Ok. So if you would. What editing things do you use for your videos? I'm trying to start but have no idea how to make cool edits. why is the thumbnail so threatening He talking about how we changed logging Forever on his own channel should be a lot more humbling if somebody else made this video instead of you know Logan Paul make it a video about how Logan Paul change login forever you didn't change shit if anything you just exposed a large audience of five to 10 year olds maybe even freshman in high school that like your videos people that you can hook up with or fuck really sad and it's really pathetic how your entire audience is made up of these people nobody can actually buy or afford anything without asking their parents that's exactly who your audience is FUCK THIS DUDE AND HIS BROTHER. by the way why do you have a card board of the picture of alya do you like to look at it lol Just a tad arrogant with the title, huh? Evan is just taking ur money for granted cause he said if his Rolex had fake diamonds he wouldn't be ur friend anymore and he left when u said the diamond was real, but don't keep commenting it's probably a joke cause ik it might be but my opinion is that he's using Logan's money for granted Omg he broke his play button box Get off of YouTube you spoiled Hollywood brat. Attack of titan squad were u at👻❤️😂 Congrats Logan love u so much someday I would love to meet u #1 fan of the logang ❤️ Um well not the best Vlog was expecting more but congrats Evan lowkey is starting to piss me off! tone it down fgt you didn't change youtube You all are worms. Congrats for being simple minded. ░░░░░▐▀█▀▌░░░░▀█▄░░░\\\\n░░░░░▐█▄█▌░░░░░░▀█▄░░\\\\n░░░░░░▀▄▀░░░▄▄▄▄▄▀▀░░\\\\n░░░░▄▄▄██▀▀▀▀░░░░░░░\\\\n░░░█▀▄▄▄█░▀▀░░\\\\n░░░▌░▄▄▄▐▌▀▀▀░░ THIS IS BOB\\\\n▄░▐░░░▄▄░█░▀▀ ░░\\\\n▀█▌░░░▄░▀█▀░▀ ░░ COPY AND PASTE HIM\\\\n░░░░░░░▄▄▐▌▄▄░░░ SO HE CAN TAKE\\\\n░░░░░░░▀███▀█░▄░░ OVER YOUTUBE\\\\n░░░░░░▐▌▀▄▀▄▀▐▄░░\\\\n░░░░░░▐▀░░░░░░▐▌░░ No one fucking cares. You're a 12 year old. There comes a point where you're too old for the whole I'm so goofy and fun every second of every day schtick. Yeah you're impressing douchey 14 year olds who waste their lives on YouTube but to the real world you and your fucktard brother are nothing more than a pair of over privileged, white privileged toddlers. Grow the fuck up man. You think this will be your life forever. One day you're going to face the real world and realize you can't just jump around and scream your way to a real job. Or you can't hair flip your way out of an inevitable date rape charge. yu are the best Well done I LOVE! You so much :D I am very happy for this man and we need to spread more love. United we stand, divided we fall. Me and my friends subscribe AAAAAAAAAAAA you got the Diamond Play button 💎😆😆😆😆😆😆😁😁😁😁😁😁😁 I like you logan but your brother is a menace to youtube Hay login were is my March I bought it 3 months ago OMG u made this vid on my bday I was the 50k sub and now this! 😂😂😂😂😭 I love Evan so much!!! it's everyday bro DAFUQ did  i just watch ;) Jake Paul ? Who Pls subscribe to my channel Logang gang gang Whooooo.   Let's go Logang 1 on trending good job 365 days \\\\n364 vlogs M My balls are itchy..... Sum ass Logan what happen if Mavrick die This is shit. 1 on trending !!!!!! # be a gote my Tomorrow is my Birthday #1 on trending.................... #1 on trending, FUCK YES! hi first Woooooooooooooooow my boy Happy vlogiversary #1 trending whoaaaa MY BOIIII IS #1 TRENDING LMAO #1 on treading!!! *eyyyjooooo Good morning loooganng WHATS POPPPINNN?!?* Good Job on trending Logan. Love you Pewdiepie don't apologize your fine I am seeing so much idiocy and lack of self awareness in these comments. Let me hit you all with some knowledge: the N word is not okay to say because it has body counts and a huge amount of human suffering attached to it. The word goes back to slave owning days, same as the N word with no hard r. Black folks can say the word because it is theirs to reclaim. I'm a person of color and that word is not in my vocabulary. Why? Because I'm not black, and I'm aware of the oppression tied to this word. I'm also not a piss baby arguing why I should be able to use such a gross word because again, this word is not mine to reclaim. So yeah, it's fine when all these black rappers use the word because it's a part of their personal history. As a grown ass woman I am still in disbelief that people can't have a pinch of empathy for their fellow human beings. If you're not black, you are irrelevant in the conversation of whether you can say the n word. You can't, bottom line, and if you're still arguing your right to say it, well then I have news for you: you're a racist. Pewds we are all behind you. This is just another attack on your character. We love you You're telling me that you're not perfect and sometimes you fuck up? \\\\nThat's wired.. Everybody says that when u play call of duty and other games it's immature but can be over looked by great people it takes someone low to sit and fight about it it's life man Never apologise to the regressives dont be sorry pewds, EVERYBODY says something  bad everyday, but your a public person and says this ONE time and get fukin news all over the world talking about it.. jeeezyys, keep on doing what your doing niggah Other streamers do the same thing and don't apologize. Here is a prime example of a truly moral person he tries so hard even censors himself to try and be a good example but he makes one tiny mistake and they attack him.  I saw an example where a teachers writes the time tables for 9 he starts by writing 9x1=10 then writes the rest right. The kids make fun because he got one wrong but fail to acknowledge that the rest are correct it goes to show people will quickly make fun of your mistakes but ignore your accomplishments. Keep doing what you're doing pewds you truly are an inspiration PROCEED WITH CAUTION: \\\\nThis comment section will give you stage 4 cancer immediately. this isn't a bad thing... shit happens I forgot that pewdiepie's fandom is a majority white people 😒.\\\\n IF 👏 YOU'RE 👏 WHITE 👏 DONT 👏 TELL 👏 POC 👏 HOW 👏 THEY 👏 SHOULD 👏 FEEL 👏. Our ancestors paid for that word with their own blood, so poc today can use it how ever we want. You cannot tell us how we should feel. Y'all are disgusting for backing up your problematic fave and I'm pretty sure he did this before. Pewdiepie is canceled. And this could in all honestly become a good thing for you. You sit on a platform where you could really educate people especially when so many of your fans seem to think it's okay to be said. Really learn about the history of the word and come back to us if you can because you could really help educate people and that's powerful. What the hell is wrong with everyone who's talking badly about him he said the word by accident it's ok pewdiepie you're super cool we all love you the people who are here and supporting you😊❤️ OK guys i get that the word was once used as a demeaning term and that the history of that word will never change, yes pewds fucked up but still it quite obviously wasn't his intention to use the word in a racist way. And those people overreacting are making it easier for toxic media influencers  to fuck every single content creator because they are blowing this out of proportion, pewds is not a racist. pewdiepie had nothing to be sorry about.  everybody who is mad at him need to get their head out of their ass and get over themselves.  or maybe when a black person makes an offensive remark about a white person i should call them racist and see how they like it.  turn about is fair play. I think other YouTube's who are hatting at him are just jealous that he is bigger than them. I think yes it was wronge for him to say it but common give this guy a break ok I have heard this word said by black people daily if they can say it why can't white people why so sensitive. I am Indian and have heard Sooo much rasisum from every body including black and white people. This is outrageous I am pissed and not happy u can clearly see he was hyped up at the time when he said this can't u actually just support him and understand that he is a human as well Oh no you're famous so theyre take this outta proportion, keemstar and idubbz didnt get attacked by media just because theyre smaller Y'all will forgive him for anything lol i think its funny how he said one word and all of the sudden its the end of the world i get it words hurt but you all need to grow up honestly because i can say this the fact that you get offended by a word is dissapointing like seriously theres so much worse one youtube but no one does anything about that grow up!! and at least he had the decency to own up to what you did he said this to everyone in the entire world lets you get on camara and apologize infront of millions of people i bet you cant do it.. I am not angry at you at all.  And you shouldn't have to apologize.  The way I see it, if it's such a bad word then NO ONE should be using it.  Not just white people.  I support you Pewds! HUMANS MAKE MISTAKES\\\\n\\\\nIF YOU HAVENT MADE THEM, YOU ARENT HUMAN. i am convinced a large percentage of PewDiePie's audience are 12 year old white boys who think they are edgy by saying the N word. I don't see it as racist, but rather as an accident I like how when other people say these things its fine but when a famous person says this everyone loses their heads People mad because he said the n word!? He said it by accident cause everyone does it Its just a word, calm down lets be honest here guys, we all have let the word slip before... cmon now lol, we are confronted with the word on tv, music, shows, friends, cmon now we have all let it slip atleast once....  lets not front To the people saying that since black people say it why does it matter if another race says it this is one of many reasons why our society is shit now. It doesn't matter if black says it that doesn't justify other groups using the term shit like that doesn't just slip out that's the worst word you can think of ? It's scary how dumb a lot of people are in these comments we've got a lot of work to do America. Some of your reasoning validation his reasoning for using the word is ridiculous. #SMD So humble! It's ok Pewds, u didn't mean to cause the drama that crowds try to create. U are a good example to your fans. 👈 watch by clicking here people's are entertaining Listen listen, it's not up to white people to judge or criticize you for what you said, the word you said it's a offensive slang to black people if anyone has the right to be offended is them. So, please , people on the comments, stop saying it's just a word or I feel offended for them . Let them say what they think about what happened. What did he say?? Honestly, who is not racist (in their own way) nowadays? Even ppl make jokes of asian having small eyes ...it's common and no it doesnt affect me LOL PLUS HE DIDNT SAY IT OWN PURPOSE ! IF HE REALLY MEANT IT, WHY WOULD HE SAY SORRY :/ If your not black you have no right to say that word point blank period I'm white ok I don't know if it really is offensive at all. BUT HOW THE FUCK DOES HIM SAYING THIS AFFECT YOU AT ALL. He didn't say anything about someone trying to be mean to them. Y'all need to chill. Sticks and Stones may break my bones but words will never hurt me Don't apologize. Political correctness is the newspeak word for leftist censorship.  All these media outlets just trying to bring you down solely because you seem to be somewhat right winged. The fucking Wall Street Journal tried the same thing few months ago and they failed lmao I forgive you but man i can you blame people for saying the n word we say it ourselves Social justice warriors need to chill As a Black American, I don't think it's that big of a deal. I haven't even seen the clip but from what I've heard and from what I know about Pewds from watching him for years, I can conclude it wasn't meant to be offensive. Lots of the time the word is used now (or its variants), it's not meant to be racist or worth getting offended over. Although, I don't get why people have this weird obsession with saying it. While context does matter, regardless, it's a word with a shitty history and unnecessary to use. When people have a fixation with the word it weirds me out and makes me think they're closet racists. Do people think it's edgy or something? (I'm talking primarily about nigger, not nigga because that word has a totally different connotation) Saying Nigga isn't even bad it's only bad if you say it in a hateful way to black people ALL THE CRY BABIES and immature people stop going at him I guarantee youse you wouldn't say it to idubbz or others but because it's pewdiepie you think you have the right to go full force at him Yet I can see were people are coming from because pewdiepie did start the biggest ad crisis on any platform ever he has to much pressure on  him that's my speech down 😂😂 btw I do like idubbz it was just an example say the N word is not alright at all, but people are overreacting waaaaay too much Idubbbz says niggerfaggot in like every single video a year ago and it's hilarious. Everyone's such a boner. Love you Felix If u are really sorry, donate money to africa that you got from making this video. Poods, irrespective of your intentions (which I genuinely believe are pure and not hateful), you are a public face and voice and what you say and do influences others greatly. It's really disappointing to see that you still struggle to really respect the influence you have on YouTube and to your 57 million audience. I hope you wake the fuck up and stop this shit because you're a good, entertaining guy who really is and should be better than this. I hope you turn things around bro. Be more woke. It's okay man👌👌 Weird, my thumbs up doesn't stay. Could it be corrupted YouTube again? The day nobody cares about the word is the day it loses its power over people. Don't try to tell me that I'm only saying this because I don't UNDERSTAND. I DO. People have been slaughtered before, Countries have been Defiled AND ENSLAVED.. USED AS PROSTITUTES. NOT ONLY YOU... WHY DO I FEEL LIKE YOU GUYS ARE LETTING THIS N WORD STILL ENSLAVE YOU? Who gives a Shit . THERE ARE PEOPLE SUFFERING FROM HURRICANES AND YET Y'ALLZ ARE WORRIED ABOUT SOME CRACKA WITH A POTTY MOUTH???\\\\n\\\\nSincerely, your friendly neighborhood Beaner. honestly I don't care I won't let the word overpower me, I always will care about you pewdie! say the word cracker.. journos wont care because theres a huge double standard and they hate white people! This guy's face screams 'I'm gonna kill myself'. He seems to have lost all zest for life. Blacks folks say that shit with every sentence and when whitey says it on accident without disrespectful thoughts the whole world turns. It's ok Felix. I think it is okay, you are sorry about that and it is done. Strange is, that we have here 2 kind of people. 1 which can say this word with N and nothing happen und the other people where everybody get insane. Just think of it. Power is the disease.\\xa0 Care is the cure.\\xa0 Keep caring for yourself and others as best as you can.\\xa0 This is life. 20 likes and I’ll eat a pickle How many sorrys can one say and still be able to be a part of YouTube Real life racism in the world<Guy says dum shit on a video game.. People in the coments you are stupid hes an adult its not a mastake he should know not to say it stop defending him all the time Y'all are stupid I bet you only 10% of the people getting triggered by him saying the n word are actually black. Hey Felix who care? The context is what matters. We know you are not a racist. Don't feed into these stupid narratives. Hi Felix. As an newly subscriber and a fan, I didn't see the bit your apologizing for on your channel but heard the douchebag Sargon of Akkad (not a fan) mentioned it on his channel, where he's clearly stating that it's more then ok to use that particular word if one is not a racist and actually said it multiple times. You clarly have more integrity and a higher moral character then he has and as a Albanien-Swed, am verry proud of you for apologizing. Big UP Brah! Ive said some hateful shit while playing video games and i tend to rage to and in that rage i probably shouldn't have said some stuff that i did but idgaf I defended pewds the last racist thing he did. Pewds isn't racist, that's just his inappropriate, dark humor. There's no need to be sensitive, but if you're accidentally racist on several occasions it's not an accident and you're actually racist. I've never ever said the n word, because from a white person that's a terribly hurtful word, and with the black family members that I have, I would never want my young cousins to hear the word that came out of this mans mouth, especially since he's an influencer. Now I'm going to be hearing it more, and then hear well pewdiepie said it, so can I. It's not okay, and it's not something you say in the heat of the moment, it only slips out if you frequently say it. I think I gotta give up on defending this. I've been subscribed for like 6 years. And it's time to say farewell. Pewdiepie puts up a sorry video for saying the N word.\\\\n\\\\n90% of the comments are people typing it. You are basically the face of YouTube. For someone who has woken up from a coma since before YouTube was around you'd be the first thing they'd know about YouTube. I know you have all this pressure under your shoulders because if you say anything wrong, it would be like the YouTube logo walked on stage and said: Fuck off! \\\\n\\\\nIt's hard to control how you are and speak, I know it, and I feel bad for you. You didn't have to apologize, as you said nigger to a yellow fucking blob, but you did. All these people that are saying you should say what ever you want are also trump supporters. Pewd you don't have anything to apologize for... it's just a word Thank you for apologizing pewds, i haven't lost respect for you Sh*t happens carry on Dude it's just a word. Maybe ppl shouldn't be getting so butt hurt to be honest. It's not like he said Voldemort. Ain't no evil wizards gonna come out if you say the n word lol its just a word If a black american says the n word it's called slang. If a black american can call us white people or typical white girls it's called fun. But if a white person says the n word he's a racist. K den People give power to the word they don't want to hear. If someone says the N word, let it slide. Because you're the one who's making it a bigger deal. Stop caring and things will cool off Everyone makes mistakes. Nice kaws statues dude Fuck niggers. https://youtu.be/XBJtNAhVLag Food for thought everybody: https://www.youtube.com/watch?v=IzloFCxX7HQ Adamsın damn nigga *nigge whut?* Niggers Nigga PUSSY #deletethischannel Pewdiepie... bumass nigga, lmao. Nigga It's okay pewds Fucking nigger Love ya Felix fuckniggers nigger nigger nigger nigger nigger nigger nigger nigger nigger nigger nigger nigger nigger nigger nigger nigger nigger nigger nigger nigger nigger nigger nigger nigger nigger nigger nigger nigger nigger nigger nigger nigger nigger nigger nigger nigger nigger nigger nigger nigger nigger nigger nigger nigger nigger nigger nigger nigger nigger nigger nigger nigger nigger nigger nigger nigger nigger nigger nigger nigger nigger nigger nigger nigger nigger nigger nigger nigger nigger nigger nigger nigger nigger nigger nigger nigger nigger nigger nigger nigger nigger nigger nigger nigger nigger nigger nigger nigger nigger nigger nigger nigger nigger nigger nigger nigger nigger nigger nigger nigger nigger nigger nigger nigger nigger nigger nigger nigger nigger nigger nigger nigger nigger nigger nigger nigger nigger nigger nigger nigger nigger nigger nigger nigger nigger nigger nigger nigger nigger nigger nigger nigger nigger nigger nigger nigger nigger nigger nigger nigger nigger nigger nigger nigger nigger nigger nigger nigger nigger nigger nigger nigger nigger nigger nigger nigger nigger nigger nigger nigger nigger nigger nigger nigger nigger nigger nigger nigger nigger nigger nigger nigger nigger nigger nigger nigger nigger nigger nigger nigger nigger nigger nigger nigger nigger nigger nigger nigger nigger nigger nigger nigger nigger nigger nigger nigger nigger nigger nigger nigger nigger nigger nigger nigger nigger nigger nigger nigger nigger nigger nigger nigger nigger nigger nigger nigger nigger nigger nigger nigger nigger nigger nigger nigger nigger nigger nigger nigger nigger nigger nigger nigger nigger nigger nigger nigger nigger nigger nigger nigger nigger nigger nigger nigger nigger nigger nigger nigger nigger nigger nigger nigger nigger nigger nigger nigger nigger nigger nigger nigger nigger nigger nigger nigger nigger nigger nigger nigger nigger nigger nigger nigger nigger nigger nigger nigger nigger nigger nigger nigger nigger nigger nigger nigger nigger nigger nigger nigger nigger nigger nigger nigger nigger nigger nigger nigger nigger nigger nigger nigger nigger nigger nigger nigger nigger nigger nigger nigger nigger nigger nigger nigger nigger nigger nigger nigger nigger nigger nigger nigger nigger nigger nigger nigger nigger nigger nigger nigger nigger nigger nigger nigger nigger nigger nigger nigger nigger nigger nigger nigger nigger nigger nigger nigger nigger nigger nigger nigger nigger nigger nigger nigger nigger nigger nigger nigger nigger nigger nigger nigger nigger nigger nigger nigger nigger nigger nigger nigger nigger nigger nigger nigger nigger nigger nigger nigger nigger nigger nigger nigger nigger nigger nigger nigger nigger nigger nigger nigger nigger nigger nigger nigger nigger nigger nigger nigger nigger nigger nigger nigger nigger nigger nigger nigger nigger nigger nigger nigger nigger nigger nigger nigger nigger nigger nigger nigger nigger nigger nigger nigger nigger nigger nigger nigger nigger nigger nigger nigger nigger nigger nigger nigger nigger nigger nigger nigger nigger nigger nigger nigger nigger nigger nigger nigger nigger nigger nigger nigger nigger nigger nigger nigger nigger nigger nigger nigger nigger nigger nigger nigger nigger nigger nigger nigger nigger nigger nigger nigger nigger nigger nigger nigger nigger nigger nigger nigger nigger nigger nigger nigger nigger nigger nigger nigger nigger nigger nigger nigger nigger nigger nigger nigger nigger nigger nigger nigger nigger nigger nigger nigger nigger nigger nigger nigger nigger nigger nigger nigger nigger nigger nigger nigger nigger nigger nigger nigger nigger nigger nigger nigger nigger nigger nigger nigger nigger nigger nigger nigger nigger nigger nigger nigger nigger nigger nigger nigger nigger nigger nigger nigger nigger nigger nigger nigger nigger nigger nigger nigger nigger nigger nigger nigger nigger nigger nigger nigger nigger nigger nigger nigger nigger nigger nigger nigger nigger nigger nigger nigger nigger nigger nigger nigger nigger nigger nigger nigger nigger nigger nigger nigger nigger nigger nigger nigger nigger nigger nigger nigger nigger nigger nigger nigger nigger nigger nigger nigger nigger nigger nigger nigger nigger nigger nigger nigger nigger nigger nigger nigger nigger nigger nigger nigger nigger nigger nigger nigger nigger nigger nigger nigger nigger nigger nigger nigger nigger nigger nigger nigger nigger nigger nigger nigger nigger nigger nigger nigger nigger nigger nigger nigger nigger nigger nigger nigger nigger nigger nigger nigger nigger nigger nigger nigger nigger nigger nigger nigger nigger nigger nigger nigger nigger nigger nigger nigger nigger nigger nigger nigger nigger nigger nigger nigger nigger nigger nigger nigger nigger nigger nigger nigger nigger nigger nigger nigger nigger nigger nigger nigger nigger nigger nigger nigger nigger nigger nigger nigger nigger nigger nigger nigger nigger nigger nigger nigger nigger nigger nigger nigger nigger nigger nigger nigger nigger nigger nigger nigger nigger nigger nigger nigger nigger nigger nigger nigger nigger nigger nigger nigger nigger nigger nigger nigger nigger nigger nigger nigger nigger nigger nigger nigger nigger nigger nigger nigger nigger nigger nigger nigger nigger nigger nigger nigger nigger nigger nigger nigger nigger nigger nigger nigger nigger nigger nigger nigger nigger nigger nigger nigger nigger nigger nigger nigger nigger nigger nigger nigger nigger nigger nigger nigger nigger nigger nigger nigger nigger nigger nigger nigger nigger nigger nigger nigger nigger nigger nigger nigger nigger nigger nigger nigger nigger nigger nigger nigger nigger nigger nigger nigger nigger nigger nigger nigger nigger nigger nigger nigger nigger nigger nigger nigger nigger nigger nigger nigger nigger nigger nigger nigger nigger nigger nigger nigger nigger nigger nigger nigger nigger nigger nigger nigger nigger nigger nigger nigger nigger nigger nigger nigger nigger nigger nigger nigger nigger nigger nigger nigger nigger nigger nigger nigger nigger nigger nigger nigger nigger nigger nigger nigger nigger nigger nigger nigger nigger nigger nigger nigger nigger nigger nigger nigger nigger nigger nigger nigger nigger nigger nigger nigger nigger nigger nigger nigger nigger nigger nigger nigger nigger nigger nigger nigger nigger nigger nigger nigger nigger nigger nigger nigger nigger nigger nigger nigger nigger nigger nigger nigger nigger nigger nigger nigger nigger nigger nigger nigger nigger nigger nigger nigger nigger nigger nigger nigger nigger nigger nigger nigger nigger nigger nigger nigger nigger nigger nigger nigger nigger nigger nigger nigger nigger nigger nigger nigger nigger nigger nigger nigger nigger nigger nigger nigger nigger nigger nigger nigger nigger nigger nigger nigger nigger nigger nigger nigger nigger nigger nigger nigger nigger nigger nigger nigger nigger nigger nigger nigger nigger nigger nigger nigger nigger nigger nigger nigger nigger nigger nigger nigger nigger nigger nigger nigger nigger nigger nigger nigger nigger nigger nigger nigger nigger nigger nigger nigger nigger nigger nigger nigger nigger nigger nigger nigger nigger nigger nigger nigger nigger nigger nigger nigger nigger nigger nigger nigger nigger nigger nigger nigger nigger nigger nigger nigger nigger nigger nigger nigger nigger nigger nigger nigger nigger nigger nigger nigger nigger nigger nigger nigger nigger nigger nigger nigger nigger nigger nigger nigger nigger nigger nigger nigger nigger nigger nigger nigger nigger nigger nigger nigger nigger nigger nigger nigger nigger nigger nigger nigger nigger nigger nigger nigger nigger nigger nigger nigger nigger nigger nigger nigger nigger nigger nigger nigger nigger nigger nigger nigger nigger nigger nigger nigger nigger nigger nigger nigger nigger nigger nigger nigger nigger nigger nigger nigger nigger nigger nigger nigger nigger nigger nigger nigger nigger nigger nigger nigger nigger nigger nigger nigger nigger nigger nigger nigger nigger nigger nigger nigger nigger nigger nigger nigger nigger nigger nigger nigger nigger nigger nigger nigger nigger nigger nigger nigger nigger nigger nigger nigger nigger nigger nigger nigger nigger nigger nigger nigger nigger nigger nigger nigger nigger nigger nigger nigger nigger nigger nigger nigger nigger nigger nigger nigger nigger nigger nigger nigger nigger nigger nigger nigger nigger nigger nigger nigger nigger nigger nigger nigger nigger nigger nigger nigger nigger nigger nigger nigger nigger nigger nigger nigger nigger nigger nigger nigger nigger nigger nigger nigger nigger nigger nigger nigger nigger nigger nigger nigger nigger nigger nigger nigger nigger nigger nigger nigger nigger\\\\nfuck niggers smd Negerboll What if I wanna unlock my phone while in the bed in the dark 🤔how will girls unlock their iphone X after taking off their makeup? I've said it once and I'll say it again: I only sniff poop not eat it! I could’ve sworn we asked for group FaceTime call . What if you are wearing sunglasses? So many people wana see face id security flaw..... 👈 watch by clicking on icon people's are entertaining I ll still buy an iphone 6s coz it hs headphone jack and finger print sensor I'm just not impressed Looks outdated with the chrome. Still made in China Let time and technology turned iPhone X cheaper. For now I'll settle down with my secondhanded 6s. I have skipped 7 anyway and definitely won't buy 8. How are Chinese going to secure their phones??? The phone itself looks pretty great but it isn't worth the $1,000. I'd say wait a while before buying it so the price can lower. By March next year it's probably gonna be the same price as the IPhone 7 is now. 1,000 ?! . No thank you . Great phone tho . You know how many things I can buy with that I'm not an apple fan, had iPhones for years in the past before being overcome with boredom stemming from the stagnant design and underwhelming yearly reveals. Currently loving on my gorgeous s8 plus, HOWEVER, the iPhone X is absolutely beautiful, and for the first time in years I'm actually kind of excited about an apple product. Also can't wait to see how Samsung responds, competition means better products for consumers. Nice work apple:) Xcuse me, what was the price again? What if it's to dark to recognise youre face how do you unlock it? Damn I wonder how much longer until we're looking like futuristic movie Apple doing a good job copying Samsung but whatever happened to being innovative? This is just overpriced android with an apple logo. It's apple so all of my friends probably automatically hate it Anyone else appreciate their 6/6s more now? I don’t really like the no home button :(( I like Touch ID more then this face id When Google did face unlock several years ago, the entire tech press dismissed it as a gimmick. Now it is the best thing since sliced bread. Those prices though....I'll stay with my zte . I feel like with no home button, you're constantly going to accidentally open the 4 apps at the bottom of the screen. iPhones are for cool hip people, and Samsungs/androids are for fob immigrants and old people, that's what I've noticed This thing is an orwellian nightmare George Orwell couldn't think of anything better in a drug induced dream. Apple should pay you to buy it. YAS Can't wait to get it! I just need to sell my kidney so I can afford iPhone X :D People here at work think this phone is the best phone ever made and no other phone has the features it will have.....I sit and listen o them at the lunch table browsing YouTube on my S8 smiling.  :) why did they get rid of the button smh NSA loves Apple users the most. BOUT TIME APPLE!! Been rocking iPhone since the start. Nothing has changed, FINALLY SOMETHING GREAT! *AND THEY DON'T STOP COMIN AND THEY DON'T STOP COMMIN AND THEY DON'T STOP COMMIN AMD THEY DON'T STOP COMM-* TF the back is uglier than the iPhone four No thank you! I'm stuck with the last pos they sold. I remember when Apple was the innovator, every one of those features is available on my Samsung 8. They should've just copied the infinity display too...would've made it look much nicer. This phone reminded me of the iphone 3gs, so glad that i got my S8+ for $775 techrax is gonna be so happy 😂😂😁 What if its night? Face recognition huh? The copy of the Samsung 8 how do you go from 8 to 10 Stealing not having a home button just like the Samsung galaxy s8 That's the 8 the iPhone x is different To me, it's just a waste of money. Samsung galaxy note 8 is better If Apple never named their iPhones with an s and numbered it like Air Jordan shoes every year, the iPhone X would have been released last year. Now after releasing 14 different iPhone models, it's confusing having an 8 and 10 but no 9.\\\\n\\\\nThis is what Apple should have done without s naming.. \\\\n\\\\n2007 - iPhone\\\\n2008 - iPhone II instead of 3G\\\\n2009 - iPhone III instead of 3Gs\\\\n2010 - iPhone IV \\\\n2011 - iPhone V instead of 4s\\\\n2012 - iPhone VI instead of 5\\\\n2013 - iPhone VII instead of 5s\\\\n2014 - iPhone VIII instead of 6\\\\n2015 - iPhone IX instead of 6s\\\\n2016 - iPhone X instead of 7\\\\n2017 - iPhone XI instead of 8 & X\\\\n\\\\nOnly the first iPhone and iPhone 4 were named properly. Poor iPhone 9 and 7 doesn't get an s model. Next year, remove the numerics and refer to it only as iPhone the same way the numerics no longer exist for iPads or a MacBook. If you look at the top you can see the camera they're using to film the iPhone is seeing the IR blasts coming from the sensor. No home button? *laughs in Android* just wait ... I'll sell my kidney n bay it .💔😂 #Apple have released another #Chinese clone it seems. Taking the last 3 years #tech already seen and throwing it into a device twice the price. I haven't seen any #groundbreaking moves from #Apple for many years now, even the computers are being #owned by competitors. xbox one x most powerfull console + iphone x= love The back is ugly Someone help me buy this phone. ... anyone?  Come on millionaires & billionaires can anyone help me It looks like a Samsung 5.8 inches X is larger the iPhone 8 is 5.5 inches ! The 8 has the button I Done! I'm going back to flip phones! Where can I buy a Motorola RAZR? Face recognition is the most stupid thing ever imo. I can get into my S5 just as fast, and with way more simplicity with my pattern lock. And is it just me or does that look like a past display screen, it's the complete opposite of an infinity screen and looks ugly. apple claims this is the first OLED screen which is good enough for the iPhone..... but it's a lesser screen to the S8 and G6.... and the claim is bullshit, the thing about this good enough stuff is about profit margins.... You guys are Giving more reasons to swich back to iphone. The phone looks cool on the front but the back and sides look awful, especially with that glass back and how the camera lip is like the Iphone 6 (Not smooth) and not like the Iphone 7 (smooth). Android has done this already not original Now without a charging port, you're still gonna buy it tho If I could only afford one... It looks like glass iPhone,,, that effect is not for me,,, 👎👎👎👎👎🍎 death Made in China for $1000 +? LOL,  I can only imagine if it was made in the U.S. Talk about high profit margin. Apple is such a SCAM! \\\\nhttps://www.cnbc.com/2017/08/01/apple-earnings-q2-2017-how-much-cash-does-apple-have.html *Has features flagship Android phones have had for YEARS such as wireless charging, face unlock, etc. \\\\n\\\\n*Still, hilariously, convinces people that it's revolutionary and is worth over a $1,000\\\\n\\\\nApple - you are brilliant lol I wanted a better phone, if I wanted a camera I would have bought a Nikon. They should have put the fingerprint scanner on the apple logo on the back of the phone. Im gonna buy it just because im gonna get better snap chat filters smh 😤 Didn't the 7 just come out... wow tf copy samsung much 😂 Absolutely beautiful but wtf apple?! 1000 dollars??? Xpensive Tmobile JUMP *highkey copied on the Samsung 8..* Samsung is better iPhone Xpensive! Apple disabled the comments... Cowards what happened to iPhone 9???? DONT BUY IT wut happened with 9 they copied meizu haha no headphone jack? South Korea still wins. samsung galaxy 9 already copy this lol Battery? wtf 1000$ welp aint gettin this anytime soon im not rich What about 7s Did you mean: Samsung Galaxy S8 █▬█ █ ▀█▀  Apple Iphone X Amazing @@@ here is my review\\\\n\\\\n\\\\n\\\\n\\\\noverpriced smartphone $1000....\\\\n*Nope.* Copy s8 Rear looks shyt though Oooooh looks breakable good thang it's 800 dallars where is techrax Wtf happened to the iPhone 9? https://youtu.be/VASywEuqFd8 Waste of money... s8 knock off Did samsung make this? Nevermind that would be an insult to samsung and there amazing design team. Android has had these features for years, nothing new. Even the Samsung Galaxy s3 had the feature to unlock your phone with your face years ago. Nothing new invented here with Apple. Nothing's scarier than a guy replying to every comment with an advertisement for his channel. Wa da fuq? Jacksfilms = sarcasm comedian Idióta, iphone majmoló barmok!!!!!! Iphone x imbibing and review  https://youtu.be/mkZihjq3BF8 Congrats on getting this on Trending John. What happened to iphone 9? Ahahah lmao This is priceless #2 on trending gay emoji movie porn #YIAYfetish True true hiii 5TH ON TRENDING The 1000$ Emoji Machine\\\\nOMFG the cringe Most disappointing Apple event ever Apple went full retard This guy is HILARIOUS! idiot There goes The spondsor Summed up perfectly Absolutely brilliant. You've outdone yourself Jack :) MAKE MORE PARODIES Animoji Movie, Coming 2018! This video was awesome lol Apple: The Emoji Machine now with fidget spinner emojis  (whispering) we being payed by Sony to advertise the fidget spinners movie (whispering)\\\\nBy the way you forgot to include you can buy  at least 20 SNES minis. This is awesome. 1:20 XDDDDDDDDD A DEMENTOR LMAO Freakin 1000.00 cosplay simulator I've never been prouder, been a subber for like 3 years, and this video got on one of our newssites. THIS IS SO TRUE OMG 😂😂😂 iPhone X. We can't get the face unlock to work. You can't scroll up. And you can become a poop emoji.\\\\nStarting at $999 the ceo is gay and his product is gay $hit. why do you cry so much? 👈 watch by clicking here you can see People's are entertaining *JACK LITERALLY  JUST COMMENTED ON MY LAST VIDEO* I'm crying right now 😭😭😭😢😢😢 How's it feel to be #5 on trending? Thank you for your life juice 4th video on trending is about all the great things about the apple x and 5th video on trending is this dissing it out like the crap it is Should have waited until the tenth iPhone to call it the X This video reminds me of my sister because I think of her in penguin costumes & clumsy. & She said similar things back in the day like with that webpage.  This is what Steve would have wanted.\\\\n\\\\n\\\\n\\\\n\\\\n\\\\nProbably. clickbait. i was expecting a parody, not the real thing reuploaded Yo Jack. This video was just shown on a news show in the netherlands!! So cool. You're great. Wuahaha it comes with 2 colors you cant and afford it 😂 I hope apple loses money cause after the iPhone 6'its all been shit JUST GOT BACK FROM 5TH GRADE CAMP You're only paying for the company Samsung is way better than Apple I honestly thought I was the only one and that was like are they serious it's official people only buy iPhones for the name iPhone because they don't have anything to offer it's nothing it's full of crap what I don't understand what the hell is that Who the fuck pays $1000 for an iPhone? Maybe this is just a marketing plot by HBO to get more people to watch GOT between seasons... Jack speaks the truth This is actually the original i'm a simple person, i see an Iphone video, i click thank you \\\\n\\\\n\\\\n\\\\n\\\\n\\\\ni hate apple and i was thinking of this kinda idea lol No more using your phone while charging That was pretty hilarious but also accurate that's why I stick with android because Apple is so damn expensive. Always intriguing to me to see how some people get so upset over other people's choice of phone. the best accurate description of  those apple products. :) So thanks apple now I'm confused did they just release the IPhone 8 and 10 at the same time making one obsolete also what's with these software companies and they're hatred of the number 9?!? Here in India an iPhone X 64 Gb will cost $1369.... Gaming pc that allows me to play games in 4k...or phone that allows me to watch games in 4k with a black bar...such a hard decision I really wanna get that emoji machine.. lol the dementor part, cracks me up. This is the quality content I subscribed for you said it wrong its: 3 switches and its 2 games Steve jobs vision was to sell stuff and make money not change the world. Pay $1,000 or $1,200 for the 256GB, and not even getting half the full screen experience of a galaxy S8 or S8+. With lower resolution, a notch that blocks your view, and no hard press home button. You know  you'll buy it. We'll all buy it. Damn you Apple! But seriously why buy an iPhone 8 when it's almost exactly like an iPhone 7 but slight with 2 more nucleus. Save money for iPhone X or better yet , save your money and in 2 more years the price will drop enough to buy it, after the new iPhone XI, XII, XII, XX come out. Do you know what really grinds my gears? The iPhone X in America costs $999, which should be about £760, but they still charge £999. Ever since Steve jobs passed away Iphone has gone to shit.  Iphones use to be sooo good. Like seriously wireless charging now? Samsung implemented it 2 generation ago with the S6 lmao xD u should get rid the parody man i wants this phone so bad but i can't afford it 😂😂 my local radio station played an audio clip from your video “I told Nintendo that Switch wouldn’t be a success before it went on sale because I thought that in the age of the smartphone no one would carry around a game console,”\\\\n -Tsunekazu Ishihara they made it so easy for you hahaha emoji machine Where was the parody? the dementor part was so funny, me me proud boy jack Ohohoho he said it *laughing like a walrus* 😂 I just got a redbull ad of 2 iphones being abandoned by their owners.\\\\n\\\\n\\\\n\\\\n\\\\nI have a feeling they're gonna have some company soon. Hi ! I work for a famous french media called MinuteBuzz , we have more than 4 million people on Facebook (https://www.facebook.com/profile.php?id=268418679283&ref=ts&fref=ts)\\\\n\\\\nWe love your video and we would like to post it on our Facebook page HERO \\\\n\\\\nWould you be cool with that ? \\\\n\\\\nOf course we will mention your page in the post description. \\\\n\\\\nBest regards. is about ego, status and power. It has 2 colors u cant afford it 😂😂😂 Wow this was really informative and enlightening. Thank you Jack. Lel he said nothing about iPhone 8 he's just like (it's completely different  see now it's 800$) SHUT UP AND TAKE MY KIDNEY! He used the real video at times! This is accurate as fuck and i love it XD Hhaha funny video, loved it! Check it out or video that shows the funniest memes and tweets about the iphone x: https://goo.gl/KwXRVr Ohohohohohoh hoho ohhoh oh *clap clap* he said it is the culmination here. Who here remembers when Jack did parodies once a week not once a year? I would rather buy a brand new PC 😂😂😂😂😂😂😂😂😂😂😂😂😂😂😂😂😂😂😂😂😂😂😂😂😂😂😂😂😂😂😂😂😂😂😂😂😂😂😂😂😂😂😂😂😂😂😂😂😂😂😂😂😂😂😂😂😂😂😂😂😂😂😂😂 HEY CAN I BORROW YOUR DONGLE? #YIAYfetish  alexander hamilton Me me big trending. FILM TUBE new Channel 💋💋❥❥❥👫💘😻💋💋 man I love this video I'll take the 3 switches and 2 games please Now that apple has our fingerprints it was the right time to collect our faces id too...thank you Apple. \\\\nCan't wait to donate my liver for the next gen of IPhone and drop a few blood drops to safe unlock it. Keep up the good work! Aw man this is brilliant\\\\n\\\\n\\\\n\\\\n\\\\nThe emoji machine, not your video, JOHN. I'm sure I speak for everyone when I say the wait is tearing me apart. https://youtu.be/XBJtNAhVLag This looks like another masterpiece!!! Bravo..tommy approved #theroom check it out https://www.youtube.com/watch?v=h9gngMJvMYk this looks so cool This is sooo cool oh hai doggy Oh hi mark Chip chip chip chip chip Holy shit Franco nails it Someone watched the nostalgia critic lmao Hi doggy \\u202aSUBSCRIBE PLEASE! https://m.youtube.com/#/channel/UCSvj6wYBjUtG81hI9M04yOQ\\u202c Beautiful the last scene lmao CANT WAIT!!! yeeeeeeesssssssssssssssssss! BEST MOVIE EVER!!! I am so excited. Boyutiful 💖💖💖💖💖💖💖💖💖💖💖💖💖💖 http://formoneyonly.com/?refer=64120 🌟BEHIND THE SCENE🌟😮😮😮😮😮😮😮😮😮https://youtu.be/1Xtkkb8Hfw8 2:10 does not disappoint 0:18 This...this looks beautiful omfg LETS GOO already I did nooooooot OH HAI MARK fucking pewd make this guy famous This actually looks cool xd And Seth Rogen AS..... Seth Rogen 👈 watch by clicking here you can see People's are entertaining Why does the guy with long hair look like John Mayer Power is the disease.\\xa0 Care is the cure.\\xa0 Keep caring for yourself and others as best as you can.\\xa0 This is life. This looks like a great video, but after you are done would you be kind enough to check out my new YouTube channel and give me some feedback? Maybe even subscribing? :) 2B or not 2B? ...\\\\n\\\\n..where did I park my flying Mercedes? I want to watch this Been waiting since Greg's book came out -- I'm so excited. Next thing you know, Tommy Wiseau is on stage accepting best picture hey friends please subscribe to my channel James does that voice SO FUCKING WELL. Holy shit. How Did This Get Made: The Room: The Movie. Yes yes yes yes and yes. wish it was a original story with tommy, instead of him having to remember his earlier project, it's almost like this film is making fun of his work. He does the voice so good I don't know if I have seen anything more spot on in my life Great trailer, I could not be more excited for this movie! Also, anyone know the song name? At first I didn't like it but that voice grew on me The greatest movie about the greatest movie. A24 doesn't disappoint.All there movie I seen was good James Franco could earn an Oscar nomination for this ! Can't believe my video 10 Kittens 1st Day Outside has over 2 million views now! \\\\nGo check it out and hit that subscribe button!  xoxo Sarina 😊 \\\\n\\\\nhttps://youtu.be/DcJk32AJckg Did he go full retard or half retard? Can't tell Still can't believe that the original movie was made in 2005. Justice League, Thor, and Star Wars be damned, THIS is my most anticipated upcoming movie I have never been more excited for a film. I hope to see the Vampire finale in some sort. Insert the room quote here 👇🏻 Anyone wondering how James's sex life is? Anyone know the song that starts at 0:42? Thx I really wanna watch this! I totally can't wait to see this movie! James Franco does a good job as Tommy Wiseau! This is the thing to see this year, man. That is all.  If you don't want to, you just don't get it. I did not hit her \\\\nI did naaaaaaaaht What's the song name? I really want to see some kind of video of Wiseau responding to this movie xD Why didn't they hire Greg as himself AND DON'T TELL ME THEY WANT A GOOD ACTOR INSTEAD, *THEY HIRED DAVE FRANCO* oh hai Seth kan vee cas mi lithel brader ? Having seen the original, it's going to be so much fun. Please, everyone, see The Room before seeing this Damn, James Franco is soooo good!! Sounds exactly like the real guy! These brothers seem like best friends, wish I could be close to my brother but the sad thing is I don't have one It's Harry guys he's Spiderman best friend imagine what if James Franco get nominated for the Oscar for this role Wouldn't it be the most ironic thing ever if this movie gets James Franco an Oscar nomination? Can't wait to see this in December! Definitely see Oscar nominations coming. I think I prefer the Room itself the book was a true literary masterpiece. just like the movie The Room name of song is ACE MARINO - COMMUNICATION Damn he's so accurate After seeing the teaser, I was a little concerned about James Franco's accent, but not anymore! That was SPOT ON. This looks fantastic (and not just because of the accent). I cannot wait to see this! This is a great fake trailer!! His performance looks so much better than in the teaser. You'll never be famous in a million years!\\\\n\\\\nBut after that? Holy shit that's such a good quote Maybe Johnny is vampire. We'll see. Best remake ever! Belly sex. oH hi MaRk He has it all, Good look Many frends and also maybe Jonny is Vampyre Can't wait for this! It seems like a modern Ed Wood. It did not take a bunch of tries for Tommy to get his lines right. This movie is already gonna he inaccurate and terrible. Looks like they made a terrible movie about making a terrible movie.  Exactly what the world needs right now! *Cant wait for the movie to come out....anyway how's your sex life?* WATCH IT IF YOU LOVE WATCHING FILMS ::  https://youtu.be/zMgekuJ8rx4 Hi, if your reading this, I just want you to have a good day. I have a small channel with very few subscribers, but I'll really appreciate it if you gave my videos a chance. Sorry to bother you I LOVE THIS MOVIE SO MUCH 😳😳 ❤️ Hey guys I hope you are having a great day and are excited about this movie!!! From a small youtuber who dreams of making it big!! Release this movie now!!!! why we have to wait till december?! im fed up with this world TEN OUTTA TEN\\\\nIF THIS DOESN'T WIN AN OSCAR I SWEAR TO FUCKING GOD Trailer reaction https://youtu.be/PkRuJTuJ75I reaction Would be much better without all that sexual garbage. I think the room would have been a better movie if Johnny was a vampire 👈 watch by clicking on icon you can see People's are entertaining 4:30 the universe itself is comparable to the human brain. Google keyword search: images: universe + neuron where the hell is this clown coming from? never heard such non-sense. I can't believe he was a doctor What do you think he took away from today?\\\\nMy luggage...\\\\nSo, trump is a liar AND a thief! You poor hippocrats..Still crying and looking for attention. Europe is laughing out loud at you americans, simply because you elected a bunch of apes to run your country. I hope the media stays on top of Carson's HUD, any other federal agencies where woefully unqualified cronies have been installed. Their incompetence and results need to be reported so we can see what happens when people think government and experience in government doesn't matter. I can sympathize with Ben Carson for being a scatterbrain, but not for his agenda. Tbf leadership skills can be transferable buuuuuuuut sometimes those leaders lack said leadership skills... The lunatic surrounds himself with other lunatics. America, you have become so bizarre... Do you think Dolan gave Ben Carson the job only because he heard Urban in the name? Ben Carson's stupidity still hasn't failed to shock me. BEN CARSON IS THE MAN!!!!! THEY HATE HIM CAUSE HE EXPOSED HITLARY'S RITUAL ABUSE ON CHILDREN!!!!!!! Seriously? You decide to attack the most prominent black republican representative? When we have all these other huge issues in our current government. Wow. I always knew Seth was Racist. He's just open about it now I guess. How did them 6 others survive being stuck in a lift with him without him killing them with boredom, lucky it wasn't just one that would be a death sentence for sure. So Americans in states that elected Drumpf will need the very 2 agencies - HUD And EPA - that the Drumpf administration vitually dismantled? HAH! Talk about what goes around comes around... Conservative republicans don't need any of that socialist government aide! They have bootstraps that they pull up to get them out of the muck and when the rich people start trickling their wealth down, all will be right again! Ben Carson could screw up a one car funeral What an absolute clown.  It's reflective of the state of our nation that a man like Ben Carson could somehow manage to become a leading candidate for president of the United States.\\\\n\\\\nKudos to Ben Carson for his success as a brain surgeon, but it's fair to remember that politics isn't brain surgery - it's far more difficult. DON'T TAKE ME TO A BLACK DOCTOR Ben Carson doesn't believe in the policies of HUD *Continue to show commentators criticizing him but don't give any policy arguments or even show Dr. Carson explaining what he believes* Seth forgot to add the rampant nepotism at HUD, with Carson's wife and kids attending meetings and making decisions. I have to plug in headphones just to hear your weasel ass What kind of loser uses a massave natural disaster to take political and personal stabs at anyone for the sake of ratings and profit? Oh yea its seth myers. What a POS. Seth Meyers, Just another Shekelgruber RKM agent spewing his RKM lies to America. Want to learn more about this Shekelgruber agent and the RKM?  Click the link below:\\\\n                            http://www.veteranstoday.com/2015/03/08/the-hidden-history-of-the-incredibly-evil-khazarian-mafia/ A lot of sleight of hand and smoke screening going on in this video...sure hope folks understand the HUD budget cuts and relief aid allowances better than Seth does before they go running around spreading this bs to others. What has Obama done before he was president? What experience did he have? Sad part he's not the only one not qualified for his post. We have a guy who sued EPA a number of times as the EPA chief. Devos as Education Chief, Rick Perry as Energy secretary, and a racist midget is the AG. After seen this clip I'm flabbergasted, in my stupidity I'd thought that in the presidential cabinet it had only one crazy person but I see that they have a collection of them. The pseudo leader of the Wu-tang Clan is the RZA. Understand: To some, Trump is the fulfillment of their religious aspirations. Good luck, reality. Ben Carson - someone dumber and stranger than Donald - hard to believe Ben carson on paper looked like a put together fella. Then he started talking on tv. Now we all know there is something terribly wrong with HIS BRAIN. Carson, Pruit, Devos and Price were deliberate selections by Trump and Bannon to destabilize the US government. Good job. Gobshites! It's harder to become the best nurosurgen than to become part of the public housing Trump literally didn't know who Fredrick Douglas was.  He just recently discovered Lincoln was a Republican (before Republicans switched to being the racist party during the Civil Rights era).  He thought health care was five dollar a month life insurance. He doesn't know how to spell heal.  He's STOOOOOPPID. I hope Louis Black is watching this. Dude is like a Republican Rain Man. i will not intentionally do anything to benefit...any...american! only russians! I was laughing until Seth said the guy is basically dismantling the department. This nation is perfectly capable of building affordable housing for less fortunate, but hey, who cares about them, the money is in multi-million dollar condos. What's with the telemundo mug? Ben Carson is proof that a person can be a neurosurgeon and somehow still be stupid as hell. I have a question. Where's the... luggage! Someone took his luggage :(. Ahhhhhhh It's not the responsibility of the federal government to pay for people's homes when they are destroyed. I don't know wether to laugh or cry anymore when I see these clips... Paul Ryan has not yet come to terms with the fact that Ayn Rand is power pornography for teenage boys at a certain stage of aching virginity -- and normal kids get over it.\\\\n \\\\nA lot of people throughout RepublicanLand have variations on the same problem.  They really believe a scientifically incorrect notion, that human beings are independent of one another.  It may feel like that for the lonely teenager, but it's never, ever, true.  \\\\n \\\\nFrom that falsehood, they then build up moralities, generally ugly, histories, false, and a subset of both: self-serving aims or purpose.\\\\n\\\\nThis high-minded purpose gives us a HUD Secretary who is opposed to the Department of HUD, a Secretary of Health (named Price!) who believes that all medicine should be commercial.  You've got a guy over at Environmental Protection who is on the side of the folks continuing to dig the hole deeper.  All with the highest moralities he's been able to find anywhere! \\\\n \\\\nThe good Doctor Carson is really, really, one of the gang.\\\\n\\\\n-dlj. It is Trump's goal to dismantle the US government and leave it in so much chaos that Russia is able to become the largest super power again. You all recall when a man threw his shoe at former pres.Bush? Well, it's time to get your shoes ready again people!!! wake up Ben you are talking on stage! how high is that guy God damn bumbling fool. They must have experimented on his brain Ben Carson is clearly writing his own prescriptions * points and laughs at Ben Carson * I loved the CPR joke. A lot. 2:34 Watching that guy in the background as his eyes bounce back and forth rapidfire between Warren and Carson.\\\\n\\\\n5:55 Seriously, he probably fell asleep I worked at a top NYC hospital and the neurosurgeons were loons. And so far he has succeeded 07:32  Make the USA  Great again   <<<== TAKE A $6.2 Billion cut from HUD 2018 Budget just so  that the WEALTHY pay even LESS in TAXES.. Still support DUMP Mr.& Misses Trailer park dwellers who SUPPORTED THIS CLOWN.. NOT THAT HIL HIL Was ANY BETTER.. I VOTED FOR BERNIE SANDERS..    Bernie+Lizzie&Birdie 2020 Ben Carson is a idiot. But what else is to expect from a American? Lmao this man is a walking punch line! Does he only operate on foreign children, or is he just taking a break from helping? I guess we shouldn't get on Carson too much for his worst answer to a marathon Q&A, but jeez this guy. Hold up... The Abbot is Wu leader... GFK is a king, no doubt, but... Rza tho Well… The brain surgeon Ben Carson just proved how truly insane he is… Trump eliminated the programs we needed the most. Not wise. Glad I never had him for a doctor I wish Ben Carson was my grandpa... Please go bck to surgery. No freaking experience in this position. That's new normal in administration .  Imagine him performing brain surgery without any training. A disaster!! The most powerful position in world also has no experience but you need experience to get almost  any other job.  Sick Well the people of Texas probably shouldn't have voted for the person bragging about slashing relief funds huh. Hindsight really is 20/20 What did he take away from this [trip] today?\\\\nMy luggage!\\\\n\\\\n... but maybe that only adds an extra layer of humour if english is not your mother tongue? ;) Trump sees HUD primarily as a tool for enriching well-connected real-estate developers, Carson’s combination of loyalty and ignorance may make him uniquely “qualified” for the position. 😠 And this guy is a brain surgeon; wonder how many lawsuits against him?  He's despicable! Rural Americans black people only voted for Obama because he's blackBen Carson runs for president Black people: NO!Rural Americans: but we thought....... 😆😂😆😂😆 OMG this dump administration is a nightmare LMAO *THIS IS ALT-LEFT PROPAGANDA* inept is putting it mildly check it out https://www.youtube.com/watch?v=h9gngMJvMYk I forgot Ben Carson existed I like Ben Carson😊 dr. ben magoo Oh look another comedian reporter crying. f....cking lefties always talking sh...... Ugh... 6:30...I'm done LOL 2:36 2:55 Lol Such a fool. 😠 http://formoneyonly.com/?refer=64120 Tha fuq? sow what you reap We are so screwed I think Ben Carson needs neurosurgery. Ridiculous fake news This dude is weird asf Ben Carson!!!!!!\\\\nGood God!! As an Australian living in Melbourne I have never been so thankful to have the massive Pacific Ocean, several time zones & the equator between me & the U.S. I pity anyone who will get trapped under Trump’s stupid, bumbling, demagoguery #Glade_To_NOT_Be_An_American. Just here for the thumbs down! **liberal propaganda** Lets see. A white privileged, white racist Hollywood comedian who's made his career focus on bashing America and its people who live not according to his lifestyle, thinks he's doing the white race a solid by attack an intelligent, accomplished Black Man who is one of the world best known neurosurgeon. This comedian is a racist asshole. The head of HUD is a dud ,😴 Will Texans refuse to take government handouts?? And be proud republicans?? How could Ben Carson cou#$ dfj$% ....... 😴😴😴 Merica is seriously in chaos Sounds like the phone will be easier to booty dial. Just saying! My two biggest disappointments from this event are 1 the iPhone 10 not having a full 2k display and the screen only putting out 625nits of max brightness. That's a little less than half the max brightness of the galaxy note 8. I understand it will \\xa0be better than the Note 8 in lots of other ways, but I wanted it to match or be better in every conceivable way so the android fans wouldn't have anything to hold on to. Facial recognition! No way! Oh wait my damn Nexus 4 had that shit. God apple is so pathetic these days So...we're just going to overlook how advanced technology is becoming to describe you? LOCATION, FINGER PRINTS, FRONT FACING APPLE ID UNLOCK......l'll pass. Wireless charging, which is awesome to see. It doesn't even feel awesome anymore. It's old news, has been used by companies for 3 years. Am I the only person who finds the shape of the screen unappealing? It looks like the screen has ears. My first question is: Where do other notification icons go? 👈 watch by clicking here you can see People's are entertaining stupid face id. so what is you are a twin. should have stuck with touch id for security Look at all these poor Shitsung folks in the comments...\\xa0Putting personal preference aside, no matter how you slice it, Apple will come out with the new best-selling phone on the market, again. It will be the fastest phone on the market, again. It will have the most used features, largest and most well-developed App Store, and highest adoption rate of hardware & software out of every single phone on the planet. People will be willing to pay for these devices for years to come, and it all comes from the (non-arguably) brilliant marketing tactics that Apple has been following for years. In the end, none of the debate matters when it's Tim Cook who will be sitting on top of his massive cash pile with the first TRILLION DOLLAR-VALUED company in the world. Can't argue with facts people. BUT, I'm sure you'll find a way! How do you put it in sleep mode if holding off makes Siri alert? Here's a question: if you trigger Siri by holding down the Sleep/Wake button, how do you turn off the phone? Junk, made in China for 5$ And no 128gb. 64gb and then 256. Ridiculous. Anyway... not upgrading. The battery icon already changes from white to black . It's stock iOS . Tell me something new . Apple is really starting to fall off. Galaxy S8 is tops right now next to the Galaxy Note 8. Like this or you'll become gay ...From a emoji *uses the poop emoji* this is the best shit from the new iPhone though.\\\\ndude... brb* going to whore myself for this phone I think people won't complain about the headphone jack if Apple Ships their iPhones with wireless earbuds. What if u just show a picture of the iPhone owner's face to unlock the phone lolol I liked the what does the fox say joke There is no 9, because 7 ate 9! Okay I'll go now.... how can you take a screenshot ?? That gesture reminds me of the BlackBerry 10 OS Specs are fine but imo..... Hate the design for the hell of everything! $1000 for a phone?!?! WTF. then iPhone XI will come out in six months but this time it will be larger. geez Talking shit emoji! That is classic! Thank you Apple engineers for making it real Why can't anyone build a phone without camera bumps? No reason to buy it iPhone 10. If you're going to use numerals for your prior devices numerals it is. Now if they had revealed the iPhone VIII and iPhone VIII+, then I would use X as in x-ray. Either way, I won't be going to a phone that only allows facials for biometrics. This looks cool enough, but i prefer the older style of iphones more, so i'll probably stick to iphone 8 Does it come up with preloaded 4k porn?? Gonna buy the iphone X *ASAP* ! It got animated emojis guys like wtf you want more ? Did the idea of having a  microsd never crossed apples mind??!? And why isn't there a headphones jack !!!!face Id is nice but why remove the touch Id!???? I don't get it. Since it has 3D Touch, why didn't Apple incorporate a hard press at the bottom of the screen to go home? Swipe seems less intuitive. Why dont TMobile sell google phones? Ive seen them get the best ratings for cameras etc but why arent they more mainstream? as a left handed iPhone user, I´m wondering, if you can go to the Control Center by swiping from the left top corner, too? :/ *I think the iPhoneX is beautiful, can't wait to get my hands on one. Also interested to see what case companies do for iPhoneX phone cases. 🤔* Literally looks like a bad version of the s8 mixed in with some bad Chinese Android knockoffs. New phones rolling out every year with minor design changes to keep hype going and getting more expensive. Over-marketing strategy. How will face id help chinese unlock the fone, they all look the same😂😝 This is a really nice phone but the price makes it hard to justify against something like the Galaxy S8 or Essential phone If you drop these phones, you're lucky if both glass panels don't shatter simultaneously...screen and back. But iPhone buyers have enough money anyway...so it hits no beggars. lol Hmm can't say I'm too into the look of this phone... I think I'm gonna go with the LG V30 this year. hahhaha you fool...ass hole ...there is nothing new Eehhhhhhh, its a disappointment. The s8 and note 8 are miles ahead. Is it just me or does the iPhone X frame look chunkier compared to the S8+? Beautiful design but if I'm going for anything, it will be keeping my 6s and getting the Apple Watch with cellular People complaining about the notch are imbeciles. How else were they supposed to go full screen and still fit the speaker grille, sensors & front camera in there? iPhone X is gorgeous, imo. they took gesture tech from blackberry 10 phones. BB was really good. Missing it. Really ? You don't have any complaints right off the bat? That's kinda sad, I saw you as a reliable source of information. I will not be wearing a case with iPhone X I was really curious about that iPhone 9 thing too. Apparently it's the iPhone X because it's the ten year anniversary Hats off for the owners of Apple for all the money they are going to make with their new overpriced gadgets. *Does anyone thinks this is a complete waste of money?* There are some A holes that judging something they can’t afford stupid kids down there samsung alredy have all these new features Intro sounds like it belongs in Splatoon. :P Dumbest phone, just buy the any iphone since the 6. They are all basically the same thing. When are they gonna be on sell ?? Do they have to pay some sort of fee to touch and use the phones?? I have Apple products but I can’t justify paying $1,000 for this phone. Seems like they need to bring in people who are more inventive. My galaxy S8 is still better. Switching to android from Apple has been my best decision this year. Dont you dare call it iphone x, accidentally says iphone x 😂😂 It's cool but not a 1000 bucks cool How do you turn the phone off if holding down the button activates Siri? Does this thing know how to suck a dick? EVERYONE holds their phone by the sides....WHY THE FUCK is the power button on the side instead of the top to prevent accidental pressing and having to unlock the phone AGAIN!?!?!?!   (super major gripe with every phone out there....designers are morons) I worry about certain games that require you to swipe up from the bottom of the screen to play and that might constantly trigger the back to home screen function. yay i can afford a 4s now the iPhone 8... skips to 10...\\\\nWindows 8... also skips to 10...\\\\n;) Hell man I'm tripping on a 1000 bucks really I prefer iPhone 8 over 10, ‘cause iPhone 10 looks like one of those android phones with a similar design. iPhone 8 looks more of a iPhone instead of 10. How do you power it off if the power button is now a Siri button? Finally i will be able to buy iPhone SE Everyone just getting all their new Apple stuff while i still cant afford the actual fruit smh -_- If you forget the gimmicky bezeless front, the iPhone X is lowkey trash its my birthday today Dude! iPhone 10... of COURSE... lmao gay af. £1000 lol Nice! How would you screenshot? Yay! Another stupidly overpriced iPhone! little disappointed... copying samsung S8+ > iPhone x Close to 5M subs hype That notch looks horribly ugly, and those gestures will go sooo wrong... iPhone Xpensive Lol 😂 Remember Palm Pre yeahhh. 👍 How you screenshot then AMAZING! lol my nvidia shield can handle HDR & 4k since years Great review! Looks fucking beautiful. Thanks for watching today :) This had my heart pounding. Please share today with some friends and family. I love you Titanium Teeth ! Ok that is overkill At Band Camp 😂 Please rlp zzzzz PLZ SUB TO ME! He doesn't bite that must hert Can you get more hoodies plzzzzzzs Zombie\\\\n))# -™ is the awesome vlog the shape of the hats suck j̴̢̨̢̧̡̢̡̧̨̨̨̢̨̨̨̡̨̨̡̡̨̛̛̛̛̛̛̛̛̘̖̮̰̗̟̖͍͖͕̺̯̘̻̦͈̩̜͎̦͖̥̠͕̰̝̳̩̥̣̳̳̬̮͈̖̼̘̟͖͍̫̱͈̳͇͚̹̲̫̭͓̩̱͙̲̞̞̘̪̣̜̮̥̫̯̻̲̝̣͈̺̳͚̳̭͇͎̱̦̯̤̤͎̖̘͚̭̣͓͔̗̥̻̜̙̞̝͈̪̞̜̰̺͍̱̮̱̱̞̯̤͓̦͖̗̘͔͍̳͔̣̜̙̬̻̱̱̘̺̖͖̬̣̬̲̥͖̣̟̲͇̞̜͚͚̖̻̭͓̥͖͈̘͔̥͕̱̤̳̭̙̞̹͇̗̖̞͎͈̬͔̰̠͈̖̥̯͕̰̮̜̞̬̹̭̫̥͖̳̭̙͖̰̙̣̮̟̬̤̫̦͔̺̭̯̟͓͓̃̓̄̈́́͒̏̇̔̇̏̀̓͊͊̔̀̈́̓͗̒̆̅̄͛̍́͐͐̅́̃̒͗̈́̊͂͂̅̃̂̈́͌̈̑͆̂̊̇̈́̆̋͐́̑̀̂͂͗̍̂̽̾̈́̏̀̀̉̐̓̂̄͋̈́̃̅̊͊̀̉͐́̀̈́͒̋̅̎̓͐̔̀͆̇̂̈́̈̽́̀́̌̄̌͐͗͒̅͆̄̆̅̉͂͌̀̈́́̍͋̀̈́͗̀͛̓̄̅͊̑̍̑̌̅̆̑̄͑̐̇͂͗̌͂͋̏̊̍̆̅̈́̍͆͐̆̾̄̕̕̕̕̚̕͘͘̚̕̚͘̚͘̕͘̚̚͜͜͜͜͝͝͠͝͠͝͝͝͝͝͝͠͝͠͠͝͝͝͠͠͝͝ͅͅͅj̷̢̢̢̢̨̨̡̢̡̨̡̨̡̡̨̨̧̧̧̧̧̛̛̘͔͓̯͇̹̠̰̺̗͚̭̫̲̜̖̭̖͍͍̘̖̞͍̜͚̘̠͙̺͇̬̙͉̭͚̥̗̜̜̺̫͔̖͇̬̞̱͎̼̫͍̝͈̟̭̺̭͎̠͎͖͎̲̤͉̪̠͎͇̰̙̹̬̳̫̗̟̦͕̩̦̩͙̙̝̟̼̞̝̝̼͈̼̝̗̟̺͓͓̣̘̼̘̼̦̯̻̲͔̞̪̩͖̖͓̤̪̝̣̯̩̠̫͖̬̤̝̳̯̣̳̟̫̳̼̖͍͈̪̤̗͕̫͈̦̞̙̪͈̗̖̞̺͎͈̗̻͚̱͓̺͓͖͍̩̟̩̪̥̻̼̮͈̠̬̟̘̞̦̺̤͍̲͇͇̪̘̞͓͙̞̗̖̮̫̘̜̩̭̼̥̪̜̹͖͔̠̦͈̯͗̑̀͒̍͂̿̃̊̈́͌̐̽̀̋̃̈̃͛͛͊́̂̂̆͂̆̊̾̀̎̊͂̑̾̉̾̽̎͗̔͒̈́̊̍̿̎̿͛̀͆̊̈̃̈́͒́̈́̈́̈́͑̀̋̈́̂͂̽̓̃̈̎̽͗͗̓̈́̎͛̀̋̽͒͛̏͌̀͊̋́̊̐̉̓̒̽̑̊͆͛̎͊͋͒̐̇̐̐̄͒̋̂̔͐͊͆͑̅͊̂̍̊̓̈̾̽̇̄͋͂̒͋͛̓̓̀̒͑̔̇͋̈́́͋͒̅̿̽͗͆̐̍̈̋̿̿̓͊̊̉̑͆̑̄͌̿̐̿̇̑͆͆͛͋̊̾̌͘̕͘̕̕̕̕̕̚̕̕͘̚̚̕͘̚̚̚͜͜͜͜͜͜͠͝͝͝͝͝͝͠͝͝͠͠͠͠͝͝͝͠͝ͅͅͅͅͅͅȧ̴̧̨̢̧̡̧̢̛̛͔̖̖̩̺͍̙͈̻̻̦̟̭̰̲̥̭͈͉̼͇̮̮̦͚̺͖̙͕̫̻̺̭͓̗̺̣̣̗͙̲̮͓͔̬̗̫̞̮̳̮͎̲͕̰͍̼̞͎͇̩̣͈̰̣̦̪̩̮̯̞̞̺͖͍̤̠̣͎̻̊͒̍͌̉̿̀͊͛̆̽́̔̓͆̋̐͐̃̆̍̿́͋̈́̉̿̆̈͂̉͗̍͋̄͌̇̑͛͛͛̊̉̈́͒͌̅̓̈́͂͂̿͂͒̐̽̔̈́̈͊̏͘̚͘͘͜͜͜͠ͅͅc̷̡̧̡̢̢̡̧̨̡̧̧̢̨̡̧̨̡̢̧̡̧̡̢̡̡̧̨̡̢̨̧̨̛̛̛̛̛̛̛̛̺͇̠͚̬̮͖̩̰̺̭̦͔͚̟̲̬̪̭̥͈̜͓̣͙̹̙̤̻̝̣̬̞̹̤͖̘̞̝̭̰̣͕̦̤͖̲̲͈͈̯͚̠͇͕͚̺̤̣̹̩̟͖͍͓̗̳͍̲͚̜̣̳̫̼̮͚͖͚̯̩̠̜̪̺̬̟̻̩̹̜̗̯̦̭̠̹̭͇̪̪͚̫̲͇̱̺͍̙̠̠̲͉͚̫̥̻̩̥̯͙̯͓̗̻̱̬̳̪̖̭̠̻͓͔̖̰̲̼̭̳̭̯̯̤͉̹̼͇̤̼̘̝̘̪̙̙͎͈̹̹̝̭̺̱̟̩̟̞̖̱̗̩̩̣̥̙̪̝̜̫͚̞̫̰͖̠̖̞͔͔̬̜̦̬̞͖̼̦̮̺̰̦͙̗̣̱̣̭̓͗̽͐̍͗̈̌͒̇͌͊̈́̊̄̿̐̍̓̿̉̀̽͒͗͊̇͐͆̃͋͌̍̍̇̿̒͂̀̋́͆̒̏̆̇͌͗̎̓͛̅͌͊̈̃̈́͗̃̄̈̇̂̽͑̋́̒́̿̎̂́͒̋̈́̌͂̒̒̾̈́̏̓̍͋̈́̀͋̐̓̄̊̅͒͂̈́̍͐̄̑̂͌̈́̒̑͌͊̌̓̉͌̎̌̈́̊͑̈̓͋̈́͆͂̔̓̏̽̅͒̾͒̓́̋͑͆̍̈̀̎́́̈́̊͗̇͐́̒̓̅͛͐̾̏̍͘̕̚̕̕̚͘̚̚̕͘͘̚͘̕̚̕͜͜͜͜͠͝͠͝͠͠͝͝͝͝͝͝͠͝͝ͅͅǫ̶̨̨̨̢̨̢̡̡̧̨̢̡̡̨̨̢̧̧̡̢̛̘̭͇͇̬̜̱̺̜͔͔̱̻̝̖̲̫̮͈͔͔̲͔̝͕͔̠͙̻̩̖̹̞̱̤̤̰͚̩̞̻͉̘͖̤͉̠̩̜̺͍̭̲̯̦̭̹̮̺͙̪̜̩̩̯̖̯̼̖̣̪̻̮͇̞͚̥̣̣̬̟͓̭̭̹̳͇̠͈͓̝̤̬͇̫͖̠̠̬̻̞̺͖̮͙̗̻̟͖̳͈̩͖̙͚͇̰̰̠͎̩̠̪̹̻̼̠̘̰̭̭̣̗͙͓̗͓͉͍̘̺̗̹̘̪̭̖͓̘̙̫̱͚͖̗͓̣̦̫͍̣͉̩͙̜̫̥̲̗̪̦̠̥͇̦͙̜̖̩̼͔̹̱̹̹̳͇̘̤̪̼̻̻̘̥̩̦̙̫̭̖̥̼̼̳̮̻̾̎̊͂͗̆̃̆̽͜͜͜͜͜͜ͅͅͅͅͅb̶̛̛̛̛̛̛̬̤̟̗͊͂̃̔͐̄̔̊̆̂͌͑̃̆̔͆̐̏̇́͐̒͐̓̉̓͋͗̀͛̀̌̌̎̈́̅̇̐̂̀̆̈̈̐͂̑͌̋͒̾̓̂̓̔̑̋͊͐̿́̃̄͆̍̋̍̿̀̑̾̈́̿̂̌͑͊̄̐͆͛͂̋͂̓̓͛̊̏͛͋͒͂̏͑̋̓̍̓͐̀̇̌̌̈́̆̿͗͐̊̈́̓̓̍͂̊̿͆̽̾̆̈́̍̽́͛́̌̎̊͂͊̍͛͑̎̊̍̋͋͊̈́͆̈́͑̍̆̈́̃̐̊̐̈́̀͗̒̎̅̃̂͒̈̌̈̄͗̊͂̌̍̓́̿̆̆͆́̆̅͊̾̄͗̆͊́͋͂̅́̀̓̄͘̕͘̕̚͘̕͘͘͘͘̕̕͘͘̕̚͘̕͠͝͝͝͝͝͝͝͝͝͝͝͠͝͝͠͠͠ Flash vs terminator dog roman do ty die hats hi Why is this douchebag trending? This guy has two Jeoffries! Country's breathing lol Sub to me!!!!! She has Britts hair colour I reckon Countries breathing is super hard lol Teach Cora how to suck decks from now Why the bus nooooooooo Where's Flash??? WHO LET THE DOGS OUT  WOF WOF WOF WOF WOF       hahaha Sold out already:( Roman make tye-dye hats 👈 watch by clicking the icon you can see People's are entertaining Love it! I've never thought as Roman hot, but I'm digging the white hat on him. He looks hot! Lolol now is Country single? ☺️ This demo derby is gonna be dope, how do we get to see? May,I get a hody small Should have done it with out the suit Roman with that coat on u look like u out of ur game smile inc Roman iam kind of upset man I went to buy the tie dye hoodie buttttttt you didn't have my size 😔😩😩😡 You should sell Tie Die hats \\\\nLike if you agree Roman, do more videos with your telescope That little baby simply warms my heart. The kitties too ^-^ .. and flash and donkey... they're all great! Why didn't we see Country!!! Why does the dog have titanium teeth Ah roman remember that one vlog when you and your brother was playing stadium events  that game is worth $70,000 trade it in im not going to lie but those hat look ridiculously awesome \\\\nrainbow section new hats  like next is rainbow Still can't work out who gorgeous Cora looks like both boys look like Roman however Cora grows to look like all 3 are seriously beautiful great genes! This video is on trending 9 when are kanes teeth coming in I turned 16 today and still watch your video's. Both of u look so cute w e white hat😍😍😍😍😍😍\\\\n\\\\nLike if u agree I got jabs today at school and my arm is really saw This is #9 on trending? YouTube is a joke now that's ran on ads and money Police dogs do so much they should be appreciated more. They are so loyal the breeds are typically Malinois and sometimes German shepherds. Malinois are more agile but German shepherds are more powerful. I live shepherds a tad more. The reason why you're pool is green is you need to put chlorine in you're pool Dont die you have a child😂 Oh that is scary The white hat is so sick!!! Please put it on sale!!!!!!🙏🏻 Hey Roman, From where I'm from the things that I want to but from Smile more store are expensive. Can you make a sale soon, because I really love the Tie Dye hoodies/shirts before they run out. You have cool boys and a adorable baby girl! Brit put on her weight I am so bombed I can't go on Twitter Roman your son eats chicken wings with a fork , get him some help ASAP Country breathes really heavy when he holds the camera you can hear it So roman you are NOT going to charge anyone to see this movie you are making right Why so many police get roman in trouble Sub to Xenolied for free smile more merchandise I felt that Country wore it better.  And he looked safer.  Roman, you were stick legs with a padded jacket.  Where was your head covering??!! Too late roman, brace wilderness already did this. thanks so much for inspiring me to make my own channel and vids\\xa0\\\\nnotifications on and subscribed😄\\\\nlove u xxx What are you filming for? Look at ME! I'm THIRSTY!!! Lol I can't wait til Cora can play with everyone☺️ I think you should do a tie-dye hat How would you have a tan line if your white Where's Cora in the profile pic You should make rainbow smile more hats I will sub back EVERYONE that subs too me and likes this comment! Comment when done! is it just or did you hear the guy saying the dog has a high risk of injury and one dude had to get surgery. i like the white hat better than the usual one OK guys,  not all babies are cute and u know it Country should take that bike and ramp down the tower. I got a eyedeah for a hat style u can do a rainbow hat with the word smile more logo the last part is so cool with noah saying the ending phase with roman Roman your so cool and stay safe Cora sounded like she was saying I love you Please do not change your hat I love the camo one Subscribe to me if Roman Atwood is the best youtuber What will dog do if u are fall down? Not digging the new hats 😬 You should put palm trees around the pond Put the smile more logo in the corner and make it smaller it will make it look cleaner I am asking a girl to shine coming to day with me luck OHHH NO 666 LIKES I was attacked by a police dog once, \\\\n\\\\n\\\\n\\\\n\\\\n\\\\nthat was the best use of peanut butter ever. roman can ou d a workout video with britteny My hand is broken can you all like so I will be happy 😊 \\\\n\\\\n\\\\nSmile More IM GOING TO BE SUBBING TO EVERYONE WHO LIKES THIS COMMENT AND SUBS TO ME AND TURNS ON MY NOTIFICATIONS (Within 24 Hours) COMMENT WHEN DONE !!(Hope you have a great day) 👍🏻 roman your the goat Cora is so cute but I can't wait untill she speaks😊who else? I hate people who always edit their comments. I don't have twitter ☹️ I forgot what happened to the razor Go check out my latest vlog guys!! Say I will never read your comment EVER! Please do the Brendan Fraser Trilogy!\\\\n\\\\nPlease please please!!! The book from the original mummy is there. This looks like a great video, but after you are done would you be kind enough to check out my new YouTube channel and give me some feedback? Maybe even subscribing?;) Last scene in dessert was funny though Fun fact:\\\\nThey didnt even shoot in egypt. They shot in a different desert and cg'd the pyramids in. XD You gotta do the Room now with The Disaster Artist trailer release We need an Honest Trailer for The Room before The Disaster Artist comes out! Please do the honest trailer for Justice league the animated series or Justice league the flashpoint paradox Get outta my closet Tom cruise \\\\n(subscribe to me) t-mobile? Please say We've sold out, and it feels gooooood Say: Omg I'm reading a random comment! Do the trailer for IT 2017 The movie is so bad that Even this honest trailer sucked HEY BENI! LOOKS TO ME LIKE\\xa0YOU'RE ON THE\\xa0WRONG SIDE OF THE RIVEEEEEEEEEER i saw it and it was alright, but it was just like any other action-romance-comedy, nothing special. the best character was the mummy, but she died and the dark series just began. Say- I gotta case of the swamp ass and it itches bad! Lol this guy is sick Please say Hey I'm Dan. I'm also Dan. Daaaaaaan. Do Guardians, that russian superhero movie! You were still too nice to them. I love these videos The best part of the movie was the credits i honestly don't get why people hate easter eggs so much. The amazing Spider-Man 2.  The universal monsters edition The movie was okay Honest trailer for The Room... oh hi Mark! quality of ur videos is getting bad by each new  honest trailer I liked the movie 🤷 Tom Cruise and Alex Kurtzman were the problems, Universal has 17 months to make adjustments and see what went right and what went wrong with The Mummy before Bride Of Frankenstein hits the big screen. CAN U PLS DO RICK AND MORTY ALREADY they made the mummy too hot.  I would let her kill me... Anyone else think that Tom Cruise would make a good Nathan Drake? I thought It was from warner brothers Tom Cruise runs from Sand (featuring the Mummy)...Haha...Lol DO THE ORIGINAL STEPHEN KING'S IT!!!!!!!!!!!!!! 🤣🤣🤣🤣😃😃😃😃 Say, Oh please, you're just a baggage handler. Hold the Fuvk up, Now Netflix is included So disappointing this movie was As someone who likes Brandon Fraser Mummy films, this remake had my spider sense going off from the beginning The second Russel Crowe went My name is Jekyll... Henry Jekyll! I quit. Screw this movie, the Dank Universe, the acting careers it ruined, and ESPECIALLY screw whatever they were planning on doing with Dracula. \\\\n\\\\n\\\\n\\\\nUnless Dracula Untold was supposed to be in this universe. Screw that movie, too. What I find odd is that they chose to use a clip from RKO's Hunchback of Notre Dame to represent the UNIVERSAL Monsters. Play say WORLD WAR TWO...\\\\nGERMANY IS BACK...\\\\nAND THIS TIME ITS PERSONAL Correction * tom cruise runs from sand AGAIN look Screen junkie , I love honest trailer,and I will continue loving it. but recent videos miss something that was done so well in the past:the pauses . I know that you have to keep track with the hype but quantity also require quality . Just,before joking , take a 2-3 seconds of silent ,ok? appreciate if you guys take time to read my comment Please do a Honest Trailer for GET OUT! That could be so funny with the movie's controversial topics. Please say...I can't think of anything for you to say actually. are you ever going to do unfriended been asking for years nowplease do unfriended soon Isn't it time for a Wonder Woman honest trailer? Look at ME! I'm THIRSTY!!! Lol i downloaded and saw The Mummy 2017  in the best quality guys. here's the Iink https://twitter.com/akewdiudri/status/907980087676477442\\\\nyou must see too guys! that was awesome. Say, I was gonna read a good comment, but I chose yours instead This movie was bad.  I don't say that much Say what's up doc? now do the Brendan Fraser's Mummy!  please! Please say What would you do for a Klondike bar Your channel is throwing up 404 error saying this cant be found on this server, when ever I try to share it. Dude, it isn't a horror movie. Please do American Made. Decent movie👌🏽 Fun fact: This was actually second attempt to set up the Dark Universe... First one was Dracula Untold (Which was much better movie than Mummy IMO) This is why I love Honest Trailers, they are so savage. You should do the new movie IT next!! Why was this in my recommendations Can a remake of IT be considered original? Say How do you like dem apples 🍏 🍎 ? Say JON SNOW IS THE SONG OF ICE AND FIRE Eww sponsored by T-Mobile Tom Cruise rapes dead donkeys....just saying. do BABY DRIVER Do tremors Do It 2017!!!! Honest Trailer: Jem and the Holograms Alien 3 please! please say : ameterasu Say I'm Piiickleee Riiiiiick! Do Van Wilder do cars 3 Do Wonder woman! Reenact a star wars movie: say PEW PEW PEW VSSHH VSSHH PEW PEW PEW BOOM Please say : omae wa mo shindeiru Please say uncle touchy. Prease honest trailer man prease!!! Thank you. Great Review wait, tmobile gives out free netflix? STOP IT! Do Baby Driver!!!! Do It!!!!!!! Need wonderwoman honest trailer😓 Ooh, can you guys do Lifeforce (1985)?! Please do the Brandon Fraiser Mummy holyshit, Tom Cruise is older than Russel Crowe! Plz say Scooby-Dooby-Dooooooooooooooooooooooooooooooooooooooooooooooooooo! https://www.youtube.com/edit?o=U&video_id=1kiaU5q5mSc Lmao they actually uploaded that trailer?? Powers to suck you dry xD suck you dry 😂😂 The Dummy Say JFK did 911 Do IT(1990) Do Get Out! Welcome to Wage Slavery! Raph was every 40 year old part time, non-degreed student who still refers to freshmen girls as fresh meat. So I used to live right in front of the tour room aka mint condition room. Anyway, the thing is many many parents take a an opportunity to peek and even take pictures of our room when clearly someone is in the room!  Please don't open or peak into other people's room! or even try to open closed room! It is common for us to leave our doors slightly open for other dormmates to come by and say hi to hang out! We don't mind if you are in the hallway, but if you push the door like a creep and take a picture? We have a problem. Also, we know for sure that the tour guys have warned to not open our doors or peak inside because they know 1/50 parents do this and out of many tour guys are our own dormmates. Collegehumor remembered their name and made a video about college humor...? It's been too long. Honestly I'm three weeks into college and i want to kill myself. So you don't have the one kid who is terrified of the  prospect of his impending future and how much his decisions actually mean despite having 18 years of where he was basically along for the ride and constantly thinks about putting a barrel to their head?… im watching this at college I got accepted into hardboard with an IQ of 43 at the age of 45 That last bit with the questions is literally me every time I am in class... What about the construction of buildings that actually sound cool, but will never be completed until after you finish college. The loud, yelly dude in the blue shirt... so spot on. Every day, I just want to kick all of those guys right in the nuts... she was so cute omg throw this in the garbage xD 🤣🤣❤❤ Forgot to mention the blue lighting system I'm so glad I'm an old fart who never has to go to school again. Woo Hoo! At last some actual College Humor. Yo this was funny af Holy shit, a college joke on college humor. It's been a while. The Amazon prime student membership is just gold I went to Boston University.  When I would have my spring break, I would pretend to be a Harvard student and go to their classes.  Harvard was fun.  Their lectures were more interesting than ours, which was totally unfair.  I even gave someone else directions one time.  MIT was depressing/suffocating though.  It was a combination of the people and atmosphere.  I only pretended to go there for half a day. Is it just me or is Rekha really cute? That was an ad But for real, why is it that all the science buildings are hideous? You forgot to mention that college is a complete waste of time and money for a lot of people. Thank you from tour guides everywhere. Go buckeyes Wow this collegehumor video is actually pretty good. And it's even about college Was that UCLA? It looks super-familier... Holy shit... is it a collegehumor video about... college??? Hey, it's actual college-based humor! Seems like College Season is starting. Anyway...dropout rate is so high. well this is so true i have cancer now This is so true 😂 They should make a more violent version of this video where the statue is a random black guy Yeah... \\\\nEveryone, please watch my tiny nature videos. There is no talking in them. Shhh! I was soooo that Dad when I took my daughter to my old university.  Lolz!!! Oh shit an actual college humor video! Don't forget paying hundreds of dollars for a parking permit and not being able to find parking 🤦🏽\\u200d♀️ The Indian girl is hot. Lmao I just went on a college tour the other day this was pretty spot on especially the walking backwards jokes and the students passing by going WOOOOO or THIS PLACE IS GREAT COME HERE this is so true on so many levels that it kinda hurts The Asian dad was classic lolol This video is sooo racist why is the black guy the only one that needs attention that is a stupid stereo type support your local antifa I love idolizing football or basketball teams, and would gladly sell my soul in support.  Would I make it at a University like this? I...Don't think I could go to college.\\\\nIt would not end well. At they're being honest here when you tour a school founded by Oliver Cromwell :O I heard Evergreen offers the best Gender Studies and Liberal Arts programs for today's youth. We would like to teach you some of our schools special traditions *sweet Caroline begins to play* After so long finally an honest video the gods have answered my prayers katie's hair is amazing Why does this kind of remind me of honest movie trailers? C O L L E G E U N I V E R S I T Y Can you guys do Honest day at school? Please like this so they can see Well damn. So its basically when you get introduced to the career center WHY DID YOU MAKE FURRY FORCE?! SO NASTY!!! It's a liberal arts school Sweetie , get your ass in the car ! College humour makes a video about college! Im a great comedian that has gotten millions of views and thought about suicide i was thinking about drowning myself so many times if you all wanna save me please DM me on instagram @comedian_thefreshman they all say I might be better than Kevin Hart Honest college tour on your right you'll see the place where everyone submits there fake rape accusations slips and and the left you'll see see a bunch of fat disgusting useless borderline retarded sjw's oh god run I'm a straight white male that just looked at them I can already hear them typing typing im a neo nazi fascist+rapist looks straight ahead and now you can see Antica members destroying trash cans because they wasted there time in gender studies now leave me with your children so I can destroy there minds with ridiculous thoughts and then basically tell the white ones to become slaves I would say something about straight people but I'm too afraid that even men...... oh shit yep I just got stabbed and beaten with a bike lock \\\\n\\\\nThank you for reading the proper script for this skit I'm applying this year, this hits close. A college humor sketch revolving around college and containing some form of humor, it's a belated Labor Day miracle. So...Cracked basically did the same thing recently JS It's been a long time CollegeHumor did a video with college humor in it. THIS IS SO ACCURATE Get out of my head!!!! its ironically sad how these humor videos do a better job at reaffirming my dislike of literally everything, than they do in making me actually laugh :- Constantly pointing out your jokes isn't funny😞 The accuracy hurts This is terrifyingly accurate Why is this trending Is this... UCLA? College University So. Fucking. True. Omg this is fucking hilarious. so funny, so true That's UCLA lol ayyyyy fellow Bruins where u at? lol brilliant Very accurate video Whooooo! Great Job Guys 😂 Loved it Spot on haha this is depressing haha! AIB did this first. *polite laughter* Britanick have gotten pudgier and more gender diverse lately. Gotta get that sponsorship money eh ch? Lol Most accurate video ever lol Welcome to college collge humir Raf is so cute. Plz make funny videos again🙏🏼 Garbage Copied AIB College Humour is amazing! WOO look at me! [polite laughter] lol😂😂😂 Generic attention comment Zero amount of funny Honest? I see no random color hairgender studies or lesbian dance theory activist or 98% white blm crowd or snowflakes running from safe space to safe space scared they might run into a FACT.   lets see the real version...... What, no joke about how you can't apply if you are going to call a woman a woman, because that is offensive to those who sexually identify as Attack Helicopters, trapped in a womans body? Floyd Mayweather, the swimmer.\""
            ],
            "application/vnd.google.colaboratory.intrinsic+json": {
              "type": "string"
            }
          },
          "metadata": {},
          "execution_count": 28
        }
      ]
    },
    {
      "cell_type": "code",
      "source": [
        "total_positive_comment = ' '.join(positive_comment_df['comment_text'])\n",
        "total_positive_comment"
      ],
      "metadata": {
        "colab": {
          "base_uri": "https://localhost:8080/",
          "height": 144
        },
        "id": "LQJiJJjqtJC9",
        "outputId": "aed23935-fac9-453c-c06a-6417df1e6b87"
      },
      "execution_count": 29,
      "outputs": [
        {
          "output_type": "execute_result",
          "data": {
            "text/plain": [
              "\"yu are the best Power is the disease.\\xa0 Care is the cure.\\xa0 Keep caring for yourself and others as best as you can.\\xa0 This is life. YAS Can't wait to get it! I just need to sell my kidney so I can afford iPhone X :D This is priceless Summed up perfectly This is awesome. 1:20 XDDDDDDDDD BEST MOVIE EVER!!! Power is the disease.\\xa0 Care is the cure.\\xa0 Keep caring for yourself and others as best as you can.\\xa0 This is life. The greatest movie about the greatest movie. It's Harry guys he's Spiderman best friend Best remake ever! Great review! awesome vlog Subscribe to me if Roman Atwood is the best youtuber I was attacked by a police dog once, \\\\n\\\\n\\\\n\\\\n\\\\n\\\\nthat was the best use of peanut butter ever. The best part of the movie was the credits DO THE ORIGINAL STEPHEN KING'S IT!!!!!!!!!!!!!! 🤣🤣🤣🤣😃😃😃😃 i downloaded and saw The Mummy 2017  in the best quality guys. here's the Iink https://twitter.com/akewdiudri/status/907980087676477442\\\\nyou must see too guys! that was awesome. Please say uncle touchy. Prease honest trailer man prease!!! Welcome to Wage Slavery!\""
            ],
            "application/vnd.google.colaboratory.intrinsic+json": {
              "type": "string"
            }
          },
          "metadata": {},
          "execution_count": 29
        }
      ]
    },
    {
      "cell_type": "code",
      "source": [
        "total_negative_comment = ' '.join(negative_comment_df['comment_text'])\n",
        "total_negative_comment"
      ],
      "metadata": {
        "colab": {
          "base_uri": "https://localhost:8080/",
          "height": 54
        },
        "id": "PFTyTdMkuMwf",
        "outputId": "8506c126-a93b-4151-b1fd-3412169b5180"
      },
      "execution_count": 30,
      "outputs": [
        {
          "output_type": "execute_result",
          "data": {
            "text/plain": [
              "\"BEN CARSON IS THE MAN!!!!! THEY HATE HIM CAUSE HE EXPOSED HITLARY'S RITUAL ABUSE ON CHILDREN!!!!!!! Well… The brain surgeon Ben Carson just proved how truly insane he is… WHY DID YOU MAKE FURRY FORCE?! SO NASTY!!!\""
            ],
            "application/vnd.google.colaboratory.intrinsic+json": {
              "type": "string"
            }
          },
          "metadata": {},
          "execution_count": 30
        }
      ]
    },
    {
      "cell_type": "code",
      "source": [
        "wordcloud = WordCloud(stopwords=set(STOPWORDS)).generate(total_positive_comment)"
      ],
      "metadata": {
        "id": "PWQOG7I7umwf"
      },
      "execution_count": 31,
      "outputs": []
    },
    {
      "cell_type": "code",
      "source": [
        "plt.imshow(wordcloud)\n",
        "plt.axis('off')"
      ],
      "metadata": {
        "colab": {
          "base_uri": "https://localhost:8080/",
          "height": 303
        },
        "id": "Bbf6dhRUvJMp",
        "outputId": "7d7d8393-ffab-4c4a-dbdb-06264f1cdb57"
      },
      "execution_count": 32,
      "outputs": [
        {
          "output_type": "execute_result",
          "data": {
            "text/plain": [
              "(-0.5, 399.5, 199.5, -0.5)"
            ]
          },
          "metadata": {},
          "execution_count": 32
        },
        {
          "output_type": "display_data",
          "data": {
            "text/plain": [
              "<Figure size 640x480 with 1 Axes>"
            ],
            "image/png": "[encoded data removed]"
          },
          "metadata": {}
        }
      ]
    },
    {
      "cell_type": "code",
      "source": [
        "wordcloud = WordCloud(stopwords=set(STOPWORDS)).generate(total_negative_comment)"
      ],
      "metadata": {
        "id": "W2HUCVFMvX0F"
      },
      "execution_count": 33,
      "outputs": []
    },
    {
      "cell_type": "code",
      "source": [
        "plt.imshow(wordcloud)\n",
        "plt.axis('off')"
      ],
      "metadata": {
        "colab": {
          "base_uri": "https://localhost:8080/",
          "height": 303
        },
        "id": "KTrcH-xmvdaQ",
        "outputId": "0b1f88f5-48f5-423e-a78b-1c3840d16970"
      },
      "execution_count": 34,
      "outputs": [
        {
          "output_type": "execute_result",
          "data": {
            "text/plain": [
              "(-0.5, 399.5, 199.5, -0.5)"
            ]
          },
          "metadata": {},
          "execution_count": 34
        },
        {
          "output_type": "display_data",
          "data": {
            "text/plain": [
              "<Figure size 640x480 with 1 Axes>"
            ],
            "image/png": "[encoded data removed]"
          },
          "metadata": {}
        }
      ]
    },
    {
      "cell_type": "markdown",
      "source": [
        "# **Emoji Analysis**"
      ],
      "metadata": {
        "id": "RodEH1f9wJRh"
      }
    },
    {
      "cell_type": "code",
      "source": [
        "emoji.__version__"
      ],
      "metadata": {
        "id": "xZQr6lS5wRFo",
        "colab": {
          "base_uri": "https://localhost:8080/",
          "height": 36
        },
        "outputId": "db6147b1-1b40-47b7-d976-270f0658f767"
      },
      "execution_count": 39,
      "outputs": [
        {
          "output_type": "execute_result",
          "data": {
            "text/plain": [
              "'2.2.0'"
            ],
            "application/vnd.google.colaboratory.intrinsic+json": {
              "type": "string"
            }
          },
          "metadata": {},
          "execution_count": 39
        }
      ]
    },
    {
      "cell_type": "code",
      "source": [
        "sample_comment_df['comment_text'].head()"
      ],
      "metadata": {
        "colab": {
          "base_uri": "https://localhost:8080/",
          "height": 241
        },
        "id": "AWwP3C4qPr2D",
        "outputId": "8a010bb7-d2d7-454b-c5d4-a192c0ba6ecd"
      },
      "execution_count": 40,
      "outputs": [
        {
          "output_type": "execute_result",
          "data": {
            "text/plain": [
              "0                    Logan Paul it's yo big day ‼️‼️‼️\n",
              "1    I've been following you from the start of your...\n",
              "2                   Say hi to Kong and maverick for me\n",
              "3                                  MY FAN . attendance\n",
              "4                                           trending 😉\n",
              "Name: comment_text, dtype: object"
            ],
            "text/html": [
              "<div>\n",
              "<style scoped>\n",
              "    .dataframe tbody tr th:only-of-type {\n",
              "        vertical-align: middle;\n",
              "    }\n",
              "\n",
              "    .dataframe tbody tr th {\n",
              "        vertical-align: top;\n",
              "    }\n",
              "\n",
              "    .dataframe thead th {\n",
              "        text-align: right;\n",
              "    }\n",
              "</style>\n",
              "<table border=\"1\" class=\"dataframe\">\n",
              "  <thead>\n",
              "    <tr style=\"text-align: right;\">\n",
              "      <th></th>\n",
              "      <th>comment_text</th>\n",
              "    </tr>\n",
              "  </thead>\n",
              "  <tbody>\n",
              "    <tr>\n",
              "      <th>0</th>\n",
              "      <td>Logan Paul it's yo big day ‼️‼️‼️</td>\n",
              "    </tr>\n",
              "    <tr>\n",
              "      <th>1</th>\n",
              "      <td>I've been following you from the start of your...</td>\n",
              "    </tr>\n",
              "    <tr>\n",
              "      <th>2</th>\n",
              "      <td>Say hi to Kong and maverick for me</td>\n",
              "    </tr>\n",
              "    <tr>\n",
              "      <th>3</th>\n",
              "      <td>MY FAN . attendance</td>\n",
              "    </tr>\n",
              "    <tr>\n",
              "      <th>4</th>\n",
              "      <td>trending 😉</td>\n",
              "    </tr>\n",
              "  </tbody>\n",
              "</table>\n",
              "</div><br><label><b>dtype:</b> object</label>"
            ]
          },
          "metadata": {},
          "execution_count": 40
        }
      ]
    },
    {
      "cell_type": "code",
      "source": [
        "comment = 'trending 😉'\n",
        "emoji_list = []\n",
        "for char in comment:\n",
        "  if char in emoji.EMOJI_DATA:\n",
        "    emoji_list.append(char)\n",
        "emoji_list"
      ],
      "metadata": {
        "colab": {
          "base_uri": "https://localhost:8080/"
        },
        "id": "GtKw7NALP2CL",
        "outputId": "9fdf7d50-438b-4bab-c173-49afd7ee41fe"
      },
      "execution_count": 44,
      "outputs": [
        {
          "output_type": "execute_result",
          "data": {
            "text/plain": [
              "['😉']"
            ]
          },
          "metadata": {},
          "execution_count": 44
        }
      ]
    },
    {
      "cell_type": "code",
      "source": [
        "# Alternate method using List Comprehension\n",
        "[char for char in comment if char in emoji.EMOJI_DATA]"
      ],
      "metadata": {
        "colab": {
          "base_uri": "https://localhost:8080/"
        },
        "id": "_EbmHQXiROqf",
        "outputId": "1afb8720-2b1e-4841-9d38-fd1cb4f45a63"
      },
      "execution_count": 45,
      "outputs": [
        {
          "output_type": "execute_result",
          "data": {
            "text/plain": [
              "['😉']"
            ]
          },
          "metadata": {},
          "execution_count": 45
        }
      ]
    },
    {
      "cell_type": "code",
      "source": [
        "all_emoji_list = []\n",
        "for comment in sample_comment_df['comment_text']:\n",
        "  for char in comment:\n",
        "    if char in emoji.EMOJI_DATA:\n",
        "      all_emoji_list.append(char)\n",
        "all_emoji_list"
      ],
      "metadata": {
        "colab": {
          "base_uri": "https://localhost:8080/"
        },
        "id": "7w1-ncryRxKG",
        "outputId": "00babbb2-be51-4f4a-ee89-9bf6255c7c52"
      },
      "execution_count": 46,
      "outputs": [
        {
          "output_type": "execute_result",
          "data": {
            "text/plain": [
              "['‼',\n",
              " '‼',\n",
              " '‼',\n",
              " '😉',\n",
              " '😭',\n",
              " '👍',\n",
              " '🏻',\n",
              " '❤',\n",
              " '😍',\n",
              " '💋',\n",
              " '💙',\n",
              " '👍',\n",
              " '👈',\n",
              " '😂',\n",
              " '🔥',\n",
              " '😂',\n",
              " '😂',\n",
              " '😂',\n",
              " '😂',\n",
              " '👻',\n",
              " '❤',\n",
              " '😂',\n",
              " '❤',\n",
              " '💎',\n",
              " '😆',\n",
              " '😆',\n",
              " '😆',\n",
              " '😆',\n",
              " '😆',\n",
              " '😆',\n",
              " '😁',\n",
              " '😁',\n",
              " '😁',\n",
              " '😁',\n",
              " '😁',\n",
              " '😁',\n",
              " '😁',\n",
              " '😂',\n",
              " '😂',\n",
              " '😂',\n",
              " '😂',\n",
              " '😭',\n",
              " '😒',\n",
              " '👏',\n",
              " '👏',\n",
              " '👏',\n",
              " '👏',\n",
              " '👏',\n",
              " '👏',\n",
              " '👏',\n",
              " '👏',\n",
              " '👏',\n",
              " '👏',\n",
              " '😊',\n",
              " '❤',\n",
              " '👈',\n",
              " '😂',\n",
              " '😂',\n",
              " '👌',\n",
              " '👌',\n",
              " '🤔',\n",
              " '👈',\n",
              " '😂',\n",
              " '😂',\n",
              " '😁',\n",
              " '💔',\n",
              " '😂',\n",
              " '👎',\n",
              " '👎',\n",
              " '👎',\n",
              " '👎',\n",
              " '👎',\n",
              " '🍎',\n",
              " '😤',\n",
              " '😂',\n",
              " '😂',\n",
              " '😂',\n",
              " '😂',\n",
              " '👈',\n",
              " '😭',\n",
              " '😭',\n",
              " '😭',\n",
              " '😢',\n",
              " '😢',\n",
              " '😢',\n",
              " '😂',\n",
              " '😂',\n",
              " '😂',\n",
              " '😂',\n",
              " '😂',\n",
              " '😂',\n",
              " '😂',\n",
              " '😂',\n",
              " '😂',\n",
              " '😂',\n",
              " '😂',\n",
              " '😂',\n",
              " '😂',\n",
              " '😂',\n",
              " '😂',\n",
              " '😂',\n",
              " '😂',\n",
              " '😂',\n",
              " '😂',\n",
              " '😂',\n",
              " '😂',\n",
              " '😂',\n",
              " '😂',\n",
              " '😂',\n",
              " '😂',\n",
              " '😂',\n",
              " '😂',\n",
              " '😂',\n",
              " '😂',\n",
              " '😂',\n",
              " '😂',\n",
              " '😂',\n",
              " '😂',\n",
              " '😂',\n",
              " '😂',\n",
              " '😂',\n",
              " '😂',\n",
              " '😂',\n",
              " '😂',\n",
              " '😂',\n",
              " '😂',\n",
              " '😂',\n",
              " '😂',\n",
              " '😂',\n",
              " '😂',\n",
              " '😂',\n",
              " '😂',\n",
              " '😂',\n",
              " '😂',\n",
              " '😂',\n",
              " '😂',\n",
              " '😂',\n",
              " '😂',\n",
              " '😂',\n",
              " '😂',\n",
              " '😂',\n",
              " '😂',\n",
              " '😂',\n",
              " '😂',\n",
              " '😂',\n",
              " '😂',\n",
              " '😂',\n",
              " '😂',\n",
              " '😂',\n",
              " '😂',\n",
              " '😂',\n",
              " '😂',\n",
              " '😂',\n",
              " '😂',\n",
              " '😂',\n",
              " '😂',\n",
              " '💋',\n",
              " '💋',\n",
              " '👫',\n",
              " '💘',\n",
              " '😻',\n",
              " '💋',\n",
              " '💋',\n",
              " '💖',\n",
              " '💖',\n",
              " '💖',\n",
              " '💖',\n",
              " '💖',\n",
              " '💖',\n",
              " '💖',\n",
              " '💖',\n",
              " '💖',\n",
              " '💖',\n",
              " '💖',\n",
              " '💖',\n",
              " '💖',\n",
              " '💖',\n",
              " '🌟',\n",
              " '🌟',\n",
              " '😮',\n",
              " '😮',\n",
              " '😮',\n",
              " '😮',\n",
              " '😮',\n",
              " '😮',\n",
              " '😮',\n",
              " '😮',\n",
              " '😮',\n",
              " '👈',\n",
              " '😊',\n",
              " '👇',\n",
              " '🏻',\n",
              " '😳',\n",
              " '😳',\n",
              " '❤',\n",
              " '👈',\n",
              " '😠',\n",
              " '😆',\n",
              " '😂',\n",
              " '😆',\n",
              " '😂',\n",
              " '😆',\n",
              " '😊',\n",
              " '😠',\n",
              " '😴',\n",
              " '😴',\n",
              " '😴',\n",
              " '😴',\n",
              " '👈',\n",
              " '🤔',\n",
              " '😂',\n",
              " '😝',\n",
              " '😂',\n",
              " '😂',\n",
              " '😂',\n",
              " '👍',\n",
              " '😂',\n",
              " '™',\n",
              " '👈',\n",
              " '☺',\n",
              " '😔',\n",
              " '😩',\n",
              " '😩',\n",
              " '😡',\n",
              " '😍',\n",
              " '😍',\n",
              " '😍',\n",
              " '😍',\n",
              " '😍',\n",
              " '😍',\n",
              " '😂',\n",
              " '🙏',\n",
              " '🏻',\n",
              " '😄',\n",
              " '☺',\n",
              " '😬',\n",
              " '😊',\n",
              " '👍',\n",
              " '🏻',\n",
              " '😊',\n",
              " '☹',\n",
              " '🤷',\n",
              " '🤣',\n",
              " '🤣',\n",
              " '🤣',\n",
              " '🤣',\n",
              " '😃',\n",
              " '😃',\n",
              " '😃',\n",
              " '😃',\n",
              " '👌',\n",
              " '🏽',\n",
              " '🍏',\n",
              " '🍎',\n",
              " '😓',\n",
              " '😂',\n",
              " '😂',\n",
              " '🤣',\n",
              " '🤣',\n",
              " '❤',\n",
              " '❤',\n",
              " '😂',\n",
              " '🤦',\n",
              " '🏽',\n",
              " '♀',\n",
              " '😞',\n",
              " '😂',\n",
              " '🙏',\n",
              " '🏼',\n",
              " '😂',\n",
              " '😂',\n",
              " '😂']"
            ]
          },
          "metadata": {},
          "execution_count": 46
        }
      ]
    },
    {
      "cell_type": "code",
      "source": [
        "all_emoji_list[0:10]"
      ],
      "metadata": {
        "colab": {
          "base_uri": "https://localhost:8080/"
        },
        "id": "-xy2UPU0SQrd",
        "outputId": "fe23c45d-a5dc-410c-96b4-0b70cf9b00f7"
      },
      "execution_count": 47,
      "outputs": [
        {
          "output_type": "execute_result",
          "data": {
            "text/plain": [
              "['‼', '‼', '‼', '😉', '😭', '👍', '🏻', '❤', '😍', '💋']"
            ]
          },
          "metadata": {},
          "execution_count": 47
        }
      ]
    },
    {
      "cell_type": "code",
      "source": [
        "Counter(all_emoji_list).most_common(10)"
      ],
      "metadata": {
        "colab": {
          "base_uri": "https://localhost:8080/"
        },
        "id": "0LXmwxUmSeUe",
        "outputId": "9b9a8166-c560-4ecf-eac5-17b41275f00e"
      },
      "execution_count": 49,
      "outputs": [
        {
          "output_type": "execute_result",
          "data": {
            "text/plain": [
              "[('😂', 105),\n",
              " ('💖', 14),\n",
              " ('👏', 10),\n",
              " ('😆', 9),\n",
              " ('😮', 9),\n",
              " ('👈', 8),\n",
              " ('😁', 8),\n",
              " ('❤', 7),\n",
              " ('😍', 7),\n",
              " ('🤣', 6)]"
            ]
          },
          "metadata": {},
          "execution_count": 49
        }
      ]
    },
    {
      "cell_type": "code",
      "source": [
        "Counter(all_emoji_list).most_common(10)[0]"
      ],
      "metadata": {
        "colab": {
          "base_uri": "https://localhost:8080/"
        },
        "id": "3aHJ-evvTKZc",
        "outputId": "5a308ca9-44f5-4431-d929-aef643f7a621"
      },
      "execution_count": 50,
      "outputs": [
        {
          "output_type": "execute_result",
          "data": {
            "text/plain": [
              "('😂', 105)"
            ]
          },
          "metadata": {},
          "execution_count": 50
        }
      ]
    },
    {
      "cell_type": "code",
      "source": [
        "Counter(all_emoji_list).most_common(10)[0][0]"
      ],
      "metadata": {
        "colab": {
          "base_uri": "https://localhost:8080/",
          "height": 36
        },
        "id": "tSjEE3ZaTRfZ",
        "outputId": "50909555-95f2-417d-94ba-9ab3b3cc49cd"
      },
      "execution_count": 51,
      "outputs": [
        {
          "output_type": "execute_result",
          "data": {
            "text/plain": [
              "'😂'"
            ],
            "application/vnd.google.colaboratory.intrinsic+json": {
              "type": "string"
            }
          },
          "metadata": {},
          "execution_count": 51
        }
      ]
    },
    {
      "cell_type": "code",
      "source": [
        "Counter(all_emoji_list).most_common(10)[0][1]"
      ],
      "metadata": {
        "colab": {
          "base_uri": "https://localhost:8080/"
        },
        "id": "xvUM8tniTcD2",
        "outputId": "ac1a933d-c48c-4141-acbd-fa5194007406"
      },
      "execution_count": 52,
      "outputs": [
        {
          "output_type": "execute_result",
          "data": {
            "text/plain": [
              "105"
            ]
          },
          "metadata": {},
          "execution_count": 52
        }
      ]
    },
    {
      "cell_type": "code",
      "source": [
        "top_ten_emoji = [Counter(all_emoji_list).most_common(10)[i][0] for i in range(10)]\n",
        "top_ten_emoji"
      ],
      "metadata": {
        "colab": {
          "base_uri": "https://localhost:8080/"
        },
        "id": "vdOvAfxdTkHa",
        "outputId": "9e7e338b-a4c5-4c71-c420-ca62083677bf"
      },
      "execution_count": 54,
      "outputs": [
        {
          "output_type": "execute_result",
          "data": {
            "text/plain": [
              "['😂', '💖', '👏', '😆', '😮', '👈', '😁', '❤', '😍', '🤣']"
            ]
          },
          "metadata": {},
          "execution_count": 54
        }
      ]
    },
    {
      "cell_type": "code",
      "source": [
        "top_ten_emoji_frequency = [Counter(all_emoji_list).most_common(10)[i][1] for i in range(10)]\n",
        "top_ten_emoji_frequency"
      ],
      "metadata": {
        "colab": {
          "base_uri": "https://localhost:8080/"
        },
        "id": "Qh5qQn9iUhv0",
        "outputId": "1368cf9a-06ec-41f7-9b34-4a5969ad084d"
      },
      "execution_count": 55,
      "outputs": [
        {
          "output_type": "execute_result",
          "data": {
            "text/plain": [
              "[105, 14, 10, 9, 9, 8, 8, 7, 7, 6]"
            ]
          },
          "metadata": {},
          "execution_count": 55
        }
      ]
    },
    {
      "cell_type": "code",
      "source": [
        "# Create the bar chart\n",
        "plt.bar(top_ten_emoji, top_ten_emoji_frequency)\n",
        "\n",
        "# Add labels and title\n",
        "plt.xlabel(\"Emoji\")\n",
        "plt.ylabel(\"Frequency\")\n",
        "plt.title(\"Top 10 Emoji Frequencies\")\n",
        "\n",
        "# Display the chart\n",
        "plt.show()"
      ],
      "metadata": {
        "colab": {
          "base_uri": "https://localhost:8080/",
          "height": 472
        },
        "id": "M3H9GQd_U7XH",
        "outputId": "048dbce4-ffe1-4159-b4c1-a46a7bff860c"
      },
      "execution_count": 59,
      "outputs": [
        {
          "output_type": "display_data",
          "data": {
            "text/plain": [
              "<Figure size 640x480 with 1 Axes>"
            ],
            "image/png": "[encoded data removed]"
          },
          "metadata": {}
        }
      ]
    },
    {
      "cell_type": "markdown",
      "source": [
        "# **Collect Entire Data**"
      ],
      "metadata": {
        "id": "RYrZSNJVa1yq"
      }
    },
    {
      "cell_type": "code",
      "source": [
        "files = os.listdir('/content/drive/My Drive/portfolio_dataset/project_1/additional_data')"
      ],
      "metadata": {
        "id": "NLDRBPZ_bAA0"
      },
      "execution_count": 79,
      "outputs": []
    },
    {
      "cell_type": "code",
      "source": [
        "files"
      ],
      "metadata": {
        "colab": {
          "base_uri": "https://localhost:8080/"
        },
        "id": "r0Vygz3-bpMT",
        "outputId": "7a69a5cf-4836-4507-a9e3-e89a983e9ae2"
      },
      "execution_count": 80,
      "outputs": [
        {
          "output_type": "execute_result",
          "data": {
            "text/plain": [
              "['MX_category_id.json',\n",
              " 'IN_category_id.json',\n",
              " 'CA_category_id.json',\n",
              " 'FR_category_id.json',\n",
              " 'DE_category_id.json',\n",
              " 'GB_category_id.json',\n",
              " 'JP_category_id.json',\n",
              " 'KR_category_id.json',\n",
              " 'RU_category_id.json',\n",
              " 'US_category_id.json',\n",
              " 'FRvideos.csv',\n",
              " 'JPvideos.csv',\n",
              " 'INvideos.csv',\n",
              " 'GBvideos.csv',\n",
              " 'DEvideos.csv',\n",
              " 'CAvideos.csv',\n",
              " 'USvideos.csv',\n",
              " 'RUvideos.csv',\n",
              " 'KRvideos.csv',\n",
              " 'MXvideos.csv',\n",
              " 'CAvideos.gsheet']"
            ]
          },
          "metadata": {},
          "execution_count": 80
        }
      ]
    },
    {
      "cell_type": "code",
      "source": [
        "files_csv = [file for file in files if '.csv' in file]"
      ],
      "metadata": {
        "id": "CP00I-Nnb7Cd"
      },
      "execution_count": 81,
      "outputs": []
    },
    {
      "cell_type": "code",
      "source": [
        "files_csv"
      ],
      "metadata": {
        "colab": {
          "base_uri": "https://localhost:8080/"
        },
        "id": "QvUDYRZecPeR",
        "outputId": "5712bf40-0a2d-402b-e133-225327243b6a"
      },
      "execution_count": 82,
      "outputs": [
        {
          "output_type": "execute_result",
          "data": {
            "text/plain": [
              "['FRvideos.csv',\n",
              " 'JPvideos.csv',\n",
              " 'INvideos.csv',\n",
              " 'GBvideos.csv',\n",
              " 'DEvideos.csv',\n",
              " 'CAvideos.csv',\n",
              " 'USvideos.csv',\n",
              " 'RUvideos.csv',\n",
              " 'KRvideos.csv',\n",
              " 'MXvideos.csv']"
            ]
          },
          "metadata": {},
          "execution_count": 82
        }
      ]
    },
    {
      "cell_type": "code",
      "source": [
        "filterwarnings('ignore')"
      ],
      "metadata": {
        "id": "Il96nDBxerWa"
      },
      "execution_count": 83,
      "outputs": []
    },
    {
      "cell_type": "code",
      "source": [
        "combined_csv_df = pd.DataFrame()\n",
        "path = '/content/drive/My Drive/portfolio_dataset/project_1/additional_data'\n",
        "\n",
        "for file in files_csv:\n",
        "  current_df = pd.read_csv(path+'/'+file, encoding='iso-8859-1', on_bad_lines='skip')\n",
        "  combined_csv_df = pd.concat([combined_csv_df, current_df], ignore_index=True)"
      ],
      "metadata": {
        "id": "FQk0N60Ue0aZ"
      },
      "execution_count": 86,
      "outputs": []
    },
    {
      "cell_type": "code",
      "source": [
        "combined_csv_df.shape"
      ],
      "metadata": {
        "colab": {
          "base_uri": "https://localhost:8080/"
        },
        "id": "WK-9orLrho85",
        "outputId": "64b76e66-3490-47d0-8a50-f503c0602d6e"
      },
      "execution_count": 87,
      "outputs": [
        {
          "output_type": "execute_result",
          "data": {
            "text/plain": [
              "(375942, 16)"
            ]
          },
          "metadata": {},
          "execution_count": 87
        }
      ]
    }
  ]
}